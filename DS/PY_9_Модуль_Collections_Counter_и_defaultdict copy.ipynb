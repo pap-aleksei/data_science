{
 "cells": [
  {
   "attachments": {},
   "cell_type": "markdown",
   "metadata": {},
   "source": [
    "## COUNTER"
   ]
  },
  {
   "cell_type": "code",
   "execution_count": 1,
   "metadata": {},
   "outputs": [],
   "source": [
    "from collections import Counter"
   ]
  },
  {
   "cell_type": "code",
   "execution_count": 2,
   "metadata": {},
   "outputs": [],
   "source": [
    "c = Counter()"
   ]
  },
  {
   "cell_type": "code",
   "execution_count": 3,
   "metadata": {},
   "outputs": [
    {
     "name": "stdout",
     "output_type": "stream",
     "text": [
      "Counter({'red': 1})\n"
     ]
    }
   ],
   "source": [
    "c['red'] += 1\n",
    "print(c)"
   ]
  },
  {
   "cell_type": "code",
   "execution_count": 4,
   "metadata": {},
   "outputs": [],
   "source": [
    "cars = ['red', 'blue', 'black', 'black', 'black', 'red', 'blue', 'red', 'white']"
   ]
  },
  {
   "cell_type": "code",
   "execution_count": 5,
   "metadata": {},
   "outputs": [
    {
     "name": "stdout",
     "output_type": "stream",
     "text": [
      "Counter({'red': 3, 'black': 3, 'blue': 2, 'white': 1})\n"
     ]
    }
   ],
   "source": [
    "c = Counter()\n",
    "for car in cars:\n",
    "    c[car] += 1\n",
    "\n",
    "print(c)"
   ]
  },
  {
   "cell_type": "code",
   "execution_count": 6,
   "metadata": {},
   "outputs": [
    {
     "name": "stdout",
     "output_type": "stream",
     "text": [
      "Counter({'red': 3, 'black': 3, 'blue': 2, 'white': 1})\n"
     ]
    }
   ],
   "source": [
    "c_new = Counter(cars)\n",
    "print(c_new)"
   ]
  },
  {
   "cell_type": "code",
   "execution_count": 7,
   "metadata": {},
   "outputs": [
    {
     "data": {
      "text/plain": [
       "3"
      ]
     },
     "execution_count": 7,
     "metadata": {},
     "output_type": "execute_result"
    }
   ],
   "source": [
    "c_new['black']"
   ]
  },
  {
   "cell_type": "code",
   "execution_count": 8,
   "metadata": {},
   "outputs": [
    {
     "name": "stdout",
     "output_type": "stream",
     "text": [
      "9\n"
     ]
    }
   ],
   "source": [
    "print(sum(c.values()))"
   ]
  },
  {
   "cell_type": "code",
   "execution_count": 9,
   "metadata": {},
   "outputs": [
    {
     "name": "stdout",
     "output_type": "stream",
     "text": [
      "dict_values([3, 2, 3, 1])\n"
     ]
    }
   ],
   "source": [
    "print(c.values())"
   ]
  },
  {
   "attachments": {},
   "cell_type": "markdown",
   "metadata": {},
   "source": [
    "### ОПЕРАЦИИ С COUNTER"
   ]
  },
  {
   "cell_type": "code",
   "execution_count": 10,
   "metadata": {},
   "outputs": [],
   "source": [
    "cars_moscow = ['black', 'black', 'white', 'black', 'black', 'white', 'yellow', 'yellow', 'yellow']\n",
    "cars_spb = ['red', 'black', 'black', 'white', 'white', 'yellow', 'yellow', 'red', 'white']"
   ]
  },
  {
   "cell_type": "code",
   "execution_count": 11,
   "metadata": {},
   "outputs": [
    {
     "name": "stdout",
     "output_type": "stream",
     "text": [
      "Counter({'black': 4, 'yellow': 3, 'white': 2})\n",
      "Counter({'white': 3, 'red': 2, 'black': 2, 'yellow': 2})\n"
     ]
    }
   ],
   "source": [
    "counter_moscow = Counter(cars_moscow)\n",
    "counter_spb = Counter(cars_spb)\n",
    " \n",
    "print(counter_moscow)\n",
    "print(counter_spb)"
   ]
  },
  {
   "cell_type": "code",
   "execution_count": 12,
   "metadata": {},
   "outputs": [
    {
     "name": "stdout",
     "output_type": "stream",
     "text": [
      "Counter({'black': 6, 'white': 5, 'yellow': 5, 'red': 2})\n"
     ]
    }
   ],
   "source": [
    "print(counter_moscow + counter_spb)"
   ]
  },
  {
   "cell_type": "code",
   "execution_count": 13,
   "metadata": {},
   "outputs": [
    {
     "name": "stdout",
     "output_type": "stream",
     "text": [
      "Counter({'black': 4, 'yellow': 3, 'white': 2})\n",
      "Counter({'white': 3, 'red': 2, 'black': 2, 'yellow': 2})\n",
      "Counter({'black': 2, 'yellow': 1, 'white': -1, 'red': -2})\n"
     ]
    }
   ],
   "source": [
    "print(counter_moscow)\n",
    "print(counter_spb)\n",
    "\n",
    "counter_moscow.subtract(counter_spb)\n",
    "print(counter_moscow)"
   ]
  },
  {
   "cell_type": "code",
   "execution_count": 14,
   "metadata": {},
   "outputs": [
    {
     "name": "stdout",
     "output_type": "stream",
     "text": [
      "Counter({'black': 2, 'yellow': 1})\n"
     ]
    }
   ],
   "source": [
    "counter_moscow = Counter(cars_moscow)\n",
    "counter_spb = Counter(cars_spb)\n",
    "\n",
    "print(counter_moscow - counter_spb)"
   ]
  },
  {
   "attachments": {},
   "cell_type": "markdown",
   "metadata": {},
   "source": [
    "### ДОПОЛНИТЕЛЬНЫЕ ФУНКЦИИ"
   ]
  },
  {
   "cell_type": "code",
   "execution_count": 15,
   "metadata": {},
   "outputs": [
    {
     "name": "stdout",
     "output_type": "stream",
     "text": [
      "black black black black white white yellow yellow yellow\n"
     ]
    }
   ],
   "source": [
    "print(*counter_moscow.elements())"
   ]
  },
  {
   "cell_type": "code",
   "execution_count": 16,
   "metadata": {},
   "outputs": [
    {
     "name": "stdout",
     "output_type": "stream",
     "text": [
      "['black', 'white', 'yellow']\n"
     ]
    }
   ],
   "source": [
    "print(list(counter_moscow))"
   ]
  },
  {
   "cell_type": "code",
   "execution_count": 17,
   "metadata": {},
   "outputs": [
    {
     "name": "stdout",
     "output_type": "stream",
     "text": [
      "{'black': 4, 'white': 2, 'yellow': 3}\n"
     ]
    }
   ],
   "source": [
    "print(dict(counter_moscow))"
   ]
  },
  {
   "cell_type": "code",
   "execution_count": 18,
   "metadata": {},
   "outputs": [
    {
     "name": "stdout",
     "output_type": "stream",
     "text": [
      "[('black', 4), ('yellow', 3), ('white', 2)]\n"
     ]
    }
   ],
   "source": [
    "print(counter_moscow.most_common())"
   ]
  },
  {
   "cell_type": "code",
   "execution_count": 19,
   "metadata": {},
   "outputs": [
    {
     "name": "stdout",
     "output_type": "stream",
     "text": [
      "[('black', 4), ('yellow', 3)]\n"
     ]
    }
   ],
   "source": [
    "print(counter_moscow.most_common(2))"
   ]
  },
  {
   "cell_type": "code",
   "execution_count": 20,
   "metadata": {},
   "outputs": [
    {
     "name": "stdout",
     "output_type": "stream",
     "text": [
      "4\n"
     ]
    }
   ],
   "source": [
    "print(len(counter_spb))"
   ]
  },
  {
   "attachments": {},
   "cell_type": "markdown",
   "metadata": {},
   "source": [
    "## DEFAULTDICT"
   ]
  },
  {
   "cell_type": "code",
   "execution_count": 21,
   "metadata": {},
   "outputs": [],
   "source": [
    "students = [('Ivanov',1),('Smirnov',4),('Petrov',3),('Kuznetsova',1),\n",
    "            ('Nikitina',2),('Markov',3),('Pavlov',2)]"
   ]
  },
  {
   "cell_type": "code",
   "execution_count": 22,
   "metadata": {},
   "outputs": [
    {
     "name": "stdout",
     "output_type": "stream",
     "text": [
      "{1: ['Ivanov', 'Kuznetsova'], 4: ['Smirnov'], 3: ['Petrov', 'Markov'], 2: ['Nikitina', 'Pavlov']}\n"
     ]
    }
   ],
   "source": [
    "groups = dict()\n",
    "\n",
    "for student, group in students:\n",
    "    if group not in groups:\n",
    "        groups[group] = list()\n",
    "    groups[group].append(student)\n",
    "\n",
    "print(groups)"
   ]
  },
  {
   "cell_type": "code",
   "execution_count": 23,
   "metadata": {},
   "outputs": [
    {
     "ename": "KeyError",
     "evalue": "1",
     "output_type": "error",
     "traceback": [
      "\u001b[1;31m---------------------------------------------------------------------------\u001b[0m",
      "\u001b[1;31mKeyError\u001b[0m                                  Traceback (most recent call last)",
      "Cell \u001b[1;32mIn[23], line 4\u001b[0m\n\u001b[0;32m      1\u001b[0m groups \u001b[39m=\u001b[39m \u001b[39mdict\u001b[39m()\n\u001b[0;32m      3\u001b[0m \u001b[39mfor\u001b[39;00m student, group \u001b[39min\u001b[39;00m students:\n\u001b[1;32m----> 4\u001b[0m     groups[group]\u001b[39m.\u001b[39mappend(student)\n\u001b[0;32m      6\u001b[0m \u001b[39mprint\u001b[39m(groups)\n",
      "\u001b[1;31mKeyError\u001b[0m: 1"
     ]
    }
   ],
   "source": [
    "groups = dict()\n",
    " \n",
    "for student, group in students:\n",
    "    groups[group].append(student)\n",
    " \n",
    "print(groups)"
   ]
  },
  {
   "cell_type": "code",
   "execution_count": null,
   "metadata": {},
   "outputs": [],
   "source": [
    "from collections import defaultdict"
   ]
  },
  {
   "cell_type": "code",
   "execution_count": null,
   "metadata": {},
   "outputs": [],
   "source": [
    "groups = defaultdict(list)"
   ]
  },
  {
   "cell_type": "code",
   "execution_count": null,
   "metadata": {},
   "outputs": [
    {
     "name": "stdout",
     "output_type": "stream",
     "text": [
      "defaultdict(<class 'list'>, {1: ['Ivanov', 'Kuznetsova'], 4: ['Smirnov'], 3: ['Petrov', 'Markov'], 2: ['Nikitina', 'Pavlov']})\n"
     ]
    }
   ],
   "source": [
    "for student, group in students:\n",
    "    groups[group].append(student)\n",
    " \n",
    "print(groups)"
   ]
  },
  {
   "cell_type": "code",
   "execution_count": null,
   "metadata": {},
   "outputs": [
    {
     "name": "stdout",
     "output_type": "stream",
     "text": [
      "['Petrov', 'Markov']\n"
     ]
    }
   ],
   "source": [
    "print(groups[3])"
   ]
  },
  {
   "cell_type": "code",
   "execution_count": null,
   "metadata": {},
   "outputs": [
    {
     "name": "stdout",
     "output_type": "stream",
     "text": [
      "[]\n"
     ]
    }
   ],
   "source": [
    "print(groups[2021])"
   ]
  },
  {
   "cell_type": "code",
   "execution_count": null,
   "metadata": {},
   "outputs": [
    {
     "name": "stdout",
     "output_type": "stream",
     "text": [
      "defaultdict(<class 'list'>, {1: ['Ivanov', 'Kuznetsova'], 4: ['Smirnov'], 3: ['Petrov', 'Markov'], 2: ['Nikitina', 'Pavlov'], 2021: []})\n"
     ]
    }
   ],
   "source": [
    "print(groups)"
   ]
  },
  {
   "cell_type": "code",
   "execution_count": null,
   "metadata": {},
   "outputs": [
    {
     "name": "stdout",
     "output_type": "stream",
     "text": [
      "<class 'dict'>\n",
      "<class 'collections.defaultdict'>\n"
     ]
    }
   ],
   "source": [
    "dict_object = dict()\n",
    "defaultdict_object = defaultdict()\n",
    " \n",
    "print(type(dict_object))\n",
    "print(type(defaultdict_object))"
   ]
  },
  {
   "attachments": {},
   "cell_type": "markdown",
   "metadata": {},
   "source": [
    "# 3. Модуль Collections. Deque и OrderedDict"
   ]
  },
  {
   "attachments": {},
   "cell_type": "markdown",
   "metadata": {},
   "source": [
    "### ORDEREDDICT"
   ]
  },
  {
   "cell_type": "code",
   "execution_count": null,
   "metadata": {},
   "outputs": [
    {
     "name": "stdout",
     "output_type": "stream",
     "text": [
      "{'Ivan': 19, 'Mark': 25, 'Andrey': 23, 'Maria': 20}\n"
     ]
    }
   ],
   "source": [
    "data = [('Ivan', 19),('Mark', 25),('Andrey', 23),('Maria', 20)]\n",
    "client_ages = dict(data)\n",
    "print(client_ages)"
   ]
  },
  {
   "cell_type": "code",
   "execution_count": null,
   "metadata": {},
   "outputs": [
    {
     "name": "stdout",
     "output_type": "stream",
     "text": [
      "OrderedDict([('Ivan', 19), ('Mark', 25), ('Andrey', 23), ('Maria', 20)])\n"
     ]
    }
   ],
   "source": [
    "from collections import OrderedDict\n",
    "data = [('Ivan', 19),('Mark', 25),('Andrey', 23),('Maria', 20)]\n",
    "ordered_client_ages = OrderedDict(data)\n",
    "print(ordered_client_ages)"
   ]
  },
  {
   "cell_type": "code",
   "execution_count": null,
   "metadata": {},
   "outputs": [
    {
     "name": "stdout",
     "output_type": "stream",
     "text": [
      "OrderedDict([('Ivan', 19), ('Maria', 20), ('Andrey', 23), ('Mark', 25)])\n"
     ]
    }
   ],
   "source": [
    "data = [('Ivan', 19),('Mark', 25),('Andrey', 23),('Maria', 20)]\n",
    "ordered_client_ages = OrderedDict(sorted(data, key=lambda x: x[1]))\n",
    "print(ordered_client_ages)"
   ]
  },
  {
   "cell_type": "code",
   "execution_count": null,
   "metadata": {},
   "outputs": [
    {
     "name": "stdout",
     "output_type": "stream",
     "text": [
      "OrderedDict([('Ivan', 19), ('Maria', 20), ('Andrey', 23), ('Mark', 25), ('Nikita', 18)])\n"
     ]
    }
   ],
   "source": [
    "ordered_client_ages['Nikita'] = 18\n",
    "print(ordered_client_ages)"
   ]
  },
  {
   "cell_type": "code",
   "execution_count": null,
   "metadata": {},
   "outputs": [
    {
     "name": "stdout",
     "output_type": "stream",
     "text": [
      "OrderedDict([('Ivan', 19), ('Maria', 20), ('Mark', 25), ('Nikita', 18)])\n",
      "OrderedDict([('Ivan', 19), ('Maria', 20), ('Mark', 25), ('Nikita', 18), ('Andrey', 23)])\n"
     ]
    }
   ],
   "source": [
    "del ordered_client_ages['Andrey']\n",
    "print(ordered_client_ages)\n",
    "ordered_client_ages['Andrey'] = 23\n",
    "print(ordered_client_ages)"
   ]
  },
  {
   "cell_type": "code",
   "execution_count": null,
   "metadata": {},
   "outputs": [
    {
     "name": "stdout",
     "output_type": "stream",
     "text": [
      "3.11.0 (main, Oct 24 2022, 18:26:48) [MSC v.1933 64 bit (AMD64)]\n"
     ]
    }
   ],
   "source": [
    "import sys\n",
    "print(sys.version)"
   ]
  },
  {
   "attachments": {},
   "cell_type": "markdown",
   "metadata": {},
   "source": [
    "## DEQUE"
   ]
  },
  {
   "cell_type": "code",
   "execution_count": null,
   "metadata": {},
   "outputs": [
    {
     "name": "stdout",
     "output_type": "stream",
     "text": [
      "deque([])\n"
     ]
    }
   ],
   "source": [
    "from collections import deque\n",
    "dq = deque()\n",
    "print(dq)"
   ]
  },
  {
   "cell_type": "code",
   "execution_count": null,
   "metadata": {},
   "outputs": [
    {
     "name": "stdout",
     "output_type": "stream",
     "text": [
      "deque(['Ivanov', 'Petrov', 'Smirnov', 'Tikhonova'])\n"
     ]
    }
   ],
   "source": [
    "clients = deque()\n",
    "clients.append('Ivanov')\n",
    "clients.append('Petrov')\n",
    "clients.append('Smirnov')\n",
    "clients.append('Tikhonova')\n",
    "print(clients)"
   ]
  },
  {
   "cell_type": "code",
   "execution_count": null,
   "metadata": {},
   "outputs": [
    {
     "name": "stdout",
     "output_type": "stream",
     "text": [
      "Smirnov\n"
     ]
    }
   ],
   "source": [
    "print(clients[2])"
   ]
  },
  {
   "cell_type": "code",
   "execution_count": null,
   "metadata": {},
   "outputs": [
    {
     "name": "stdout",
     "output_type": "stream",
     "text": [
      "First client: Ivanov\n",
      "Second client: Petrov\n",
      "deque(['Smirnov', 'Tikhonova'])\n"
     ]
    }
   ],
   "source": [
    "first_client = clients.popleft()\n",
    "second_client = clients.popleft()\n",
    "\n",
    "print(\"First client:\", first_client)\n",
    "print(\"Second client:\", second_client)\n",
    "print(clients)"
   ]
  },
  {
   "cell_type": "code",
   "execution_count": null,
   "metadata": {},
   "outputs": [
    {
     "name": "stdout",
     "output_type": "stream",
     "text": [
      "deque(['Vip-client', 'Smirnov', 'Tikhonova'])\n"
     ]
    }
   ],
   "source": [
    "clients.appendleft('Vip-client')\n",
    "\n",
    "print(clients)"
   ]
  },
  {
   "cell_type": "code",
   "execution_count": null,
   "metadata": {},
   "outputs": [
    {
     "name": "stdout",
     "output_type": "stream",
     "text": [
      "Tikhonova left the queue\n",
      "deque(['Vip-client', 'Smirnov'])\n"
     ]
    }
   ],
   "source": [
    "tired_client = clients.pop()\n",
    "print(tired_client, \"left the queue\")\n",
    "print(clients)"
   ]
  },
  {
   "cell_type": "code",
   "execution_count": null,
   "metadata": {},
   "outputs": [
    {
     "name": "stdout",
     "output_type": "stream",
     "text": [
      "deque(['Ivanov', 'Petrov', 'Smirnov', 'Tikhonova'])\n",
      "deque(['Ivanov', 'Petrov', 'Tikhonova'])\n"
     ]
    }
   ],
   "source": [
    "clients = deque(['Ivanov', 'Petrov', 'Smirnov', 'Tikhonova'])\n",
    "print(clients)\n",
    "del clients[2]\n",
    "print(clients)"
   ]
  },
  {
   "cell_type": "code",
   "execution_count": null,
   "metadata": {},
   "outputs": [
    {
     "name": "stdout",
     "output_type": "stream",
     "text": [
      "deque([1, 2, 3, 4, 5])\n",
      "deque([1, 2, 3, 4, 5, 11, 12, 13, 14, 15, 16, 17])\n"
     ]
    }
   ],
   "source": [
    "shop = deque([1, 2, 3, 4, 5])\n",
    "print(shop)\n",
    "shop.extend([11, 12, 13, 14, 15, 16, 17])\n",
    "print(shop)"
   ]
  },
  {
   "cell_type": "code",
   "execution_count": null,
   "metadata": {},
   "outputs": [
    {
     "name": "stdout",
     "output_type": "stream",
     "text": [
      "deque([1, 2, 3, 4, 5])\n",
      "deque([17, 16, 15, 14, 13, 12, 11, 1, 2, 3, 4, 5])\n"
     ]
    }
   ],
   "source": [
    "shop = deque([1, 2, 3, 4, 5])\n",
    "print(shop)\n",
    "shop.extendleft([11, 12, 13, 14, 15, 16, 17])\n",
    "print(shop)"
   ]
  },
  {
   "cell_type": "code",
   "execution_count": null,
   "metadata": {},
   "outputs": [
    {
     "name": "stdout",
     "output_type": "stream",
     "text": [
      "deque([], maxlen=3)\n",
      "deque([5, 6, 7], maxlen=3)\n"
     ]
    }
   ],
   "source": [
    "limited = deque(maxlen=3)\n",
    "print(limited)\n",
    "\n",
    "limited_from_list = deque([1,3,4,5,6,7], maxlen=3)\n",
    "print(limited_from_list)"
   ]
  },
  {
   "cell_type": "code",
   "execution_count": null,
   "metadata": {},
   "outputs": [
    {
     "name": "stdout",
     "output_type": "stream",
     "text": [
      "deque([1, 2, 3], maxlen=3)\n",
      "None\n",
      "deque([2, 3, 8], maxlen=3)\n"
     ]
    }
   ],
   "source": [
    "limited.extend([1,2,3])\n",
    "print(limited)\n",
    "\n",
    "print(limited.append(8))\n",
    "\n",
    "print(limited)"
   ]
  },
  {
   "cell_type": "code",
   "execution_count": null,
   "metadata": {},
   "outputs": [],
   "source": [
    "temps = [20.6, 19.4, 19.0, 19.0, 22.1,\n",
    "        22.5, 22.8, 24.1, 25.6, 27.0,\n",
    "        27.0, 25.6, 26.8, 27.3, 22.5,\n",
    "        25.4, 24.4, 23.7, 23.6, 22.6,\n",
    "        20.4, 17.9, 17.3, 17.3, 18.1,\n",
    "        20.1, 22.2, 19.8, 21.3, 21.3,\n",
    "        21.9]"
   ]
  },
  {
   "cell_type": "code",
   "execution_count": null,
   "metadata": {},
   "outputs": [
    {
     "name": "stdout",
     "output_type": "stream",
     "text": [
      "20.77;21.27;22.16;23.3;24.44;24.94;25.56;26.2;25.97;25.94;25.57;25.1;24.81;24.21;23.23;22.57;21.41;20.4;19.6;19.1;19.04;18.96;19.44;20.01;20.67;\n"
     ]
    }
   ],
   "source": [
    "days = deque(maxlen=7)\n",
    "\n",
    "for temp in temps:\n",
    "    days.append(temp)\n",
    "    if len(days) == days.maxlen:\n",
    "        print(round(sum(days) / len(days), 2), end=';')\n",
    "print(\"\")"
   ]
  },
  {
   "cell_type": "code",
   "execution_count": null,
   "metadata": {},
   "outputs": [
    {
     "name": "stdout",
     "output_type": "stream",
     "text": [
      "deque([1, 2, 3, 4, 5])\n",
      "deque([5, 4, 3, 2, 1])\n"
     ]
    }
   ],
   "source": [
    "dq = deque([1,2,3,4,5])\n",
    "print(dq)\n",
    "\n",
    "dq.reverse()\n",
    "print(dq)"
   ]
  },
  {
   "cell_type": "code",
   "execution_count": null,
   "metadata": {},
   "outputs": [
    {
     "name": "stdout",
     "output_type": "stream",
     "text": [
      "deque([1, 2, 3, 4, 5])\n",
      "deque([4, 5, 1, 2, 3])\n"
     ]
    }
   ],
   "source": [
    "dq = deque([1,2,3,4,5])\n",
    "print(dq)\n",
    "\n",
    "dq.rotate(2)\n",
    "print(dq)\n"
   ]
  },
  {
   "cell_type": "code",
   "execution_count": null,
   "metadata": {},
   "outputs": [
    {
     "name": "stdout",
     "output_type": "stream",
     "text": [
      "deque([1, 2, 3, 4, 5])\n",
      "deque([3, 4, 5, 1, 2])\n"
     ]
    }
   ],
   "source": [
    "dq = deque([1,2,3,4,5])\n",
    "print(dq)\n",
    "\n",
    "dq.rotate(-2)\n",
    "print(dq)"
   ]
  },
  {
   "cell_type": "code",
   "execution_count": null,
   "metadata": {},
   "outputs": [
    {
     "name": "stdout",
     "output_type": "stream",
     "text": [
      "2\n",
      "6\n"
     ]
    }
   ],
   "source": [
    "dq = [1,2,4,2,3,1,5,4,4,4,4,4,3]\n",
    "print(dq.index(4))\n",
    "print(dq.count(4))"
   ]
  },
  {
   "cell_type": "code",
   "execution_count": null,
   "metadata": {},
   "outputs": [
    {
     "ename": "ValueError",
     "evalue": "25 is not in deque",
     "output_type": "error",
     "traceback": [
      "\u001b[1;31m---------------------------------------------------------------------------\u001b[0m",
      "\u001b[1;31mValueError\u001b[0m                                Traceback (most recent call last)",
      "Cell \u001b[1;32mIn[36], line 2\u001b[0m\n\u001b[0;32m      1\u001b[0m dq \u001b[39m=\u001b[39m deque([\u001b[39m1\u001b[39m,\u001b[39m2\u001b[39m,\u001b[39m4\u001b[39m,\u001b[39m2\u001b[39m,\u001b[39m3\u001b[39m,\u001b[39m1\u001b[39m,\u001b[39m5\u001b[39m,\u001b[39m4\u001b[39m,\u001b[39m4\u001b[39m,\u001b[39m4\u001b[39m,\u001b[39m4\u001b[39m,\u001b[39m4\u001b[39m,\u001b[39m3\u001b[39m])\n\u001b[1;32m----> 2\u001b[0m \u001b[39mprint\u001b[39m(dq\u001b[39m.\u001b[39;49mindex(\u001b[39m25\u001b[39;49m))\n",
      "\u001b[1;31mValueError\u001b[0m: 25 is not in deque"
     ]
    }
   ],
   "source": [
    "dq = deque([1,2,4,2,3,1,5,4,4,4,4,4,3])\n",
    "print(dq.index(25))"
   ]
  },
  {
   "cell_type": "code",
   "execution_count": null,
   "metadata": {},
   "outputs": [
    {
     "name": "stdout",
     "output_type": "stream",
     "text": [
      "0\n"
     ]
    }
   ],
   "source": [
    "dq = deque([1,2,4,2,3,1,5,4,4,4,4,4,3])\n",
    "print(dq.count(25))"
   ]
  },
  {
   "cell_type": "code",
   "execution_count": null,
   "metadata": {},
   "outputs": [
    {
     "name": "stdout",
     "output_type": "stream",
     "text": [
      "deque([1, 2, 4, 2, 3, 1, 5, 4, 4, 4, 4, 4, 3])\n",
      "deque([])\n"
     ]
    }
   ],
   "source": [
    "dq = deque([1,2,4,2,3,1,5,4,4,4,4,4,3])\n",
    "print(dq)\n",
    "dq.clear()\n",
    "print(dq)"
   ]
  },
  {
   "cell_type": "code",
   "execution_count": null,
   "metadata": {},
   "outputs": [
    {
     "name": "stdout",
     "output_type": "stream",
     "text": [
      "OrderedDict([('2001', -2.5), ('2000', -4.4), ('2002', -4.4), ('2003', -9.5)])\n"
     ]
    }
   ],
   "source": [
    "temps = [('2000', -4.4), ('2001', -2.5), ('2002', -4.4), ('2003', -9.5)]\n",
    "\n",
    "def check(tempss):\n",
    "    dict = OrderedDict(sorted(temps, key=lambda x: x[1], reverse=True))\n",
    "    return dict\n",
    "\n",
    "print(check(temps))"
   ]
  },
  {
   "cell_type": "code",
   "execution_count": null,
   "metadata": {},
   "outputs": [
    {
     "name": "stdout",
     "output_type": "stream",
     "text": [
      "True\n",
      "True\n",
      "False\n"
     ]
    }
   ],
   "source": [
    "from collections import deque\n",
    "\n",
    "def brackets(line):\n",
    "    stash = deque()\n",
    "    for i in line:\n",
    "        if i == '(':\n",
    "            stash.append(i)\n",
    "        if i == ')':\n",
    "            try:\n",
    "                stash.pop()\n",
    "            except IndexError:\n",
    "                return False\n",
    "    if len(stash) == 0:\n",
    "        return True\n",
    "    if len(stash) > 0:\n",
    "        return False\n",
    "\n",
    "\n",
    "\n",
    "print(brackets(\"(()())\"))\n",
    "print(brackets(\"\"))\n",
    "print(brackets(\"(()()))\"))"
   ]
  },
  {
   "cell_type": "code",
   "execution_count": null,
   "metadata": {},
   "outputs": [
    {
     "name": "stdout",
     "output_type": "stream",
     "text": [
      "OrderedDict([('WokAndRice', 4.9), ('WokToWork', 4.9), ('General Foods', 4.8), ('New Age', 4.6), ('Belissimo', 4.5), ('CakeAndCoffee', 4.2), ('CakeOClock', 4.2), ('CakeTime', 4.1), ('Nice Cakes', 3.9), ('Old Gold', 3.3), ('Old Wine Cellar', 3.3), ('Old York', 3.3)])\n"
     ]
    }
   ],
   "source": [
    "ratings = [('Old York', 3.3), ('New Age', 4.6), ('Old Gold', 3.3), ('General Foods', 4.8),\n",
    "           ('Belissimo', 4.5), ('CakeAndCoffee', 4.2), ('CakeOClock', 4.2), ('CakeTime', 4.1),\n",
    "           ('WokToWork', 4.9), ('WokAndRice', 4.9), ('Old Wine Cellar', 3.3), ('Nice Cakes', 3.9)]\n",
    "\n",
    "from collections import OrderedDict\n",
    "\n",
    "cafes = OrderedDict(sorted(ratings, key=lambda x: (-x[1], x[0])))\n",
    "\n",
    "print(cafes)\n",
    "#OrderedDict([('WokAndRice', 4.9), ('WokToWork', 4.9), ('General Foods', 4.8), ('New Age', 4.6), ('Belissimo', 4.5),\n",
    "#('CakeAndCoffee', 4.2), ('CakeOClock', 4.2), ('CakeTime', 4.1), ('Nice Cakes', 3.9), ('Old Gold', 3.3),\n",
    "#('Old Wine Cellar', 3.3), ('Old York', 3.3)])"
   ]
  },
  {
   "cell_type": "code",
   "execution_count": null,
   "metadata": {},
   "outputs": [
    {
     "name": "stdout",
     "output_type": "stream",
     "text": [
      "defaultdict(<class 'collections.deque'>, {})\n"
     ]
    }
   ],
   "source": [
    "tasks = [(36871, 'office', False),\n",
    "(40690, 'office', False),\n",
    "(35364, 'voltage', False),\n",
    "(41667, 'voltage', True),\n",
    "(33850, 'office', False)]\n",
    "\n",
    "from collections import defaultdict, deque\n",
    "def task_manager(tasks):\n",
    "    tasks = defaultdict(deque)\n",
    "    for n, server, vip in tasks:\n",
    "        if vip is True:\n",
    "            tasks[server].appendleft(n)\n",
    "        else:\n",
    "            tasks[server].append(n)\n",
    "    return tasks\n",
    "\n",
    "print(task_manager(tasks))"
   ]
  },
  {
   "attachments": {},
   "cell_type": "markdown",
   "metadata": {},
   "source": [
    "# 5. Модуль NumPy. Типы данных"
   ]
  },
  {
   "cell_type": "code",
   "execution_count": 24,
   "metadata": {},
   "outputs": [],
   "source": [
    "import numpy as np"
   ]
  },
  {
   "cell_type": "code",
   "execution_count": null,
   "metadata": {},
   "outputs": [
    {
     "name": "stdout",
     "output_type": "stream",
     "text": [
      "-32768.0\n",
      "32767.0\n"
     ]
    }
   ],
   "source": [
    "print(-(2**16)/2)\n",
    "print((2**16)/2-1)"
   ]
  },
  {
   "attachments": {},
   "cell_type": "markdown",
   "metadata": {},
   "source": [
    "### ЦЕЛОЧИСЛЕННЫЕ ТИПЫ ДАННЫХ В NUMPY"
   ]
  },
  {
   "cell_type": "code",
   "execution_count": null,
   "metadata": {},
   "outputs": [
    {
     "name": "stdout",
     "output_type": "stream",
     "text": [
      "25\n",
      "<class 'numpy.int8'>\n"
     ]
    }
   ],
   "source": [
    "a = np.int8(25)\n",
    "print(a)\n",
    "print(type(a))"
   ]
  },
  {
   "cell_type": "code",
   "execution_count": null,
   "metadata": {},
   "outputs": [
    {
     "name": "stdout",
     "output_type": "stream",
     "text": [
      "Machine parameters for int16\n",
      "---------------------------------------------------------------\n",
      "min = -32768\n",
      "max = 32767\n",
      "---------------------------------------------------------------\n",
      "\n",
      "Machine parameters for int8\n",
      "---------------------------------------------------------------\n",
      "min = -128\n",
      "max = 127\n",
      "---------------------------------------------------------------\n",
      "\n"
     ]
    }
   ],
   "source": [
    "print(np.iinfo(np.int16))\n",
    "print(np.iinfo(a))"
   ]
  },
  {
   "cell_type": "code",
   "execution_count": null,
   "metadata": {},
   "outputs": [
    {
     "data": {
      "text/plain": [
       "iinfo(min=-9223372036854775808, max=9223372036854775807, dtype=int64)"
      ]
     },
     "execution_count": 12,
     "metadata": {},
     "output_type": "execute_result"
    }
   ],
   "source": [
    "np.iinfo(np.int64)"
   ]
  },
  {
   "cell_type": "code",
   "execution_count": null,
   "metadata": {},
   "outputs": [
    {
     "name": "stdout",
     "output_type": "stream",
     "text": [
      "124\n",
      "<class 'numpy.uint8'>\n"
     ]
    },
    {
     "data": {
      "text/plain": [
       "iinfo(min=0, max=255, dtype=uint8)"
      ]
     },
     "execution_count": 15,
     "metadata": {},
     "output_type": "execute_result"
    }
   ],
   "source": [
    "b = np.uint8(124)\n",
    "print(b)\n",
    "print(type(b))\n",
    "np.iinfo(np.uint8)"
   ]
  },
  {
   "cell_type": "code",
   "execution_count": null,
   "metadata": {},
   "outputs": [
    {
     "name": "stdout",
     "output_type": "stream",
     "text": [
      "1000\n",
      "<class 'numpy.int32'>\n",
      "2056\n",
      "<class 'int'>\n"
     ]
    }
   ],
   "source": [
    "a = np.int32(1000)\n",
    "print(a)\n",
    "print(type(a))\n",
    "a = 2056\n",
    "print(a)\n",
    "print(type(a))"
   ]
  },
  {
   "cell_type": "code",
   "execution_count": null,
   "metadata": {},
   "outputs": [
    {
     "name": "stdout",
     "output_type": "stream",
     "text": [
      "1000\n",
      "<class 'numpy.int32'>\n",
      "2056\n",
      "<class 'numpy.int32'>\n"
     ]
    }
   ],
   "source": [
    "a = np.int32(1000)\n",
    "print(a)\n",
    "print(type(a))\n",
    "a = np.int32(2056)\n",
    "print(a)\n",
    "print(type(a))"
   ]
  },
  {
   "cell_type": "code",
   "execution_count": null,
   "metadata": {},
   "outputs": [
    {
     "name": "stdout",
     "output_type": "stream",
     "text": [
      "1025\n",
      "<class 'numpy.int32'>\n"
     ]
    }
   ],
   "source": [
    "a = np.int32(1000)\n",
    "b = a + 25\n",
    "print(b)\n",
    "print(type(b))"
   ]
  },
  {
   "cell_type": "code",
   "execution_count": null,
   "metadata": {},
   "outputs": [
    {
     "name": "stdout",
     "output_type": "stream",
     "text": [
      "1025\n",
      "<class 'numpy.int32'>\n"
     ]
    }
   ],
   "source": [
    "a = np.int32(1000)\n",
    "b = np.int8(25)\n",
    "c = a + b\n",
    "print(c)\n",
    "print(type(c))"
   ]
  },
  {
   "cell_type": "code",
   "execution_count": null,
   "metadata": {},
   "outputs": [
    {
     "name": "stdout",
     "output_type": "stream",
     "text": [
      "4\n"
     ]
    },
    {
     "name": "stderr",
     "output_type": "stream",
     "text": [
      "C:\\Users\\22775\\AppData\\Local\\Temp\\ipykernel_28664\\464275206.py:1: DeprecationWarning: NumPy will stop allowing conversion of out-of-bound Python integers to integer arrays.  The conversion of 260 to int8 will fail in the future.\n",
      "For the old behavior, usually:\n",
      "    np.array(value).astype(dtype)`\n",
      "will give the desired result (the cast overflows).\n",
      "  a = np.int8(260)\n"
     ]
    }
   ],
   "source": [
    "a = np.int8(260)\n",
    "print(a)"
   ]
  },
  {
   "cell_type": "code",
   "execution_count": null,
   "metadata": {},
   "outputs": [
    {
     "name": "stdout",
     "output_type": "stream",
     "text": [
      "2147483610 2147483605\n",
      "-81\n"
     ]
    },
    {
     "name": "stderr",
     "output_type": "stream",
     "text": [
      "C:\\Users\\22775\\AppData\\Local\\Temp\\ipykernel_28664\\1517369409.py:4: RuntimeWarning: overflow encountered in scalar add\n",
      "  print(a + b)\n"
     ]
    }
   ],
   "source": [
    "a = np.int32(2147483610)\n",
    "b = np.int32(2147483605)\n",
    "print(a, b)\n",
    "print(a + b)"
   ]
  },
  {
   "cell_type": "code",
   "execution_count": null,
   "metadata": {},
   "outputs": [
    {
     "name": "stdout",
     "output_type": "stream",
     "text": [
      "2147483610 2147483605\n",
      "4294967215\n"
     ]
    }
   ],
   "source": [
    "a = np.int32(2147483610)\n",
    "b = np.int32(2147483605)\n",
    "print(a, b)\n",
    "print(np.int64(a) + np.int64(b))"
   ]
  },
  {
   "attachments": {},
   "cell_type": "markdown",
   "metadata": {},
   "source": [
    "### ТИПЫ ДАННЫХ С ПЛАВАЮЩЕЙ ТОЧКОЙ В NUMPY"
   ]
  },
  {
   "cell_type": "code",
   "execution_count": null,
   "metadata": {},
   "outputs": [
    {
     "name": "stdout",
     "output_type": "stream",
     "text": [
      "Machine parameters for float16\n",
      "---------------------------------------------------------------\n",
      "precision =   3   resolution = 1.00040e-03\n",
      "machep =    -10   eps =        9.76562e-04\n",
      "negep =     -11   epsneg =     4.88281e-04\n",
      "minexp =    -14   tiny =       6.10352e-05\n",
      "maxexp =     16   max =        6.55040e+04\n",
      "nexp =        5   min =        -max\n",
      "smallest_normal = 6.10352e-05   smallest_subnormal = 5.96046e-08\n",
      "---------------------------------------------------------------\n",
      "\n",
      "Machine parameters for float32\n",
      "---------------------------------------------------------------\n",
      "precision =   6   resolution = 1.0000000e-06\n",
      "machep =    -23   eps =        1.1920929e-07\n",
      "negep =     -24   epsneg =     5.9604645e-08\n",
      "minexp =   -126   tiny =       1.1754944e-38\n",
      "maxexp =    128   max =        3.4028235e+38\n",
      "nexp =        8   min =        -max\n",
      "smallest_normal = 1.1754944e-38   smallest_subnormal = 1.4012985e-45\n",
      "---------------------------------------------------------------\n",
      "\n",
      "Machine parameters for float64\n",
      "---------------------------------------------------------------\n",
      "precision =  15   resolution = 1.0000000000000001e-15\n",
      "machep =    -52   eps =        2.2204460492503131e-16\n",
      "negep =     -53   epsneg =     1.1102230246251565e-16\n",
      "minexp =  -1022   tiny =       2.2250738585072014e-308\n",
      "maxexp =   1024   max =        1.7976931348623157e+308\n",
      "nexp =       11   min =        -max\n",
      "smallest_normal = 2.2250738585072014e-308   smallest_subnormal = 4.9406564584124654e-324\n",
      "---------------------------------------------------------------\n",
      "\n"
     ]
    }
   ],
   "source": [
    "print(np.finfo(np.float16))\n",
    "print(np.finfo(np.float32))\n",
    "print(np.finfo(np.float64))"
   ]
  },
  {
   "cell_type": "code",
   "execution_count": null,
   "metadata": {},
   "outputs": [
    {
     "name": "stdout",
     "output_type": "stream",
     "text": [
      "4.12\n",
      "4.13\n",
      "4.12\n",
      "4.125\n",
      "4.125\n"
     ]
    }
   ],
   "source": [
    "print(np.float16(4.12))\n",
    "print(np.float16(4.13))\n",
    "print(np.float16(4.123))\n",
    "print(np.float16(4.124))\n",
    "print(np.float16(4.125))"
   ]
  },
  {
   "attachments": {},
   "cell_type": "markdown",
   "metadata": {},
   "source": [
    "### ДОПОЛНИТЕЛЬНЫЕ ТИПЫ ДАННЫХ В NUMPY"
   ]
  },
  {
   "cell_type": "code",
   "execution_count": null,
   "metadata": {},
   "outputs": [
    {
     "name": "stdout",
     "output_type": "stream",
     "text": [
      "132\n"
     ]
    }
   ],
   "source": [
    "#print(np.sctypeDict)\n",
    "print(len(np.sctypeDict))"
   ]
  },
  {
   "cell_type": "code",
   "execution_count": null,
   "metadata": {},
   "outputs": [
    {
     "name": "stdout",
     "output_type": "stream",
     "text": [
      "<class 'numpy.bool_'>\n",
      "<class 'numpy.bytes_'>\n",
      "<class 'numpy.clongdouble'>\n",
      "<class 'numpy.complex128'>\n",
      "<class 'numpy.complex64'>\n",
      "<class 'numpy.datetime64'>\n",
      "<class 'numpy.float16'>\n",
      "<class 'numpy.float32'>\n",
      "<class 'numpy.float64'>\n",
      "<class 'numpy.int16'>\n",
      "<class 'numpy.int32'>\n",
      "<class 'numpy.int64'>\n",
      "<class 'numpy.int8'>\n",
      "<class 'numpy.intc'>\n",
      "<class 'numpy.longdouble'>\n",
      "<class 'numpy.object_'>\n",
      "<class 'numpy.str_'>\n",
      "<class 'numpy.timedelta64'>\n",
      "<class 'numpy.uint16'>\n",
      "<class 'numpy.uint32'>\n",
      "<class 'numpy.uint64'>\n",
      "<class 'numpy.uint8'>\n",
      "<class 'numpy.uintc'>\n",
      "<class 'numpy.void'>\n"
     ]
    }
   ],
   "source": [
    "print(*sorted(map(str, set(np.sctypeDict.values()))), sep='\\n')"
   ]
  },
  {
   "cell_type": "code",
   "execution_count": null,
   "metadata": {},
   "outputs": [
    {
     "name": "stdout",
     "output_type": "stream",
     "text": [
      "56\n"
     ]
    },
    {
     "name": "stderr",
     "output_type": "stream",
     "text": [
      "C:\\Users\\22775\\AppData\\Local\\Temp\\ipykernel_28664\\2324658389.py:1: DeprecationWarning: NumPy will stop allowing conversion of out-of-bound Python integers to integer arrays.  The conversion of -456 to uint8 will fail in the future.\n",
      "For the old behavior, usually:\n",
      "    np.array(value).astype(dtype)`\n",
      "will give the desired result (the cast overflows).\n",
      "  print(np.uint8(-456))\n"
     ]
    }
   ],
   "source": [
    "print(np.uint8(-456))"
   ]
  },
  {
   "attachments": {},
   "cell_type": "markdown",
   "metadata": {},
   "source": [
    "# 6. Модуль NumPy. Массивы"
   ]
  },
  {
   "attachments": {},
   "cell_type": "markdown",
   "metadata": {},
   "source": [
    "### МАССИВЫ В NUMPY"
   ]
  },
  {
   "attachments": {},
   "cell_type": "markdown",
   "metadata": {},
   "source": [
    "#### СОЗДАНИЕ МАССИВА ИЗ СПИСКА"
   ]
  },
  {
   "cell_type": "code",
   "execution_count": null,
   "metadata": {},
   "outputs": [
    {
     "data": {
      "text/plain": [
       "array([ 1,  5,  2,  9, 10])"
      ]
     },
     "metadata": {},
     "output_type": "display_data"
    },
    {
     "name": "stdout",
     "output_type": "stream",
     "text": [
      "<class 'numpy.ndarray'>\n"
     ]
    }
   ],
   "source": [
    "arr = np.array([1,5,2,9,10])\n",
    "display(arr)\n",
    "print(type(arr))"
   ]
  },
  {
   "cell_type": "code",
   "execution_count": null,
   "metadata": {},
   "outputs": [
    {
     "data": {
      "text/plain": [
       "array([[12, 45, 78],\n",
       "       [34, 56, 13],\n",
       "       [12, 98, 76]])"
      ]
     },
     "metadata": {},
     "output_type": "display_data"
    }
   ],
   "source": [
    "arr = np.array([\n",
    "    [12, 45, 78],\n",
    "    [34, 56, 13],\n",
    "    [12, 98, 76]\n",
    "])\n",
    "display(arr)"
   ]
  },
  {
   "attachments": {},
   "cell_type": "markdown",
   "metadata": {},
   "source": [
    "#### ТИПЫ ДАННЫХ В МАССИВЕ"
   ]
  },
  {
   "cell_type": "code",
   "execution_count": null,
   "metadata": {},
   "outputs": [
    {
     "data": {
      "text/plain": [
       "dtype('int32')"
      ]
     },
     "execution_count": 49,
     "metadata": {},
     "output_type": "execute_result"
    }
   ],
   "source": [
    "arr = np.array([1,5,2,9,10])\n",
    "arr.dtype"
   ]
  },
  {
   "cell_type": "code",
   "execution_count": null,
   "metadata": {},
   "outputs": [
    {
     "data": {
      "text/plain": [
       "array([ 1,  5,  2,  9, 10], dtype=int8)"
      ]
     },
     "execution_count": 51,
     "metadata": {},
     "output_type": "execute_result"
    }
   ],
   "source": [
    "arr = np.array([1,5,2,9,10], dtype=np.int8)\n",
    "arr"
   ]
  },
  {
   "cell_type": "code",
   "execution_count": null,
   "metadata": {},
   "outputs": [
    {
     "name": "stderr",
     "output_type": "stream",
     "text": [
      "C:\\Users\\22775\\AppData\\Local\\Temp\\ipykernel_28664\\4005198755.py:1: DeprecationWarning: NumPy will stop allowing conversion of out-of-bound Python integers to integer arrays.  The conversion of 2000 to int8 will fail in the future.\n",
      "For the old behavior, usually:\n",
      "    np.array(value).astype(dtype)`\n",
      "will give the desired result (the cast overflows).\n",
      "  arr[2] = 2000\n"
     ]
    },
    {
     "data": {
      "text/plain": [
       "array([  1,   5, -48,   9,  10], dtype=int8)"
      ]
     },
     "execution_count": 52,
     "metadata": {},
     "output_type": "execute_result"
    }
   ],
   "source": [
    "arr[2] = 2000\n",
    "arr"
   ]
  },
  {
   "cell_type": "code",
   "execution_count": null,
   "metadata": {},
   "outputs": [
    {
     "data": {
      "text/plain": [
       "array([  1,   5, 125,   9,  10], dtype=int8)"
      ]
     },
     "execution_count": 53,
     "metadata": {},
     "output_type": "execute_result"
    }
   ],
   "source": [
    "arr[2] = 125.5\n",
    "arr"
   ]
  },
  {
   "cell_type": "code",
   "execution_count": null,
   "metadata": {},
   "outputs": [
    {
     "data": {
      "text/plain": [
       "array([ 1,  5, 12,  9, 10], dtype=int8)"
      ]
     },
     "execution_count": 54,
     "metadata": {},
     "output_type": "execute_result"
    }
   ],
   "source": [
    "arr[2] = '12'\n",
    "arr"
   ]
  },
  {
   "cell_type": "code",
   "execution_count": null,
   "metadata": {},
   "outputs": [
    {
     "ename": "ValueError",
     "evalue": "invalid literal for int() with base 10: 'test'",
     "output_type": "error",
     "traceback": [
      "\u001b[1;31m---------------------------------------------------------------------------\u001b[0m",
      "\u001b[1;31mValueError\u001b[0m                                Traceback (most recent call last)",
      "Cell \u001b[1;32mIn[55], line 1\u001b[0m\n\u001b[1;32m----> 1\u001b[0m arr[\u001b[39m2\u001b[39;49m] \u001b[39m=\u001b[39m \u001b[39m'\u001b[39m\u001b[39mtest\u001b[39m\u001b[39m'\u001b[39m\n\u001b[0;32m      2\u001b[0m arr\n",
      "\u001b[1;31mValueError\u001b[0m: invalid literal for int() with base 10: 'test'"
     ]
    }
   ],
   "source": [
    "arr[2] = 'test'\n",
    "arr"
   ]
  },
  {
   "cell_type": "code",
   "execution_count": null,
   "metadata": {},
   "outputs": [
    {
     "data": {
      "text/plain": [
       "array([ 1.,  5., 12.,  9., 10.])"
      ]
     },
     "execution_count": 57,
     "metadata": {},
     "output_type": "execute_result"
    }
   ],
   "source": [
    "arr = np.float64(arr)\n",
    "arr"
   ]
  },
  {
   "cell_type": "code",
   "execution_count": null,
   "metadata": {},
   "outputs": [
    {
     "data": {
      "text/plain": [
       "array([12321, -1234,  3435,  -214,   100])"
      ]
     },
     "metadata": {},
     "output_type": "display_data"
    },
    {
     "data": {
      "text/plain": [
       "array([ 33,  46, 107,  42, 100], dtype=uint8)"
      ]
     },
     "execution_count": 60,
     "metadata": {},
     "output_type": "execute_result"
    }
   ],
   "source": [
    "arr = np.array([12321, -1234, 3435, -214, 100], dtype=np.int32)\n",
    "display(arr)\n",
    "arr = np.uint8(arr)\n",
    "arr"
   ]
  },
  {
   "cell_type": "code",
   "execution_count": null,
   "metadata": {},
   "outputs": [
    {
     "data": {
      "text/plain": [
       "array([ 3.452340e+05,  8.763621e+05,  0.000000e+00, -1.000000e+03,\n",
       "        1.000000e+08], dtype=float32)"
      ]
     },
     "execution_count": 64,
     "metadata": {},
     "output_type": "execute_result"
    }
   ],
   "source": [
    "arr = np.array([345234, 876362.12, 0, -1000, 99999999], dtype=np.float32)\n",
    "arr"
   ]
  },
  {
   "cell_type": "code",
   "execution_count": null,
   "metadata": {},
   "outputs": [
    {
     "data": {
      "text/plain": [
       "array([ 3.4523400e+05,  8.7636212e+05,  0.0000000e+00, -1.0000000e+03,\n",
       "        9.9999999e+07])"
      ]
     },
     "execution_count": 65,
     "metadata": {},
     "output_type": "execute_result"
    }
   ],
   "source": [
    "arr = np.array([345234, 876362.12, 0, -1000, 99999999], dtype=np.float64)\n",
    "arr"
   ]
  },
  {
   "attachments": {},
   "cell_type": "markdown",
   "metadata": {},
   "source": [
    "#### СВОЙСТВА NUMPY-МАССИВОВ"
   ]
  },
  {
   "cell_type": "code",
   "execution_count": null,
   "metadata": {},
   "outputs": [],
   "source": [
    "arr = np.array([1,5,2,9,10], dtype=np.int8)\n",
    "nd_arr = np.array([\n",
    "               [12, 45, 78],\n",
    "               [34, 56, 13],\n",
    "               [12, 98, 76]\n",
    "               ], dtype=np.int16)"
   ]
  },
  {
   "cell_type": "code",
   "execution_count": null,
   "metadata": {},
   "outputs": [
    {
     "name": "stdout",
     "output_type": "stream",
     "text": [
      "1\n",
      "2\n"
     ]
    }
   ],
   "source": [
    "# Узнать размерность массива можно с помощью .ndim:\n",
    "print(arr.ndim)\n",
    "print(nd_arr.ndim)"
   ]
  },
  {
   "cell_type": "code",
   "execution_count": null,
   "metadata": {},
   "outputs": [
    {
     "name": "stdout",
     "output_type": "stream",
     "text": [
      "5\n",
      "9\n"
     ]
    }
   ],
   "source": [
    "# Узнать общее число элементов в массиве можно с помощью .size:\n",
    "print(arr.size)\n",
    "print(nd_arr.size)"
   ]
  },
  {
   "cell_type": "code",
   "execution_count": null,
   "metadata": {},
   "outputs": [
    {
     "name": "stdout",
     "output_type": "stream",
     "text": [
      "(5,)\n",
      "(3, 3)\n"
     ]
    }
   ],
   "source": [
    "# Форма или структура массива хранится в атрибуте .shape:\n",
    "print(arr.shape)\n",
    "print(nd_arr.shape)"
   ]
  },
  {
   "cell_type": "code",
   "execution_count": null,
   "metadata": {},
   "outputs": [
    {
     "name": "stdout",
     "output_type": "stream",
     "text": [
      "1\n",
      "2\n"
     ]
    }
   ],
   "source": [
    "#Наконец, узнать, сколько «весит» каждый элемент массива в байтах позволяет .itemsize:\n",
    "print(arr.itemsize)\n",
    "print(nd_arr.itemsize)"
   ]
  },
  {
   "attachments": {},
   "cell_type": "markdown",
   "metadata": {},
   "source": [
    "### ЗАПОЛНЕНИЕ НОВЫХ МАССИВОВ"
   ]
  },
  {
   "cell_type": "code",
   "execution_count": null,
   "metadata": {},
   "outputs": [
    {
     "data": {
      "text/plain": [
       "array([0., 0., 0., 0., 0.])"
      ]
     },
     "execution_count": 73,
     "metadata": {},
     "output_type": "execute_result"
    }
   ],
   "source": [
    "zeros_1d = np.zeros(5)\n",
    "zeros_1d"
   ]
  },
  {
   "cell_type": "code",
   "execution_count": null,
   "metadata": {},
   "outputs": [
    {
     "name": "stdout",
     "output_type": "stream",
     "text": [
      "(5, 4, 3)\n"
     ]
    }
   ],
   "source": [
    "zeros_3d = np.zeros((5, 4, 3), dtype=np.float32)\n",
    "print(zeros_3d.shape)"
   ]
  },
  {
   "cell_type": "code",
   "execution_count": null,
   "metadata": {},
   "outputs": [
    {
     "data": {
      "text/plain": [
       "array([0, 1, 2, 3, 4])"
      ]
     },
     "execution_count": 77,
     "metadata": {},
     "output_type": "execute_result"
    }
   ],
   "source": [
    "np.arange(5)"
   ]
  },
  {
   "cell_type": "code",
   "execution_count": null,
   "metadata": {},
   "outputs": [
    {
     "data": {
      "text/plain": [
       "array([2.5, 3.5, 4.5])"
      ]
     },
     "execution_count": 78,
     "metadata": {},
     "output_type": "execute_result"
    }
   ],
   "source": [
    "np.arange(2.5, 5)"
   ]
  },
  {
   "cell_type": "code",
   "execution_count": null,
   "metadata": {},
   "outputs": [
    {
     "data": {
      "text/plain": [
       "array([2.5, 3. , 3.5, 4. , 4.5], dtype=float16)"
      ]
     },
     "execution_count": 79,
     "metadata": {},
     "output_type": "execute_result"
    }
   ],
   "source": [
    "np.arange(2.5, 5, 0.5, dtype=np.float16)"
   ]
  },
  {
   "cell_type": "code",
   "execution_count": null,
   "metadata": {},
   "outputs": [
    {
     "data": {
      "text/plain": [
       "array([1.        , 1.11111111, 1.22222222, 1.33333333, 1.44444444,\n",
       "       1.55555556, 1.66666667, 1.77777778, 1.88888889, 2.        ])"
      ]
     },
     "execution_count": 81,
     "metadata": {},
     "output_type": "execute_result"
    }
   ],
   "source": [
    "arr = np.linspace(1, 2, 10)\n",
    "arr"
   ]
  },
  {
   "cell_type": "code",
   "execution_count": null,
   "metadata": {},
   "outputs": [
    {
     "data": {
      "text/plain": [
       "array([1. , 1.1, 1.2, 1.3, 1.4, 1.5, 1.6, 1.7, 1.8, 1.9])"
      ]
     },
     "execution_count": 82,
     "metadata": {},
     "output_type": "execute_result"
    }
   ],
   "source": [
    "arr = np.linspace(1, 2, 10, endpoint=False)\n",
    "arr"
   ]
  },
  {
   "cell_type": "code",
   "execution_count": null,
   "metadata": {},
   "outputs": [
    {
     "name": "stdout",
     "output_type": "stream",
     "text": [
      "0.1111111111111111\n"
     ]
    },
    {
     "data": {
      "text/plain": [
       "array([1.        , 1.11111111, 1.22222222, 1.33333333, 1.44444444,\n",
       "       1.55555556, 1.66666667, 1.77777778, 1.88888889, 2.        ])"
      ]
     },
     "execution_count": 83,
     "metadata": {},
     "output_type": "execute_result"
    }
   ],
   "source": [
    "arr, step = np.linspace(1, 2, 10, endpoint=True, retstep=True)\n",
    "print(step)\n",
    "arr"
   ]
  },
  {
   "cell_type": "code",
   "execution_count": null,
   "metadata": {},
   "outputs": [
    {
     "name": "stdout",
     "output_type": "stream",
     "text": [
      "0.1\n"
     ]
    },
    {
     "data": {
      "text/plain": [
       "array([1. , 1.1, 1.2, 1.3, 1.4, 1.5, 1.6, 1.7, 1.8, 1.9])"
      ]
     },
     "execution_count": 84,
     "metadata": {},
     "output_type": "execute_result"
    }
   ],
   "source": [
    "arr, step = np.linspace(1, 2, 10, endpoint=False, retstep=True)\n",
    "print(step)\n",
    "arr"
   ]
  },
  {
   "cell_type": "code",
   "execution_count": null,
   "metadata": {},
   "outputs": [
    {
     "name": "stdout",
     "output_type": "stream",
     "text": [
      "0.46\n"
     ]
    }
   ],
   "source": [
    "arr, step = np.linspace(-6, 21, 60, retstep=True)\n",
    "arr\n",
    "print(round(step, 2))"
   ]
  },
  {
   "cell_type": "code",
   "execution_count": null,
   "metadata": {},
   "outputs": [
    {
     "name": "stdout",
     "output_type": "stream",
     "text": [
      "0.45\n"
     ]
    }
   ],
   "source": [
    "arr, step = np.linspace(-6, 21, 60,endpoint=False, retstep=True)\n",
    "arr\n",
    "print(round(step, 2))"
   ]
  },
  {
   "attachments": {},
   "cell_type": "markdown",
   "metadata": {},
   "source": [
    "# 7. Модуль NumPy. Действия с массивами"
   ]
  },
  {
   "attachments": {},
   "cell_type": "markdown",
   "metadata": {},
   "source": [
    "## ДЕЙСТВИЯ С МАССИВАМИ"
   ]
  },
  {
   "attachments": {},
   "cell_type": "markdown",
   "metadata": {},
   "source": [
    "### ИЗМЕНЕНИЕ ФОРМЫ МАССИВА"
   ]
  },
  {
   "cell_type": "code",
   "execution_count": 25,
   "metadata": {},
   "outputs": [
    {
     "data": {
      "text/plain": [
       "array([0, 1, 2, 3, 4, 5, 6, 7])"
      ]
     },
     "execution_count": 25,
     "metadata": {},
     "output_type": "execute_result"
    }
   ],
   "source": [
    "arr = np.arange(8)\n",
    "arr"
   ]
  },
  {
   "cell_type": "code",
   "execution_count": 27,
   "metadata": {},
   "outputs": [
    {
     "data": {
      "text/plain": [
       "array([[0, 1, 2, 3],\n",
       "       [4, 5, 6, 7]])"
      ]
     },
     "execution_count": 27,
     "metadata": {},
     "output_type": "execute_result"
    }
   ],
   "source": [
    "arr.shape = (2, 4)\n",
    "arr"
   ]
  },
  {
   "cell_type": "code",
   "execution_count": 29,
   "metadata": {},
   "outputs": [
    {
     "data": {
      "text/plain": [
       "array([[0, 1, 2, 3],\n",
       "       [4, 5, 6, 7]])"
      ]
     },
     "execution_count": 29,
     "metadata": {},
     "output_type": "execute_result"
    }
   ],
   "source": [
    "arr = np.arange(8)\n",
    "arr_new = arr.reshape((2 ,4))\n",
    "arr_new"
   ]
  },
  {
   "cell_type": "code",
   "execution_count": 30,
   "metadata": {},
   "outputs": [
    {
     "data": {
      "text/plain": [
       "array([[0, 2, 4, 6],\n",
       "       [1, 3, 5, 7]])"
      ]
     },
     "execution_count": 30,
     "metadata": {},
     "output_type": "execute_result"
    }
   ],
   "source": [
    "arr = np.arange(8)\n",
    "arr_new = arr.reshape((2 ,4), order='F')\n",
    "arr_new"
   ]
  },
  {
   "cell_type": "code",
   "execution_count": 31,
   "metadata": {},
   "outputs": [
    {
     "data": {
      "text/plain": [
       "array([[0, 1, 2, 3],\n",
       "       [4, 5, 6, 7]])"
      ]
     },
     "execution_count": 31,
     "metadata": {},
     "output_type": "execute_result"
    }
   ],
   "source": [
    "arr = np.arange(8)\n",
    "arr.shape = (2, 4)\n",
    "arr"
   ]
  },
  {
   "cell_type": "code",
   "execution_count": 32,
   "metadata": {},
   "outputs": [
    {
     "data": {
      "text/plain": [
       "array([[0, 4],\n",
       "       [1, 5],\n",
       "       [2, 6],\n",
       "       [3, 7]])"
      ]
     },
     "execution_count": 32,
     "metadata": {},
     "output_type": "execute_result"
    }
   ],
   "source": [
    "arr_trans = arr.transpose()\n",
    "arr_trans"
   ]
  },
  {
   "cell_type": "code",
   "execution_count": 33,
   "metadata": {},
   "outputs": [
    {
     "name": "stdout",
     "output_type": "stream",
     "text": [
      "(3,)\n",
      "(3,)\n"
     ]
    }
   ],
   "source": [
    "arr = np.arange(3)\n",
    "print(arr.shape)\n",
    "arr_trans = arr.transpose()\n",
    "print(arr_trans.shape)"
   ]
  },
  {
   "attachments": {},
   "cell_type": "markdown",
   "metadata": {},
   "source": [
    "### ИНДЕКСЫ И СРЕЗЫ В МАССИВАХ"
   ]
  },
  {
   "cell_type": "code",
   "execution_count": 34,
   "metadata": {},
   "outputs": [
    {
     "data": {
      "text/plain": [
       "array([1. , 1.2, 1.4, 1.6, 1.8, 2. ])"
      ]
     },
     "execution_count": 34,
     "metadata": {},
     "output_type": "execute_result"
    }
   ],
   "source": [
    "arr = np.linspace(1, 2, 6)\n",
    "arr"
   ]
  },
  {
   "cell_type": "code",
   "execution_count": 35,
   "metadata": {},
   "outputs": [
    {
     "name": "stdout",
     "output_type": "stream",
     "text": [
      "1.4\n"
     ]
    }
   ],
   "source": [
    "print(arr[2])"
   ]
  },
  {
   "cell_type": "code",
   "execution_count": 36,
   "metadata": {},
   "outputs": [
    {
     "name": "stdout",
     "output_type": "stream",
     "text": [
      "[1.4 1.6]\n"
     ]
    }
   ],
   "source": [
    "print(arr[2:4])"
   ]
  },
  {
   "cell_type": "code",
   "execution_count": 37,
   "metadata": {},
   "outputs": [
    {
     "name": "stdout",
     "output_type": "stream",
     "text": [
      "[2.  1.8 1.6 1.4 1.2 1. ]\n"
     ]
    }
   ],
   "source": [
    "print(arr[::-1])"
   ]
  },
  {
   "cell_type": "code",
   "execution_count": 38,
   "metadata": {},
   "outputs": [
    {
     "data": {
      "text/plain": [
       "array([[0. , 0.5, 1. , 1.5],\n",
       "       [2. , 2.5, 3. , 3.5],\n",
       "       [4. , 4.5, 5. , 5.5]])"
      ]
     },
     "execution_count": 38,
     "metadata": {},
     "output_type": "execute_result"
    }
   ],
   "source": [
    "nd_array = np.linspace(0, 6, 12, endpoint=False).reshape(3,4)\n",
    "nd_array"
   ]
  },
  {
   "cell_type": "code",
   "execution_count": 39,
   "metadata": {},
   "outputs": [
    {
     "data": {
      "text/plain": [
       "3.0"
      ]
     },
     "execution_count": 39,
     "metadata": {},
     "output_type": "execute_result"
    }
   ],
   "source": [
    "nd_array[1][2]"
   ]
  },
  {
   "cell_type": "code",
   "execution_count": 40,
   "metadata": {},
   "outputs": [
    {
     "data": {
      "text/plain": [
       "3.0"
      ]
     },
     "execution_count": 40,
     "metadata": {},
     "output_type": "execute_result"
    }
   ],
   "source": [
    "nd_array[1, 2]"
   ]
  },
  {
   "cell_type": "code",
   "execution_count": 41,
   "metadata": {},
   "outputs": [
    {
     "data": {
      "text/plain": [
       "array([1., 3.])"
      ]
     },
     "execution_count": 41,
     "metadata": {},
     "output_type": "execute_result"
    }
   ],
   "source": [
    "nd_array[:2, 2]"
   ]
  },
  {
   "cell_type": "code",
   "execution_count": 44,
   "metadata": {},
   "outputs": [
    {
     "data": {
      "text/plain": [
       "array([[3. , 3.5],\n",
       "       [5. , 5.5]])"
      ]
     },
     "execution_count": 44,
     "metadata": {},
     "output_type": "execute_result"
    }
   ],
   "source": [
    "nd_array[1:, 2:4]"
   ]
  },
  {
   "cell_type": "code",
   "execution_count": 45,
   "metadata": {},
   "outputs": [
    {
     "data": {
      "text/plain": [
       "array([[1. , 1.5],\n",
       "       [3. , 3.5],\n",
       "       [5. , 5.5]])"
      ]
     },
     "execution_count": 45,
     "metadata": {},
     "output_type": "execute_result"
    }
   ],
   "source": [
    "nd_array[:, 2:4]"
   ]
  },
  {
   "cell_type": "code",
   "execution_count": 46,
   "metadata": {},
   "outputs": [
    {
     "data": {
      "text/plain": [
       "array([[0. , 0.5, 1. , 1.5],\n",
       "       [2. , 2.5, 3. , 3.5]])"
      ]
     },
     "execution_count": 46,
     "metadata": {},
     "output_type": "execute_result"
    }
   ],
   "source": [
    "nd_array[:2]"
   ]
  },
  {
   "cell_type": "code",
   "execution_count": 109,
   "metadata": {},
   "outputs": [
    {
     "name": "stdout",
     "output_type": "stream",
     "text": [
      "30305\n",
      "-32037\n",
      "[13240  7994 32592 20149 13754 11795  -564]\n",
      "[-17182  15790  25397  11795  12578    -47]\n",
      "[[-1297 -4593  6451]\n",
      " [28655 -6012 21762]\n",
      " [32592 20149 13754]]\n",
      "\n",
      "[-32037  29943   -564   8225   7181 -18049]\n",
      "[[-13586  25936  13348  13240 -21725 -16841]\n",
      " [ 15203 -30968  28049   7994  -8681 -25392]\n",
      " [ 28445  -1297  28655  32592  30305 -17278]\n",
      " [-27117  -4593  -6012  20149  22260  11740]\n",
      " [ -1781   6451  21762  13754 -17918   5916]\n",
      " [-17182  15790  25397  11795  12578    -47]\n",
      " [-18049   7181   8225   -564  29943 -32037]]\n"
     ]
    }
   ],
   "source": [
    "mystery = np.array([[-13586,  15203,  28445, -27117,  -1781, -17182, -18049],\n",
    "       [ 25936, -30968,  -1297,  -4593,   6451,  15790,   7181],\n",
    "       [ 13348,  28049,  28655,  -6012,  21762,  25397,   8225],\n",
    "       [ 13240,   7994,  32592,  20149,  13754,  11795,   -564],\n",
    "       [-21725,  -8681,  30305,  22260, -17918,  12578,  29943],\n",
    "       [-16841, -25392, -17278,  11740,   5916,    -47, -32037]],\n",
    "      dtype=np.int16)\n",
    "\n",
    "print(mystery[4, 2])\n",
    "print(mystery[-1, -1])\n",
    "print(mystery[3])\n",
    "print(mystery[:,-2])\n",
    "print(mystery[1:4,2:5])\n",
    "print()\n",
    "print(mystery[::-1, -1])\n",
    "print(mystery.transpose())"
   ]
  },
  {
   "attachments": {},
   "cell_type": "markdown",
   "metadata": {},
   "source": [
    "### СОРТИРОВКА ОДНОМЕРНЫХ МАССИВОВ"
   ]
  },
  {
   "cell_type": "code",
   "execution_count": 81,
   "metadata": {},
   "outputs": [
    {
     "name": "stdout",
     "output_type": "stream",
     "text": [
      "[23 12 45 12 23  4 15  3]\n",
      "[ 3  4 12 12 15 23 23 45]\n"
     ]
    }
   ],
   "source": [
    "arr = np.array([23,12,45,12,23,4,15,3])\n",
    "arr_new = np.sort(arr)\n",
    "print(arr)\n",
    "print(arr_new)"
   ]
  },
  {
   "cell_type": "code",
   "execution_count": 82,
   "metadata": {},
   "outputs": [
    {
     "name": "stdout",
     "output_type": "stream",
     "text": [
      "None\n",
      "[ 3  4 12 12 15 23 23 45]\n"
     ]
    }
   ],
   "source": [
    "arr = np.array([23,12,45,12,23,4,15,3])\n",
    "print(arr.sort())\n",
    "print(arr)"
   ]
  },
  {
   "attachments": {},
   "cell_type": "markdown",
   "metadata": {},
   "source": [
    "### РАБОТА С ПРОПУЩЕННЫМИ ДАННЫМИ"
   ]
  },
  {
   "cell_type": "code",
   "execution_count": 83,
   "metadata": {},
   "outputs": [],
   "source": [
    "data = np.array([4, 9, -4, 3])"
   ]
  },
  {
   "cell_type": "code",
   "execution_count": 84,
   "metadata": {},
   "outputs": [
    {
     "name": "stderr",
     "output_type": "stream",
     "text": [
      "C:\\Users\\22775\\AppData\\Local\\Temp\\ipykernel_27552\\3752651322.py:1: RuntimeWarning: invalid value encountered in sqrt\n",
      "  roots = np.sqrt(data)\n"
     ]
    },
    {
     "data": {
      "text/plain": [
       "array([2.        , 3.        ,        nan, 1.73205081])"
      ]
     },
     "execution_count": 84,
     "metadata": {},
     "output_type": "execute_result"
    }
   ],
   "source": [
    "roots = np.sqrt(data)\n",
    "roots"
   ]
  },
  {
   "cell_type": "code",
   "execution_count": 85,
   "metadata": {},
   "outputs": [
    {
     "name": "stdout",
     "output_type": "stream",
     "text": [
      "<class 'NoneType'>\n",
      "<class 'float'>\n"
     ]
    },
    {
     "data": {
      "text/plain": [
       "float"
      ]
     },
     "execution_count": 85,
     "metadata": {},
     "output_type": "execute_result"
    }
   ],
   "source": [
    "print(type(None))\n",
    "print(type(np.nan))\n",
    "type(np.nan)"
   ]
  },
  {
   "cell_type": "code",
   "execution_count": 86,
   "metadata": {},
   "outputs": [
    {
     "name": "stdout",
     "output_type": "stream",
     "text": [
      "True\n",
      "False\n"
     ]
    }
   ],
   "source": [
    "print(None == None)\n",
    "print(np.nan == np.nan)"
   ]
  },
  {
   "cell_type": "code",
   "execution_count": 87,
   "metadata": {},
   "outputs": [
    {
     "name": "stdout",
     "output_type": "stream",
     "text": [
      "True\n",
      "True\n",
      "False\n"
     ]
    }
   ],
   "source": [
    "print(None is None)\n",
    "print(np.nan is np.nan)\n",
    "print(np.nan is None)"
   ]
  },
  {
   "cell_type": "code",
   "execution_count": 88,
   "metadata": {},
   "outputs": [
    {
     "data": {
      "text/plain": [
       "nan"
      ]
     },
     "execution_count": 88,
     "metadata": {},
     "output_type": "execute_result"
    }
   ],
   "source": [
    "sum(roots)"
   ]
  },
  {
   "cell_type": "code",
   "execution_count": 89,
   "metadata": {},
   "outputs": [
    {
     "data": {
      "text/plain": [
       "array([False, False,  True, False])"
      ]
     },
     "execution_count": 89,
     "metadata": {},
     "output_type": "execute_result"
    }
   ],
   "source": [
    "np.isnan(roots)"
   ]
  },
  {
   "cell_type": "code",
   "execution_count": 90,
   "metadata": {},
   "outputs": [
    {
     "data": {
      "text/plain": [
       "array([nan])"
      ]
     },
     "execution_count": 90,
     "metadata": {},
     "output_type": "execute_result"
    }
   ],
   "source": [
    "roots[np.isnan(roots)]"
   ]
  },
  {
   "cell_type": "code",
   "execution_count": 91,
   "metadata": {},
   "outputs": [
    {
     "data": {
      "text/plain": [
       "array([2.        , 3.        , 0.        , 1.73205081])"
      ]
     },
     "execution_count": 91,
     "metadata": {},
     "output_type": "execute_result"
    }
   ],
   "source": [
    "roots[np.isnan(roots)] = 0\n",
    "roots"
   ]
  },
  {
   "cell_type": "code",
   "execution_count": 92,
   "metadata": {},
   "outputs": [
    {
     "data": {
      "text/plain": [
       "6.732050807568877"
      ]
     },
     "execution_count": 92,
     "metadata": {},
     "output_type": "execute_result"
    }
   ],
   "source": [
    "sum(roots)"
   ]
  },
  {
   "cell_type": "code",
   "execution_count": 108,
   "metadata": {},
   "outputs": [
    {
     "name": "stdout",
     "output_type": "stream",
     "text": [
      "[False False False  True False False False False  True False False False\n",
      "  True False False]\n",
      "3\n",
      "[ 12279. -26024.  28745.      0.  31244.  -2365.  -6974.  -9212.      0.\n",
      " -17722.  16132.  25933.      0. -16431.  29810.]\n",
      "[-26024. -17722. -16431.  -9212.  -6974.  -2365.      0.      0.      0.\n",
      "  12279.  16132.  25933.  28745.  29810.  31244.]\n",
      "[[-26024.  -2365.  16132.]\n",
      " [-17722.      0.  25933.]\n",
      " [-16431.      0.  28745.]\n",
      " [ -9212.      0.  29810.]\n",
      " [ -6974.  12279.  31244.]]\n",
      "[-2365.     0.     0.     0. 12279.]\n"
     ]
    }
   ],
   "source": [
    "mystery = np.array([ 12279., -26024.,  28745.,  np.nan,  31244.,  -2365.,  -6974.,\n",
    "        -9212., np.nan, -17722.,  16132.,  25933.,  np.nan, -16431.,\n",
    "        29810.], dtype=np.float32)\n",
    "\n",
    "\n",
    "nans_index = np.isnan(mystery)\n",
    "print(nans_index)\n",
    "n_nan = nans_index.sum()\n",
    "print(n_nan)\n",
    "mystery_new = mystery\n",
    "mystery_new[np.isnan(mystery_new)] = 0\n",
    "print(mystery_new)\n",
    "#mystery_int = np.int32(mystery)\n",
    "#print(mystery_int)\n",
    "array = np.sort(mystery)\n",
    "print(array)\n",
    "table = array.reshape((5 ,3), order='F')\n",
    "print(table)\n",
    "col = table[:,1]\n",
    "print(col)"
   ]
  },
  {
   "attachments": {},
   "cell_type": "markdown",
   "metadata": {},
   "source": [
    "# 8. Модуль NumPy. Операции с векторами"
   ]
  },
  {
   "attachments": {},
   "cell_type": "markdown",
   "metadata": {},
   "source": [
    "### ВЕКТОРЫ В NUMPY И АРИФМЕТИКА"
   ]
  },
  {
   "cell_type": "code",
   "execution_count": 1,
   "metadata": {},
   "outputs": [
    {
     "data": {
      "text/plain": [
       "array([14. , 10. , 10.6, 15.5])"
      ]
     },
     "execution_count": 1,
     "metadata": {},
     "output_type": "execute_result"
    }
   ],
   "source": [
    "import numpy as np\n",
    "vec1 = np.array([2, 4, 7, 2.5])\n",
    "vec2 = np.array([12, 6, 3.6, 13])\n",
    "vec1 + vec2"
   ]
  },
  {
   "cell_type": "code",
   "execution_count": 2,
   "metadata": {},
   "outputs": [
    {
     "data": {
      "text/plain": [
       "[2, 4, 7, 2.5, 12, 6, 3.6, 13]"
      ]
     },
     "execution_count": 2,
     "metadata": {},
     "output_type": "execute_result"
    }
   ],
   "source": [
    "list1 = [2, 4, 7, 2.5]\n",
    "list2 = [12, 6, 3.6, 13]\n",
    "list1 + list2"
   ]
  },
  {
   "cell_type": "code",
   "execution_count": 3,
   "metadata": {},
   "outputs": [
    {
     "data": {
      "text/plain": [
       "[14, 10, 10.6, 15.5]"
      ]
     },
     "execution_count": 3,
     "metadata": {},
     "output_type": "execute_result"
    }
   ],
   "source": [
    "[x + y for x, y in zip(list1, list2)]"
   ]
  },
  {
   "cell_type": "code",
   "execution_count": 4,
   "metadata": {},
   "outputs": [
    {
     "data": {
      "text/plain": [
       "array([24. , 24. , 25.2, 32.5])"
      ]
     },
     "execution_count": 4,
     "metadata": {},
     "output_type": "execute_result"
    }
   ],
   "source": [
    "vec1 = np.array([2, 4, 7, 2.5])\n",
    "vec2 = np.array([12, 6, 3.6, 13])\n",
    "vec1 * vec2"
   ]
  },
  {
   "cell_type": "code",
   "execution_count": 5,
   "metadata": {},
   "outputs": [
    {
     "ename": "ValueError",
     "evalue": "operands could not be broadcast together with shapes (4,) (3,) ",
     "output_type": "error",
     "traceback": [
      "\u001b[1;31m---------------------------------------------------------------------------\u001b[0m",
      "\u001b[1;31mValueError\u001b[0m                                Traceback (most recent call last)",
      "Cell \u001b[1;32mIn[5], line 4\u001b[0m\n\u001b[0;32m      1\u001b[0m vec1 \u001b[39m=\u001b[39m np\u001b[39m.\u001b[39marray([\u001b[39m2\u001b[39m, \u001b[39m4\u001b[39m, \u001b[39m7\u001b[39m, \u001b[39m2.5\u001b[39m])\n\u001b[0;32m      2\u001b[0m vec2 \u001b[39m=\u001b[39m np\u001b[39m.\u001b[39marray([\u001b[39m12\u001b[39m, \u001b[39m6\u001b[39m, \u001b[39m3.6\u001b[39m])\n\u001b[1;32m----> 4\u001b[0m vec1 \u001b[39m*\u001b[39;49m vec2\n",
      "\u001b[1;31mValueError\u001b[0m: operands could not be broadcast together with shapes (4,) (3,) "
     ]
    }
   ],
   "source": [
    "vec1 = np.array([2, 4, 7, 2.5])\n",
    "vec2 = np.array([12, 6, 3.6])\n",
    "\n",
    "vec1 * vec2"
   ]
  },
  {
   "cell_type": "code",
   "execution_count": 6,
   "metadata": {},
   "outputs": [
    {
     "name": "stdout",
     "output_type": "stream",
     "text": [
      "[ 0 10 20 30 40]\n",
      "[ 0  1  4  9 16]\n"
     ]
    }
   ],
   "source": [
    "vec = np.arange(5)\n",
    "print(vec * 10)\n",
    "print(vec ** 2)"
   ]
  },
  {
   "cell_type": "code",
   "execution_count": 7,
   "metadata": {},
   "outputs": [
    {
     "data": {
      "text/plain": [
       "array([False, False,  True, False])"
      ]
     },
     "execution_count": 7,
     "metadata": {},
     "output_type": "execute_result"
    }
   ],
   "source": [
    "vec1 = np.array([2, 4, 7, 2.5])\n",
    "vec2 = np.array([12, 6, 3.6, 13])\n",
    "vec1 > vec2"
   ]
  },
  {
   "cell_type": "code",
   "execution_count": 8,
   "metadata": {},
   "outputs": [
    {
     "data": {
      "text/plain": [
       "array([ True,  True,  True,  True, False,  True, False])"
      ]
     },
     "execution_count": 8,
     "metadata": {},
     "output_type": "execute_result"
    }
   ],
   "source": [
    "vec = np.array([14,15,9,26,53,5,89])\n",
    "vec <= 26"
   ]
  },
  {
   "attachments": {},
   "cell_type": "markdown",
   "metadata": {},
   "source": [
    "### ПРОДВИНУТЫЕ ОПЕРАЦИИ С ВЕКТОРАМИ"
   ]
  },
  {
   "cell_type": "code",
   "execution_count": 9,
   "metadata": {},
   "outputs": [],
   "source": [
    "vec = np.array([3, 4])"
   ]
  },
  {
   "cell_type": "code",
   "execution_count": 11,
   "metadata": {},
   "outputs": [
    {
     "name": "stdout",
     "output_type": "stream",
     "text": [
      "5.0\n"
     ]
    }
   ],
   "source": [
    "length = np.sqrt(np.sum(vec ** 2))\n",
    "print(length)"
   ]
  },
  {
   "cell_type": "code",
   "execution_count": 12,
   "metadata": {},
   "outputs": [
    {
     "name": "stdout",
     "output_type": "stream",
     "text": [
      "5.0\n"
     ]
    }
   ],
   "source": [
    "length = np.linalg.norm(vec)\n",
    "print(length)"
   ]
  },
  {
   "cell_type": "code",
   "execution_count": 13,
   "metadata": {},
   "outputs": [
    {
     "data": {
      "text/plain": [
       "12.206555615733702"
      ]
     },
     "execution_count": 13,
     "metadata": {},
     "output_type": "execute_result"
    }
   ],
   "source": [
    "vec1 = np.array([0, 3, 5])\n",
    "vec2 = np.array([12, 4, 7])\n",
    "distance = np.sqrt(np.sum((vec1 - vec2) ** 2))\n",
    "distance"
   ]
  },
  {
   "cell_type": "code",
   "execution_count": 15,
   "metadata": {},
   "outputs": [
    {
     "data": {
      "text/plain": [
       "12.206555615733702"
      ]
     },
     "execution_count": 15,
     "metadata": {},
     "output_type": "execute_result"
    }
   ],
   "source": [
    "vec1 = np.array([0, 3, 5])\n",
    "vec2 = np.array([12, 4, 7])\n",
    "distance = np.linalg.norm(vec1 - vec2)\n",
    "distance"
   ]
  },
  {
   "cell_type": "code",
   "execution_count": 16,
   "metadata": {},
   "outputs": [
    {
     "data": {
      "text/plain": [
       "250.0"
      ]
     },
     "execution_count": 16,
     "metadata": {},
     "output_type": "execute_result"
    }
   ],
   "source": [
    "vec1 = np.arange(1, 6)\n",
    "vec2 = np.linspace(10, 20, 5)\n",
    "scalar_product = np.sum(vec1 * vec2)\n",
    "scalar_product"
   ]
  },
  {
   "cell_type": "code",
   "execution_count": 17,
   "metadata": {},
   "outputs": [
    {
     "data": {
      "text/plain": [
       "250.0"
      ]
     },
     "execution_count": 17,
     "metadata": {},
     "output_type": "execute_result"
    }
   ],
   "source": [
    "scalar_product = np.dot(vec1 , vec2)\n",
    "scalar_product"
   ]
  },
  {
   "cell_type": "code",
   "execution_count": 18,
   "metadata": {},
   "outputs": [
    {
     "data": {
      "text/plain": [
       "0"
      ]
     },
     "execution_count": 18,
     "metadata": {},
     "output_type": "execute_result"
    }
   ],
   "source": [
    "x = np.array([25, 0])\n",
    "y = np.array([0, 10])\n",
    "np.dot(x, y)"
   ]
  },
  {
   "attachments": {},
   "cell_type": "markdown",
   "metadata": {},
   "source": [
    "### БАЗОВЫЕ СТАТИСТИЧЕСКИЕ ФУНКЦИИ ДЛЯ ВЕКТОРОВ"
   ]
  },
  {
   "cell_type": "code",
   "execution_count": 20,
   "metadata": {},
   "outputs": [
    {
     "name": "stdout",
     "output_type": "stream",
     "text": [
      "1\n",
      "28\n",
      "10.75\n"
     ]
    }
   ],
   "source": [
    "vec = np.array([2,7,18,28,18,1,8,4])\n",
    "print(vec.min())\n",
    "print(np.max(vec))\n",
    "print(vec.mean())"
   ]
  },
  {
   "attachments": {},
   "cell_type": "markdown",
   "metadata": {},
   "source": [
    "# 9. Модуль NumPy. Случайные числа"
   ]
  },
  {
   "attachments": {},
   "cell_type": "markdown",
   "metadata": {},
   "source": [
    "### СЛУЧАЙНЫЕ ЧИСЛА В NUMPY"
   ]
  },
  {
   "cell_type": "code",
   "execution_count": 1,
   "metadata": {},
   "outputs": [],
   "source": [
    "import numpy as np"
   ]
  },
  {
   "attachments": {},
   "cell_type": "markdown",
   "metadata": {},
   "source": [
    "#### ГЕНЕРАЦИЯ FLOAT"
   ]
  },
  {
   "cell_type": "code",
   "execution_count": 5,
   "metadata": {},
   "outputs": [
    {
     "data": {
      "text/plain": [
       "0.9459727743414877"
      ]
     },
     "execution_count": 5,
     "metadata": {},
     "output_type": "execute_result"
    }
   ],
   "source": [
    "np.random.rand()"
   ]
  },
  {
   "cell_type": "code",
   "execution_count": 8,
   "metadata": {},
   "outputs": [
    {
     "data": {
      "text/plain": [
       "68.4342878820509"
      ]
     },
     "execution_count": 8,
     "metadata": {},
     "output_type": "execute_result"
    }
   ],
   "source": [
    "np.random.rand() * 100"
   ]
  },
  {
   "cell_type": "code",
   "execution_count": 17,
   "metadata": {},
   "outputs": [
    {
     "name": "stdout",
     "output_type": "stream",
     "text": [
      "[0.67616205 0.83505514 0.75134552 0.83238986 0.94530928]\n",
      "[[0.61995603 0.45352208 0.71373133]\n",
      " [0.75686815 0.49878488 0.17175802]]\n"
     ]
    }
   ],
   "source": [
    "print(np.random.rand(5))\n",
    "print(np.random.rand(2, 3))"
   ]
  },
  {
   "cell_type": "code",
   "execution_count": 18,
   "metadata": {},
   "outputs": [
    {
     "data": {
      "text/plain": [
       "array([[[[[[2.00819508e-01, 5.64684412e-01, 8.94487277e-01, ...,\n",
       "            7.02431419e-01, 6.82749596e-01, 9.39226842e-01],\n",
       "           [8.62276843e-01, 3.74244048e-01, 7.31888265e-01, ...,\n",
       "            8.35890890e-01, 2.63070724e-01, 2.51618231e-01],\n",
       "           [5.94475766e-01, 1.97267831e-01, 7.59822301e-01, ...,\n",
       "            8.43341937e-01, 7.79721727e-01, 8.48163029e-01],\n",
       "           ...,\n",
       "           [6.56081713e-01, 9.90354309e-01, 6.14753134e-01, ...,\n",
       "            9.24953640e-01, 7.75684745e-01, 9.75311535e-01],\n",
       "           [8.01953631e-01, 2.46690168e-01, 4.43023975e-01, ...,\n",
       "            9.10652314e-01, 1.50299855e-02, 5.16427889e-01],\n",
       "           [6.66524450e-02, 6.85535928e-01, 7.44857458e-01, ...,\n",
       "            5.29136497e-01, 5.09124100e-01, 3.03189491e-01]],\n",
       "\n",
       "          [[3.77986862e-01, 6.17596119e-01, 6.21127765e-01, ...,\n",
       "            5.10066954e-01, 2.74262146e-02, 1.49232838e-01],\n",
       "           [1.75456756e-01, 8.68671068e-01, 8.44272937e-01, ...,\n",
       "            4.91131456e-01, 8.31684049e-01, 5.85850582e-01],\n",
       "           [5.94371925e-02, 3.34086922e-01, 6.66281074e-01, ...,\n",
       "            2.98954179e-01, 5.34796849e-01, 4.51112971e-01],\n",
       "           ...,\n",
       "           [7.64734248e-01, 6.93979930e-01, 2.09005348e-01, ...,\n",
       "            1.74339389e-01, 2.04645784e-01, 9.89395736e-01],\n",
       "           [1.16745401e-01, 7.00408793e-01, 4.82458438e-01, ...,\n",
       "            4.95949748e-01, 7.94895009e-02, 7.21226510e-01],\n",
       "           [7.36718425e-01, 2.30577554e-01, 5.57674143e-01, ...,\n",
       "            7.58509378e-01, 2.27262800e-01, 9.80207617e-01]],\n",
       "\n",
       "          [[2.52241221e-02, 2.16971801e-01, 4.24744104e-02, ...,\n",
       "            1.21531613e-02, 7.18343555e-01, 4.50845897e-01],\n",
       "           [6.25771507e-03, 4.60650491e-01, 9.12918172e-03, ...,\n",
       "            7.21963583e-01, 5.90676801e-01, 9.97257813e-01],\n",
       "           [4.00551541e-01, 9.04534618e-01, 5.38124354e-01, ...,\n",
       "            7.44698379e-01, 8.30442210e-02, 3.89948409e-01],\n",
       "           ...,\n",
       "           [6.93061290e-01, 6.60887312e-02, 9.05037795e-01, ...,\n",
       "            7.43466492e-01, 2.00019755e-01, 8.98973453e-01],\n",
       "           [8.26158891e-01, 9.20109053e-01, 4.08032404e-01, ...,\n",
       "            1.31537545e-01, 4.02544173e-01, 5.36447969e-01],\n",
       "           [4.74534340e-01, 3.70047167e-01, 9.64546181e-01, ...,\n",
       "            9.97684169e-01, 8.41075755e-01, 8.87984170e-01]],\n",
       "\n",
       "          ...,\n",
       "\n",
       "          [[6.03145120e-02, 5.07879092e-01, 8.75194204e-01, ...,\n",
       "            5.12834062e-01, 8.94158378e-01, 7.33315068e-01],\n",
       "           [9.28644754e-01, 5.24229546e-01, 6.54909471e-01, ...,\n",
       "            2.94625952e-01, 6.34179249e-01, 5.60536179e-01],\n",
       "           [1.41171967e-01, 5.02952701e-01, 6.50122231e-01, ...,\n",
       "            9.26166124e-01, 3.03811826e-01, 3.32641531e-01],\n",
       "           ...,\n",
       "           [3.60453116e-01, 2.77702260e-01, 8.96474078e-03, ...,\n",
       "            4.88623660e-01, 2.24978354e-01, 7.77579988e-01],\n",
       "           [1.69506428e-01, 3.16523964e-02, 2.23022563e-01, ...,\n",
       "            6.47765792e-01, 2.91134573e-01, 4.08786712e-01],\n",
       "           [8.74388562e-02, 4.75019994e-01, 3.17535417e-01, ...,\n",
       "            8.95124047e-01, 6.39503680e-01, 3.22740788e-01]],\n",
       "\n",
       "          [[7.73205911e-01, 4.33212167e-01, 4.67051086e-01, ...,\n",
       "            6.33865092e-01, 7.76621055e-02, 8.74030896e-01],\n",
       "           [6.27259832e-01, 7.33413005e-01, 3.09181632e-01, ...,\n",
       "            3.92116947e-02, 9.22953612e-02, 3.54237901e-01],\n",
       "           [7.81577260e-01, 4.69246734e-01, 7.94942999e-01, ...,\n",
       "            3.90376822e-01, 7.18220360e-02, 6.99477878e-02],\n",
       "           ...,\n",
       "           [7.94286393e-01, 2.32830716e-01, 6.64912569e-01, ...,\n",
       "            2.16105561e-01, 4.72829044e-01, 1.58780568e-01],\n",
       "           [2.40157351e-01, 5.51770498e-01, 3.13143118e-01, ...,\n",
       "            4.52487974e-01, 8.74598112e-01, 2.54031386e-01],\n",
       "           [8.36214503e-01, 2.67975091e-01, 5.50853251e-01, ...,\n",
       "            8.00460673e-01, 1.26709859e-01, 7.76944813e-02]],\n",
       "\n",
       "          [[5.51989517e-01, 5.02917145e-01, 6.24883174e-01, ...,\n",
       "            4.19631611e-01, 2.72929471e-01, 5.51267636e-01],\n",
       "           [2.14676174e-03, 3.55334224e-01, 9.16636160e-01, ...,\n",
       "            6.62643943e-01, 7.36139250e-01, 6.65775383e-02],\n",
       "           [3.28957639e-01, 7.19554735e-01, 6.79633414e-01, ...,\n",
       "            8.37977310e-01, 1.55848109e-01, 4.09423807e-01],\n",
       "           ...,\n",
       "           [4.87663911e-02, 5.34853414e-02, 9.24526560e-01, ...,\n",
       "            6.68188148e-01, 9.17716176e-01, 8.78530253e-01],\n",
       "           [2.34346581e-01, 7.02570497e-01, 2.83685420e-01, ...,\n",
       "            3.33004098e-02, 8.99817438e-01, 1.16177293e-01],\n",
       "           [1.47488813e-01, 5.34560606e-01, 1.97913969e-01, ...,\n",
       "            6.64327950e-01, 6.86904148e-01, 4.25286261e-01]]],\n",
       "\n",
       "\n",
       "         [[[1.94602069e-01, 3.39852979e-01, 3.65427485e-01, ...,\n",
       "            2.06754029e-01, 5.36167627e-01, 7.94409231e-02],\n",
       "           [7.57643117e-01, 9.10179857e-02, 4.93941029e-01, ...,\n",
       "            9.37260859e-01, 8.09470786e-01, 7.98554984e-02],\n",
       "           [8.02188173e-01, 8.73085555e-01, 5.83390010e-01, ...,\n",
       "            1.62101262e-02, 4.08809023e-01, 3.48364463e-01],\n",
       "           ...,\n",
       "           [2.32489580e-01, 4.78567502e-01, 2.45823924e-01, ...,\n",
       "            7.18738326e-01, 3.99690497e-01, 8.75240880e-01],\n",
       "           [3.70496771e-01, 9.48532414e-01, 9.48561275e-01, ...,\n",
       "            9.97416958e-01, 6.53838846e-01, 2.96667858e-01],\n",
       "           [7.99179537e-01, 9.47337254e-01, 5.78731148e-01, ...,\n",
       "            7.47909985e-01, 1.37152639e-01, 2.89090847e-01]],\n",
       "\n",
       "          [[7.74097652e-01, 9.98260842e-02, 7.03811503e-01, ...,\n",
       "            3.30361886e-01, 2.32260786e-01, 4.60221873e-02],\n",
       "           [1.79581146e-01, 7.53490603e-01, 2.54309192e-01, ...,\n",
       "            5.79672023e-01, 3.92330032e-01, 9.20202556e-01],\n",
       "           [7.72071708e-01, 6.88857634e-01, 9.11813812e-01, ...,\n",
       "            3.36603526e-01, 8.68028421e-01, 7.16351470e-01],\n",
       "           ...,\n",
       "           [1.53290229e-02, 6.04434077e-01, 8.83247278e-01, ...,\n",
       "            2.63176877e-01, 4.56526509e-01, 9.44203698e-01],\n",
       "           [6.52019970e-01, 7.67323271e-01, 7.22497762e-01, ...,\n",
       "            9.40339258e-01, 3.19805775e-02, 5.15772752e-01],\n",
       "           [2.59200380e-01, 7.64105360e-02, 6.54624313e-01, ...,\n",
       "            4.14095080e-01, 1.84038941e-01, 7.03998473e-01]],\n",
       "\n",
       "          [[7.19599556e-01, 1.11135803e-01, 8.57467444e-01, ...,\n",
       "            2.46770861e-01, 3.30624842e-01, 9.58790695e-01],\n",
       "           [7.14683606e-01, 4.45893526e-01, 6.04869348e-02, ...,\n",
       "            7.30842594e-01, 7.06467897e-02, 5.29371375e-01],\n",
       "           [9.53769058e-01, 7.12309903e-02, 4.27147419e-01, ...,\n",
       "            9.07261015e-01, 9.06681035e-01, 7.31534359e-01],\n",
       "           ...,\n",
       "           [1.15662039e-02, 9.89686152e-01, 6.55802116e-01, ...,\n",
       "            2.90792318e-01, 9.60011005e-01, 2.68904157e-01],\n",
       "           [7.55755920e-01, 8.88011653e-01, 8.92570103e-01, ...,\n",
       "            2.10085191e-01, 5.65662733e-01, 1.48540102e-01],\n",
       "           [4.71153735e-01, 7.85015115e-01, 9.30409524e-01, ...,\n",
       "            3.41222820e-01, 3.52301127e-01, 7.95484147e-01]],\n",
       "\n",
       "          ...,\n",
       "\n",
       "          [[4.39784129e-02, 7.70106452e-01, 4.38774930e-01, ...,\n",
       "            7.33188616e-01, 4.70717869e-01, 6.09797754e-01],\n",
       "           [4.15112065e-01, 7.35984126e-01, 3.91730738e-01, ...,\n",
       "            4.58123075e-01, 9.82049588e-01, 6.34431961e-01],\n",
       "           [8.76105627e-01, 3.99303362e-01, 7.06567165e-01, ...,\n",
       "            1.96813301e-02, 7.07045957e-01, 3.00820231e-01],\n",
       "           ...,\n",
       "           [2.09561584e-01, 2.82576137e-01, 6.60901752e-01, ...,\n",
       "            2.72685841e-01, 1.59193618e-01, 3.44770744e-02],\n",
       "           [5.01699337e-01, 4.86094262e-01, 6.70272457e-01, ...,\n",
       "            6.92954736e-01, 9.08229666e-01, 3.11189148e-02],\n",
       "           [9.28180634e-01, 3.40823674e-01, 9.36233097e-01, ...,\n",
       "            4.57198694e-01, 7.03644875e-01, 8.79729079e-01]],\n",
       "\n",
       "          [[4.86600341e-01, 8.17766727e-01, 9.67221991e-01, ...,\n",
       "            8.46498991e-01, 1.88399331e-01, 5.16127913e-01],\n",
       "           [7.48579588e-01, 3.25266656e-01, 6.77564803e-01, ...,\n",
       "            9.20590834e-02, 3.41870553e-01, 3.73026129e-01],\n",
       "           [8.70337153e-01, 4.61934656e-01, 1.25258221e-01, ...,\n",
       "            8.22635946e-01, 5.55639954e-01, 4.11600227e-01],\n",
       "           ...,\n",
       "           [1.58999918e-01, 7.72391687e-01, 1.43222220e-01, ...,\n",
       "            8.41763561e-02, 4.03604095e-01, 9.82438110e-01],\n",
       "           [1.99930038e-01, 4.34461325e-01, 7.37128251e-01, ...,\n",
       "            2.60061961e-01, 7.04187645e-01, 5.10460969e-02],\n",
       "           [1.34559266e-01, 4.94448581e-01, 2.39246505e-01, ...,\n",
       "            8.94401127e-01, 7.25509603e-01, 7.42121137e-01]],\n",
       "\n",
       "          [[7.42079803e-01, 5.18780227e-01, 8.12986009e-02, ...,\n",
       "            1.44454256e-01, 8.17048228e-01, 7.81886400e-01],\n",
       "           [8.41200063e-01, 2.08003480e-01, 3.27883019e-01, ...,\n",
       "            1.19480587e-01, 7.78026307e-01, 5.24633256e-02],\n",
       "           [9.90976243e-01, 4.82795848e-02, 2.72345487e-01, ...,\n",
       "            8.26572556e-01, 7.60496932e-01, 4.83074228e-02],\n",
       "           ...,\n",
       "           [4.40020760e-01, 1.11440576e-01, 3.19963014e-01, ...,\n",
       "            5.45277915e-01, 1.54678420e-01, 6.84014813e-01],\n",
       "           [4.40820807e-01, 6.38207018e-01, 2.51897206e-02, ...,\n",
       "            4.00173529e-01, 6.62123314e-02, 5.07566717e-01],\n",
       "           [9.28624571e-01, 7.71569472e-01, 5.41550665e-01, ...,\n",
       "            9.46479580e-01, 9.79341245e-01, 2.92526108e-01]]],\n",
       "\n",
       "\n",
       "         [[[6.67811636e-01, 8.93130333e-01, 2.63300561e-01, ...,\n",
       "            7.40868665e-01, 7.88186868e-01, 6.33709301e-01],\n",
       "           [6.46553497e-01, 7.45264973e-01, 4.93114763e-01, ...,\n",
       "            5.88827608e-01, 9.79945834e-01, 6.89810379e-03],\n",
       "           [4.66787328e-01, 7.85098582e-02, 4.31878947e-01, ...,\n",
       "            3.18534659e-01, 8.47066158e-01, 1.85188534e-01],\n",
       "           ...,\n",
       "           [9.58452332e-01, 9.74375915e-01, 9.76415839e-02, ...,\n",
       "            9.40437684e-01, 3.18520996e-01, 8.81885344e-02],\n",
       "           [4.29210695e-01, 1.64001451e-01, 9.97364998e-02, ...,\n",
       "            9.42090513e-01, 9.21434812e-01, 7.45814007e-01],\n",
       "           [2.70929869e-02, 8.01198346e-01, 8.12062032e-01, ...,\n",
       "            4.82694543e-01, 6.88996090e-01, 5.03472697e-01]],\n",
       "\n",
       "          [[8.87455578e-01, 1.69579066e-01, 6.93532319e-01, ...,\n",
       "            8.32647988e-01, 9.21105256e-01, 4.66645189e-01],\n",
       "           [5.89435608e-01, 2.29203776e-01, 2.09654043e-01, ...,\n",
       "            6.72175087e-01, 2.32606517e-01, 9.16141713e-02],\n",
       "           [4.34605516e-01, 3.64392708e-01, 6.36994202e-01, ...,\n",
       "            7.72466881e-01, 1.86135433e-01, 8.11279897e-01],\n",
       "           ...,\n",
       "           [3.82957529e-01, 9.49318239e-01, 7.69167234e-01, ...,\n",
       "            4.46143979e-01, 6.56708512e-01, 7.98191685e-01],\n",
       "           [8.02056943e-01, 1.14560372e-01, 5.40728553e-02, ...,\n",
       "            8.57746575e-01, 2.70520208e-01, 3.99429930e-01],\n",
       "           [7.95502647e-02, 1.45911054e-01, 1.72065060e-01, ...,\n",
       "            7.34031291e-01, 2.59364022e-01, 5.51618965e-02]],\n",
       "\n",
       "          [[2.94175385e-01, 8.66054863e-01, 8.73679556e-01, ...,\n",
       "            5.84782461e-01, 1.78847038e-01, 9.59030828e-01],\n",
       "           [4.62576397e-01, 1.35202238e-01, 7.62690909e-01, ...,\n",
       "            7.10156696e-01, 8.74254864e-01, 1.13040729e-01],\n",
       "           [6.40285225e-01, 6.54102463e-01, 7.21307476e-01, ...,\n",
       "            9.75402629e-01, 4.63778286e-01, 9.28854539e-01],\n",
       "           ...,\n",
       "           [4.73593167e-01, 4.55940121e-01, 3.31220142e-01, ...,\n",
       "            1.65424818e-02, 9.58078120e-01, 6.62730320e-01],\n",
       "           [7.00012878e-01, 8.11348565e-01, 1.63134783e-01, ...,\n",
       "            7.22743109e-01, 6.27117524e-01, 3.69060591e-01],\n",
       "           [8.80315431e-01, 9.39019085e-01, 4.48734511e-01, ...,\n",
       "            7.81210367e-01, 5.50386194e-01, 6.76827921e-01]],\n",
       "\n",
       "          ...,\n",
       "\n",
       "          [[9.52928194e-01, 2.43000720e-01, 2.65650440e-01, ...,\n",
       "            9.61809769e-01, 5.09731882e-01, 8.74734871e-02],\n",
       "           [3.04346100e-01, 9.20777408e-01, 1.36730671e-01, ...,\n",
       "            7.70937544e-01, 3.74924558e-01, 5.50107669e-01],\n",
       "           [1.79574234e-01, 8.11393738e-01, 1.57039806e-01, ...,\n",
       "            2.27153840e-01, 6.56386233e-01, 9.28313735e-01],\n",
       "           ...,\n",
       "           [2.56762621e-01, 2.40479328e-01, 7.37051064e-01, ...,\n",
       "            5.82497523e-01, 4.99323401e-01, 1.36408816e-01],\n",
       "           [7.46713542e-02, 9.60874021e-01, 1.42920906e-01, ...,\n",
       "            6.81166783e-01, 4.99446803e-01, 1.47005134e-01],\n",
       "           [8.26458490e-01, 9.44911805e-01, 8.16160180e-01, ...,\n",
       "            6.37490079e-01, 7.60142022e-01, 5.48619053e-02]],\n",
       "\n",
       "          [[5.03526873e-01, 5.31599673e-01, 9.88210618e-01, ...,\n",
       "            3.01354647e-01, 3.48819685e-01, 4.78782439e-01],\n",
       "           [9.42890538e-01, 4.72405446e-02, 3.89259948e-01, ...,\n",
       "            3.73874608e-01, 8.59343116e-01, 2.06618705e-01],\n",
       "           [2.82586841e-01, 3.57728784e-02, 3.62697406e-01, ...,\n",
       "            8.85136263e-01, 1.95424075e-01, 5.84901496e-01],\n",
       "           ...,\n",
       "           [5.60355940e-01, 4.79126102e-01, 8.79583516e-03, ...,\n",
       "            4.83683546e-01, 8.88340780e-01, 6.28539004e-01],\n",
       "           [5.76305309e-02, 2.25097566e-01, 8.85780240e-01, ...,\n",
       "            9.14756418e-01, 5.51136665e-01, 4.36116556e-01],\n",
       "           [5.73331834e-02, 9.90555011e-01, 1.59058921e-01, ...,\n",
       "            7.55394975e-02, 6.39381319e-01, 9.41949860e-01]],\n",
       "\n",
       "          [[1.64854878e-01, 7.70341754e-01, 3.52747872e-01, ...,\n",
       "            2.70624564e-01, 4.30533454e-01, 5.43089431e-01],\n",
       "           [8.38403391e-01, 1.00451499e-01, 5.50563541e-01, ...,\n",
       "            9.80640248e-01, 9.00379870e-01, 8.04486623e-01],\n",
       "           [1.15323185e-01, 3.96415179e-01, 1.23675895e-01, ...,\n",
       "            3.73206886e-01, 7.76063546e-01, 7.36267292e-01],\n",
       "           ...,\n",
       "           [8.54709270e-01, 8.21736481e-01, 9.71047937e-01, ...,\n",
       "            4.10548009e-01, 9.41048613e-01, 3.66343652e-01],\n",
       "           [9.59062651e-01, 9.19638882e-01, 2.99774289e-01, ...,\n",
       "            4.26831634e-02, 2.60206133e-01, 2.40706194e-03],\n",
       "           [6.71609885e-01, 6.46952481e-01, 6.04616865e-01, ...,\n",
       "            8.54125948e-01, 4.65125303e-01, 9.02017986e-01]]],\n",
       "\n",
       "\n",
       "         [[[6.83693005e-02, 4.57288327e-01, 7.76730213e-01, ...,\n",
       "            4.88955745e-01, 4.61490215e-01, 7.06306449e-01],\n",
       "           [8.24752567e-01, 2.40012311e-01, 2.80663004e-01, ...,\n",
       "            1.64885830e-01, 3.93712697e-01, 2.01655469e-01],\n",
       "           [3.33252916e-01, 2.21243360e-01, 6.81811885e-01, ...,\n",
       "            2.54121491e-01, 4.37362264e-01, 1.48331205e-01],\n",
       "           ...,\n",
       "           [3.61658936e-01, 3.96764536e-01, 6.47685300e-01, ...,\n",
       "            6.95804596e-01, 5.95954160e-01, 6.65264832e-02],\n",
       "           [7.18939336e-01, 2.82098332e-01, 5.66122987e-01, ...,\n",
       "            1.80868158e-01, 3.72945039e-02, 4.35638837e-01],\n",
       "           [6.52177252e-01, 3.93696640e-01, 5.13096579e-01, ...,\n",
       "            4.70910236e-01, 9.08583893e-01, 3.25367120e-01]],\n",
       "\n",
       "          [[3.10348275e-01, 6.54633401e-02, 2.62901595e-01, ...,\n",
       "            5.82360740e-01, 3.54581543e-01, 2.55581272e-01],\n",
       "           [5.16234850e-01, 6.85871388e-01, 3.03406458e-01, ...,\n",
       "            5.01719913e-01, 4.06210235e-01, 6.83309872e-01],\n",
       "           [1.55829180e-01, 2.14618258e-02, 1.14995539e-01, ...,\n",
       "            8.82443789e-01, 3.64443072e-01, 9.70504105e-01],\n",
       "           ...,\n",
       "           [2.20003567e-01, 9.91971652e-01, 2.20860977e-01, ...,\n",
       "            7.54585045e-01, 4.31851044e-01, 7.93881080e-01],\n",
       "           [2.15751005e-01, 9.61202001e-02, 1.29424524e-01, ...,\n",
       "            9.01613045e-01, 8.25154441e-01, 7.36129310e-02],\n",
       "           [7.73737844e-01, 7.20492986e-02, 8.10105028e-01, ...,\n",
       "            3.90553113e-01, 3.77944126e-01, 8.73391732e-01]],\n",
       "\n",
       "          [[9.13746673e-01, 1.04630409e-01, 4.00917513e-02, ...,\n",
       "            9.41694541e-02, 6.32862997e-01, 8.69864342e-01],\n",
       "           [4.00035483e-01, 6.34244479e-01, 4.04313804e-01, ...,\n",
       "            2.46395784e-01, 7.18134409e-01, 4.17506438e-01],\n",
       "           [6.01391911e-01, 1.25968576e-01, 1.59457567e-01, ...,\n",
       "            5.45554805e-01, 4.04593740e-01, 9.90397222e-01],\n",
       "           ...,\n",
       "           [2.57289944e-01, 5.38081685e-01, 4.90351466e-01, ...,\n",
       "            4.79543099e-01, 8.80081738e-01, 7.66790715e-01],\n",
       "           [4.50073364e-01, 8.29375785e-02, 8.24298176e-01, ...,\n",
       "            5.89310962e-01, 5.05969056e-01, 5.59080861e-01],\n",
       "           [3.24244875e-01, 6.83793497e-01, 8.32347380e-01, ...,\n",
       "            8.85574611e-01, 5.64230064e-01, 2.56287102e-01]],\n",
       "\n",
       "          ...,\n",
       "\n",
       "          [[8.08298306e-01, 1.31256085e-01, 9.61653786e-01, ...,\n",
       "            8.78409043e-01, 5.44895690e-01, 7.72400831e-01],\n",
       "           [5.40169207e-01, 1.27720390e-01, 1.25168001e-01, ...,\n",
       "            6.50163935e-01, 4.11734182e-02, 3.86967837e-01],\n",
       "           [6.01606511e-01, 8.46712347e-01, 1.21610897e-02, ...,\n",
       "            3.66067710e-01, 4.93493445e-02, 5.37994409e-01],\n",
       "           ...,\n",
       "           [2.57225309e-01, 3.01869687e-01, 7.21606688e-01, ...,\n",
       "            6.00096816e-01, 2.45526079e-01, 7.56603956e-01],\n",
       "           [5.29321269e-01, 8.83994978e-01, 6.63116681e-01, ...,\n",
       "            9.16586942e-01, 6.90890524e-03, 5.49681852e-01],\n",
       "           [3.72337371e-01, 8.23890793e-01, 5.80974367e-01, ...,\n",
       "            2.74696496e-01, 1.77872065e-01, 1.58124752e-01]],\n",
       "\n",
       "          [[1.91812133e-01, 7.82265060e-01, 2.72909699e-01, ...,\n",
       "            3.34901170e-01, 2.80695725e-01, 9.76461419e-02],\n",
       "           [4.15542880e-01, 5.00463198e-01, 2.02681537e-01, ...,\n",
       "            2.78205427e-01, 5.73452552e-01, 3.56463184e-01],\n",
       "           [9.47494175e-02, 8.46516435e-01, 1.11674478e-01, ...,\n",
       "            7.72570910e-01, 4.39930586e-01, 5.99578869e-01],\n",
       "           ...,\n",
       "           [4.10443202e-01, 9.08589903e-01, 8.32603816e-01, ...,\n",
       "            4.16694437e-01, 8.10217086e-01, 2.84426391e-01],\n",
       "           [6.93460936e-01, 4.10070680e-01, 6.58331975e-02, ...,\n",
       "            4.10826874e-01, 3.92670849e-01, 3.77792188e-01],\n",
       "           [3.58695918e-01, 7.60089089e-02, 6.74232317e-01, ...,\n",
       "            8.08649096e-01, 5.32771238e-01, 5.29824501e-01]],\n",
       "\n",
       "          [[3.54076748e-03, 7.99067019e-01, 7.52434263e-01, ...,\n",
       "            7.21727783e-01, 7.13492379e-01, 1.60956796e-01],\n",
       "           [2.37889904e-01, 5.69180756e-01, 2.07923564e-01, ...,\n",
       "            9.77941891e-01, 4.94762077e-01, 8.51921475e-01],\n",
       "           [3.64527098e-01, 6.35501042e-01, 6.90678597e-01, ...,\n",
       "            3.87309499e-01, 6.22773723e-01, 6.30037623e-01],\n",
       "           ...,\n",
       "           [4.76804930e-01, 3.61578095e-01, 9.58263490e-01, ...,\n",
       "            7.56581021e-01, 6.26228156e-01, 5.34407776e-01],\n",
       "           [3.16782468e-01, 9.40845219e-02, 9.78006651e-01, ...,\n",
       "            7.11036951e-01, 6.89540327e-01, 5.10563710e-01],\n",
       "           [6.44365283e-02, 9.30185267e-01, 7.01858239e-01, ...,\n",
       "            1.36611424e-01, 7.29065473e-01, 2.71905698e-01]]]],\n",
       "\n",
       "\n",
       "\n",
       "        [[[[8.91977244e-01, 6.05074541e-01, 9.11026051e-01, ...,\n",
       "            2.49531969e-02, 5.25643553e-01, 2.04416230e-01],\n",
       "           [6.54321582e-01, 9.49994042e-01, 7.95474301e-01, ...,\n",
       "            5.57950002e-01, 7.09987018e-01, 9.34272521e-01],\n",
       "           [3.83368166e-01, 5.95622479e-01, 9.33884590e-01, ...,\n",
       "            3.82224116e-01, 6.26359958e-01, 9.08164787e-01],\n",
       "           ...,\n",
       "           [1.43014365e-01, 9.49299084e-01, 3.53457385e-01, ...,\n",
       "            7.40275226e-01, 5.70237193e-01, 9.45800173e-01],\n",
       "           [8.89784162e-01, 6.03540489e-01, 6.34869739e-01, ...,\n",
       "            9.28135863e-01, 5.19304837e-01, 1.67952629e-01],\n",
       "           [6.10980489e-01, 6.43210677e-01, 6.66452513e-02, ...,\n",
       "            3.44315062e-01, 8.71468269e-01, 8.38823432e-01]],\n",
       "\n",
       "          [[3.02506629e-01, 7.58473329e-01, 5.40022200e-03, ...,\n",
       "            1.88493051e-01, 8.34333518e-01, 5.35004559e-01],\n",
       "           [5.63299355e-02, 8.97334742e-01, 5.08605062e-01, ...,\n",
       "            2.63506466e-01, 1.35814333e-01, 2.41254304e-01],\n",
       "           [2.81607253e-01, 7.94283773e-01, 9.48916469e-01, ...,\n",
       "            2.25766200e-01, 6.20721980e-01, 6.92544281e-02],\n",
       "           ...,\n",
       "           [4.61763512e-02, 5.80256325e-01, 9.01231798e-01, ...,\n",
       "            7.66361082e-01, 4.55253642e-01, 4.93212117e-01],\n",
       "           [3.20265724e-01, 6.66100667e-01, 4.61865863e-01, ...,\n",
       "            3.07306316e-01, 5.00689393e-01, 2.04594408e-01],\n",
       "           [5.23215406e-01, 1.18379072e-01, 7.71946961e-01, ...,\n",
       "            3.26286195e-02, 4.81606796e-01, 5.43703021e-01]],\n",
       "\n",
       "          [[3.04105535e-01, 6.62522475e-01, 3.12245649e-01, ...,\n",
       "            3.38849791e-01, 3.52652710e-01, 2.54004483e-01],\n",
       "           [5.17396794e-01, 7.26534797e-01, 6.68394729e-01, ...,\n",
       "            8.98461444e-01, 6.03546270e-02, 9.49251891e-01],\n",
       "           [8.80228662e-01, 4.58521028e-01, 8.48250424e-01, ...,\n",
       "            4.97478533e-01, 3.82140206e-01, 9.47232464e-01],\n",
       "           ...,\n",
       "           [1.77192232e-01, 4.11931271e-01, 1.32626071e-01, ...,\n",
       "            2.79571274e-02, 6.97316066e-01, 9.56213163e-01],\n",
       "           [5.12256993e-01, 5.93982472e-01, 5.42529378e-01, ...,\n",
       "            8.93293670e-01, 1.77888123e-01, 2.58808916e-01],\n",
       "           [9.13993680e-01, 3.43451793e-01, 4.34952015e-01, ...,\n",
       "            5.08346277e-01, 7.33002139e-01, 2.90140068e-01]],\n",
       "\n",
       "          ...,\n",
       "\n",
       "          [[9.52286793e-01, 8.24335029e-01, 7.78464391e-01, ...,\n",
       "            5.10321168e-01, 6.21922876e-01, 5.58462451e-01],\n",
       "           [6.89031015e-01, 3.77904011e-01, 1.07001391e-01, ...,\n",
       "            6.17606195e-01, 8.01918258e-01, 8.15013179e-01],\n",
       "           [3.07656512e-01, 5.46189998e-01, 1.58218396e-01, ...,\n",
       "            4.97147329e-01, 8.43523740e-01, 4.48081433e-03],\n",
       "           ...,\n",
       "           [1.25814944e-01, 9.02814615e-01, 5.93071924e-01, ...,\n",
       "            9.29423295e-01, 1.84556009e-01, 6.57662767e-01],\n",
       "           [9.87441296e-01, 3.95576351e-01, 2.00230905e-01, ...,\n",
       "            6.76225262e-02, 2.45277511e-01, 1.87152637e-01],\n",
       "           [1.08627135e-01, 9.81049169e-01, 3.34452687e-01, ...,\n",
       "            8.34455631e-01, 8.42488785e-01, 1.01061373e-01]],\n",
       "\n",
       "          [[5.54510139e-01, 8.98563809e-03, 3.37447626e-02, ...,\n",
       "            4.77529801e-01, 3.73613547e-03, 5.15726784e-01],\n",
       "           [8.05733443e-01, 2.00300545e-01, 3.65120070e-01, ...,\n",
       "            3.12432804e-01, 5.60678887e-01, 6.51325185e-01],\n",
       "           [5.16037834e-01, 8.74329199e-01, 1.47824834e-02, ...,\n",
       "            1.78766311e-01, 5.57994474e-01, 6.44273660e-01],\n",
       "           ...,\n",
       "           [1.33657335e-01, 4.11021986e-02, 1.39528334e-01, ...,\n",
       "            2.43603526e-01, 7.58193587e-01, 5.68655242e-01],\n",
       "           [2.32886015e-01, 6.02805628e-01, 9.54975936e-01, ...,\n",
       "            8.82768442e-01, 5.70723970e-01, 7.23606172e-01],\n",
       "           [6.17984752e-01, 2.64735745e-02, 3.38946544e-01, ...,\n",
       "            6.44972986e-01, 8.29251162e-01, 7.32985637e-01]],\n",
       "\n",
       "          [[6.41366231e-01, 3.15519423e-01, 6.06730289e-01, ...,\n",
       "            8.98628893e-01, 3.30714266e-01, 3.53587898e-01],\n",
       "           [6.71967522e-01, 1.24848017e-01, 9.09727818e-01, ...,\n",
       "            9.29797703e-01, 8.95411215e-01, 5.82945411e-01],\n",
       "           [9.15011898e-01, 4.30041132e-01, 6.11655616e-01, ...,\n",
       "            1.01823271e-01, 2.54992411e-01, 3.59789186e-01],\n",
       "           ...,\n",
       "           [9.34094305e-01, 6.91306514e-01, 7.53614100e-02, ...,\n",
       "            7.53818997e-01, 4.41522717e-01, 8.63019221e-01],\n",
       "           [9.89967910e-01, 2.75838112e-01, 2.02071213e-01, ...,\n",
       "            9.68596064e-01, 3.09349136e-01, 9.13252257e-01],\n",
       "           [9.66256145e-01, 6.23004891e-01, 2.65895702e-01, ...,\n",
       "            4.25729683e-01, 6.39958028e-01, 6.97524063e-01]]],\n",
       "\n",
       "\n",
       "         [[[5.83266057e-01, 3.93267560e-02, 5.34822482e-01, ...,\n",
       "            9.27279625e-01, 2.86504935e-01, 8.76704643e-01],\n",
       "           [8.91705694e-01, 9.92071445e-01, 2.07583639e-01, ...,\n",
       "            6.77822871e-01, 1.21960935e-01, 9.44270217e-01],\n",
       "           [8.33327802e-01, 5.09968565e-01, 4.16746902e-01, ...,\n",
       "            6.40340839e-01, 1.74824804e-01, 9.47397741e-01],\n",
       "           ...,\n",
       "           [1.87571208e-01, 3.75126060e-01, 3.44032313e-01, ...,\n",
       "            4.27638236e-01, 5.68783516e-01, 9.43584684e-02],\n",
       "           [4.92739229e-02, 7.70611734e-01, 9.13369715e-01, ...,\n",
       "            2.34768376e-02, 4.82829643e-01, 1.59181766e-02],\n",
       "           [2.37676112e-01, 4.46771128e-01, 4.08637276e-01, ...,\n",
       "            2.06488315e-01, 9.99597985e-01, 8.93548498e-01]],\n",
       "\n",
       "          [[2.11022252e-01, 4.32983872e-01, 6.03581621e-01, ...,\n",
       "            7.77989252e-01, 5.99343400e-01, 9.89844556e-01],\n",
       "           [2.55737963e-01, 8.75329646e-01, 8.50330271e-01, ...,\n",
       "            2.78893156e-01, 1.15486632e-01, 6.14704371e-02],\n",
       "           [2.23341841e-01, 3.58590130e-01, 4.41528860e-01, ...,\n",
       "            3.70952733e-01, 4.28395668e-01, 4.93595677e-01],\n",
       "           ...,\n",
       "           [3.25130597e-01, 8.14390366e-01, 8.58348668e-01, ...,\n",
       "            2.20998434e-01, 2.82987430e-01, 9.61247281e-01],\n",
       "           [7.73280762e-01, 7.53811619e-01, 5.32678076e-01, ...,\n",
       "            9.83928401e-01, 8.67624147e-01, 2.27340621e-01],\n",
       "           [5.22657436e-01, 1.65777547e-02, 9.68905825e-01, ...,\n",
       "            1.45198776e-02, 5.98374935e-01, 1.58317125e-01]],\n",
       "\n",
       "          [[2.95014518e-01, 2.30510823e-01, 2.24921256e-01, ...,\n",
       "            1.35297253e-01, 6.74491056e-01, 2.59751557e-01],\n",
       "           [1.26666003e-01, 5.41321864e-01, 9.93150650e-01, ...,\n",
       "            5.54183721e-01, 2.72518887e-02, 5.29476747e-01],\n",
       "           [6.54673819e-01, 7.54638538e-01, 4.06629182e-01, ...,\n",
       "            5.42019896e-01, 1.94838681e-01, 4.92589849e-01],\n",
       "           ...,\n",
       "           [4.78937808e-01, 2.43199960e-01, 7.50611215e-01, ...,\n",
       "            5.40883328e-01, 1.99842073e-01, 5.02818562e-02],\n",
       "           [8.07823500e-01, 5.87464851e-01, 1.73321381e-01, ...,\n",
       "            4.25537788e-01, 2.39756268e-01, 2.77059954e-01],\n",
       "           [3.39744177e-01, 1.97475733e-01, 6.84623196e-01, ...,\n",
       "            3.26026132e-01, 4.78351871e-01, 7.99864264e-01]],\n",
       "\n",
       "          ...,\n",
       "\n",
       "          [[4.75140269e-01, 5.17444347e-02, 7.45673639e-01, ...,\n",
       "            3.84802442e-02, 5.25599854e-01, 1.21104406e-01],\n",
       "           [6.74867170e-01, 8.42627782e-01, 7.83728927e-01, ...,\n",
       "            9.97557218e-01, 6.45703029e-01, 5.32777018e-01],\n",
       "           [7.05796708e-01, 4.19169908e-02, 8.61686469e-01, ...,\n",
       "            8.82073672e-01, 2.36622809e-01, 3.34463444e-01],\n",
       "           ...,\n",
       "           [2.52941982e-01, 3.83006796e-01, 7.03711398e-01, ...,\n",
       "            6.90177252e-01, 1.38866425e-01, 1.40768297e-01],\n",
       "           [8.52033339e-01, 5.71693759e-01, 1.43495542e-01, ...,\n",
       "            9.79234475e-01, 7.95365628e-01, 6.39894549e-01],\n",
       "           [2.48822871e-01, 9.75845967e-02, 7.35446364e-02, ...,\n",
       "            6.68008997e-01, 4.55076151e-01, 9.64565436e-01]],\n",
       "\n",
       "          [[6.87267120e-01, 4.66227736e-01, 7.38366154e-01, ...,\n",
       "            2.54758838e-01, 1.83499776e-01, 2.93739988e-01],\n",
       "           [6.42438700e-01, 4.46269814e-01, 9.62707619e-01, ...,\n",
       "            8.00205774e-01, 6.82817661e-01, 7.11457615e-02],\n",
       "           [7.33801264e-01, 7.52305973e-01, 2.40230170e-01, ...,\n",
       "            5.66904417e-01, 4.49990804e-01, 4.18256614e-01],\n",
       "           ...,\n",
       "           [5.83093668e-02, 5.84216369e-02, 3.30801837e-01, ...,\n",
       "            9.37019324e-01, 8.66328318e-02, 8.72728890e-01],\n",
       "           [3.49416341e-01, 6.23116494e-01, 3.35217838e-02, ...,\n",
       "            3.86207598e-01, 1.43569967e-01, 8.74746631e-01],\n",
       "           [4.92077368e-01, 5.07304061e-01, 4.24300615e-01, ...,\n",
       "            3.90438110e-01, 6.37647607e-01, 6.81447398e-01]],\n",
       "\n",
       "          [[4.41248847e-01, 2.55475509e-01, 6.58054092e-02, ...,\n",
       "            2.99049952e-01, 2.17755409e-01, 6.79945576e-01],\n",
       "           [2.97600366e-01, 7.12901819e-01, 8.37059630e-02, ...,\n",
       "            8.32233904e-02, 7.14397167e-01, 5.00362421e-01],\n",
       "           [4.12333392e-01, 5.32992470e-02, 7.90281572e-02, ...,\n",
       "            6.17875572e-01, 2.41375976e-01, 7.09516791e-01],\n",
       "           ...,\n",
       "           [6.33173804e-01, 5.08457715e-01, 5.22981720e-01, ...,\n",
       "            1.30310521e-01, 9.23075669e-01, 5.99737342e-01],\n",
       "           [5.76138653e-01, 4.23293905e-02, 2.08232928e-01, ...,\n",
       "            8.89679542e-01, 2.20796283e-02, 9.20947118e-01],\n",
       "           [8.77799841e-01, 5.71442578e-01, 7.82403616e-01, ...,\n",
       "            3.10500538e-01, 1.99763290e-01, 9.33143870e-01]]],\n",
       "\n",
       "\n",
       "         [[[6.52465024e-01, 7.79193388e-01, 7.89245259e-01, ...,\n",
       "            5.68311051e-01, 2.72706919e-01, 2.97676215e-01],\n",
       "           [5.73370200e-02, 5.02256422e-01, 9.34413253e-01, ...,\n",
       "            3.87385220e-01, 7.17517411e-01, 2.34402620e-02],\n",
       "           [2.81400453e-01, 8.42604433e-01, 2.02643411e-01, ...,\n",
       "            5.81004422e-01, 9.65769642e-01, 5.85050778e-01],\n",
       "           ...,\n",
       "           [2.58121714e-01, 7.60514921e-01, 5.16089373e-01, ...,\n",
       "            9.05429237e-01, 9.64435127e-01, 8.91970072e-01],\n",
       "           [1.89129189e-01, 8.63725713e-02, 3.99955421e-01, ...,\n",
       "            5.62946036e-01, 2.32617634e-01, 2.79598471e-01],\n",
       "           [9.56201571e-01, 5.72313776e-01, 9.97155129e-01, ...,\n",
       "            8.20763089e-01, 8.62224885e-01, 4.70354253e-01]],\n",
       "\n",
       "          [[6.97503813e-01, 5.37918394e-01, 9.67335004e-01, ...,\n",
       "            7.35372202e-01, 1.98588702e-01, 1.14482802e-01],\n",
       "           [7.60602600e-01, 8.94620347e-01, 3.58900885e-01, ...,\n",
       "            5.54827050e-01, 8.91506988e-01, 1.99616453e-01],\n",
       "           [3.40551309e-01, 1.61550433e-01, 9.58181657e-02, ...,\n",
       "            2.43525712e-01, 7.10639337e-01, 1.78616466e-01],\n",
       "           ...,\n",
       "           [1.46646811e-01, 5.50947708e-01, 3.52250459e-01, ...,\n",
       "            5.89562273e-01, 3.94971326e-01, 8.87648466e-01],\n",
       "           [7.51148335e-01, 9.25078083e-01, 2.57037656e-01, ...,\n",
       "            4.00594639e-02, 4.78834027e-01, 8.11933157e-02],\n",
       "           [5.27911554e-01, 6.57157013e-01, 1.92058012e-02, ...,\n",
       "            3.76940126e-01, 7.58742736e-01, 8.23684912e-01]],\n",
       "\n",
       "          [[5.02207752e-01, 4.70615445e-01, 6.24752249e-01, ...,\n",
       "            3.13742774e-01, 4.66858188e-01, 9.11318978e-01],\n",
       "           [5.09191078e-01, 9.90615097e-01, 9.49779999e-01, ...,\n",
       "            9.79060239e-01, 4.71146796e-01, 6.02335089e-01],\n",
       "           [1.32186483e-01, 8.39662218e-01, 6.10032470e-01, ...,\n",
       "            4.96110960e-01, 8.46100220e-01, 9.38573335e-01],\n",
       "           ...,\n",
       "           [4.27549613e-01, 4.56344514e-01, 1.72790859e-01, ...,\n",
       "            5.94532774e-01, 9.99308574e-01, 7.07605342e-01],\n",
       "           [2.02257827e-01, 5.47583077e-01, 4.74853243e-01, ...,\n",
       "            8.81766099e-01, 2.57759834e-01, 4.24830899e-02],\n",
       "           [4.90056887e-01, 7.62061502e-01, 5.03550829e-01, ...,\n",
       "            3.19003395e-01, 4.12053357e-01, 7.44942477e-01]],\n",
       "\n",
       "          ...,\n",
       "\n",
       "          [[9.08058058e-01, 5.55868647e-01, 4.20723882e-01, ...,\n",
       "            3.70527610e-01, 1.61824761e-01, 9.38730651e-01],\n",
       "           [5.54842407e-01, 8.15295775e-02, 6.47508569e-01, ...,\n",
       "            5.82991836e-01, 1.16009237e-01, 7.07453670e-01],\n",
       "           [3.47206250e-01, 7.76092275e-01, 7.48224639e-01, ...,\n",
       "            3.57100922e-01, 5.33968677e-01, 2.98332303e-01],\n",
       "           ...,\n",
       "           [8.53676539e-02, 3.67841550e-01, 9.71442429e-01, ...,\n",
       "            1.00281150e-01, 1.85689065e-01, 6.64881260e-01],\n",
       "           [3.21635577e-01, 9.60264299e-01, 6.04395966e-01, ...,\n",
       "            3.98710646e-01, 4.32315169e-02, 6.28092171e-01],\n",
       "           [8.83755284e-02, 1.90102744e-01, 5.79879719e-01, ...,\n",
       "            2.87039847e-01, 2.69403291e-01, 2.69339575e-01]],\n",
       "\n",
       "          [[4.62147972e-01, 6.72458901e-01, 3.73974740e-01, ...,\n",
       "            9.57320939e-01, 7.90396612e-01, 1.33281636e-01],\n",
       "           [4.86093790e-01, 5.14545661e-01, 7.73795575e-01, ...,\n",
       "            1.84866646e-02, 2.08707225e-01, 7.21710817e-01],\n",
       "           [7.10669341e-01, 6.57982976e-01, 7.79586301e-01, ...,\n",
       "            9.07555589e-01, 7.53650111e-01, 8.40271605e-02],\n",
       "           ...,\n",
       "           [4.73310254e-01, 9.04149593e-01, 2.78051359e-01, ...,\n",
       "            7.81314576e-01, 3.09161414e-01, 5.09937545e-02],\n",
       "           [8.12212706e-01, 1.86812334e-01, 6.12726017e-01, ...,\n",
       "            1.07783301e-01, 7.01157403e-01, 7.50024842e-01],\n",
       "           [9.90160090e-01, 3.99563563e-01, 5.26832083e-01, ...,\n",
       "            9.90763341e-01, 2.95439738e-01, 7.01277091e-01]],\n",
       "\n",
       "          [[5.76758796e-01, 7.86778695e-01, 4.59973673e-01, ...,\n",
       "            4.43891037e-01, 4.94976415e-01, 8.74925160e-01],\n",
       "           [9.59821256e-01, 2.26233806e-01, 1.40475004e-01, ...,\n",
       "            9.55128706e-01, 7.94984103e-01, 5.74911042e-01],\n",
       "           [2.14321520e-01, 6.47482496e-01, 1.47616921e-01, ...,\n",
       "            1.30723711e-02, 1.50191468e-02, 2.14929496e-02],\n",
       "           ...,\n",
       "           [9.79881122e-01, 9.45713983e-01, 9.93426719e-01, ...,\n",
       "            1.02689101e-01, 9.60230548e-01, 7.76788598e-01],\n",
       "           [3.14259592e-01, 6.75741200e-01, 6.29110159e-01, ...,\n",
       "            7.26109957e-01, 3.01517282e-01, 8.22289866e-01],\n",
       "           [1.31342096e-01, 6.68347149e-02, 3.18921768e-01, ...,\n",
       "            7.71736457e-01, 6.09592876e-01, 1.75204924e-01]]],\n",
       "\n",
       "\n",
       "         [[[4.06390637e-01, 1.53674165e-01, 4.35993227e-01, ...,\n",
       "            9.08927795e-01, 8.80705299e-01, 3.25395052e-01],\n",
       "           [2.78023408e-01, 3.15573426e-02, 4.77503631e-01, ...,\n",
       "            1.15246868e-01, 1.25489483e-01, 4.96512490e-01],\n",
       "           [5.34332124e-01, 3.91973950e-01, 3.22073895e-01, ...,\n",
       "            6.87079133e-01, 5.15978516e-01, 9.86254142e-01],\n",
       "           ...,\n",
       "           [5.06870399e-01, 9.17672672e-01, 3.80284416e-01, ...,\n",
       "            8.29183909e-01, 7.69637244e-01, 6.84225819e-01],\n",
       "           [1.16745827e-01, 2.84342490e-01, 5.25825659e-01, ...,\n",
       "            1.96180698e-02, 3.90168415e-01, 3.20083669e-01],\n",
       "           [5.66379934e-01, 7.32454746e-01, 1.13573948e-01, ...,\n",
       "            5.98913230e-01, 1.89531343e-01, 7.03962374e-01]],\n",
       "\n",
       "          [[6.62035700e-01, 6.75986930e-01, 4.84325836e-01, ...,\n",
       "            3.07665714e-01, 7.20736192e-01, 1.74907652e-01],\n",
       "           [7.31597730e-01, 5.36214472e-01, 2.18106905e-01, ...,\n",
       "            4.89912496e-01, 6.26798618e-01, 8.41918179e-02],\n",
       "           [8.23451106e-02, 7.42384391e-01, 7.98548277e-01, ...,\n",
       "            7.88105780e-01, 6.06743543e-03, 8.96490505e-01],\n",
       "           ...,\n",
       "           [1.59284785e-01, 4.07360024e-02, 6.53825595e-01, ...,\n",
       "            6.78999718e-01, 2.78403031e-01, 8.48655812e-01],\n",
       "           [3.28089989e-01, 7.21584510e-01, 1.11643485e-01, ...,\n",
       "            5.97672087e-01, 4.54498981e-01, 6.84935857e-01],\n",
       "           [1.58158924e-01, 9.18625799e-01, 4.74548672e-01, ...,\n",
       "            9.53283161e-01, 2.42899343e-01, 7.71508050e-01]],\n",
       "\n",
       "          [[5.08998102e-01, 8.62177092e-01, 9.85391553e-01, ...,\n",
       "            3.23306577e-02, 2.39991472e-01, 8.68798571e-01],\n",
       "           [2.72849027e-01, 1.03674913e-01, 5.78172843e-01, ...,\n",
       "            5.57966810e-01, 3.34977638e-01, 3.76618807e-01],\n",
       "           [6.77943520e-01, 4.22096997e-01, 7.78967783e-01, ...,\n",
       "            3.10667315e-01, 1.66889704e-01, 1.48161923e-01],\n",
       "           ...,\n",
       "           [2.43919238e-01, 3.76087301e-02, 9.52503583e-01, ...,\n",
       "            2.86317574e-01, 5.26813567e-01, 1.72222007e-01],\n",
       "           [6.48505819e-01, 6.36986060e-01, 8.27434736e-02, ...,\n",
       "            6.74350667e-01, 2.69618508e-01, 7.87695508e-01],\n",
       "           [2.53418472e-01, 3.36816658e-01, 4.60325781e-01, ...,\n",
       "            1.07849426e-01, 3.25703659e-01, 2.20513458e-01]],\n",
       "\n",
       "          ...,\n",
       "\n",
       "          [[7.03203210e-01, 4.14672951e-01, 5.82699399e-01, ...,\n",
       "            7.43047427e-01, 4.21420405e-01, 2.01856477e-01],\n",
       "           [7.38109929e-01, 9.40747792e-01, 6.27628224e-01, ...,\n",
       "            2.84920018e-01, 7.58554758e-01, 7.49965898e-01],\n",
       "           [9.12399016e-01, 7.09797368e-01, 1.74136247e-01, ...,\n",
       "            5.30703100e-01, 2.20856006e-01, 2.62259036e-01],\n",
       "           ...,\n",
       "           [5.00712475e-01, 7.68095535e-02, 9.88859115e-01, ...,\n",
       "            9.06415282e-01, 6.94144878e-01, 5.96840847e-02],\n",
       "           [9.30406947e-01, 3.57720977e-01, 2.11289567e-01, ...,\n",
       "            2.55055791e-01, 2.32887705e-01, 3.49732417e-02],\n",
       "           [2.03482907e-01, 1.92299935e-01, 7.71008002e-01, ...,\n",
       "            7.76766108e-01, 9.46719602e-01, 8.68199640e-01]],\n",
       "\n",
       "          [[6.53441198e-01, 1.08677935e-01, 8.94388508e-01, ...,\n",
       "            7.53666752e-01, 6.85687396e-01, 4.91324530e-01],\n",
       "           [2.74924450e-01, 1.70338711e-01, 5.79181994e-03, ...,\n",
       "            4.64558051e-03, 9.97991023e-01, 1.14410003e-01],\n",
       "           [5.57787118e-01, 9.59431632e-01, 3.35550722e-01, ...,\n",
       "            6.62595947e-01, 8.27560567e-01, 5.23364378e-01],\n",
       "           ...,\n",
       "           [6.30547711e-01, 1.85809747e-01, 6.49889550e-01, ...,\n",
       "            6.25662061e-01, 6.19574881e-01, 9.48980473e-01],\n",
       "           [8.59369610e-01, 5.54453629e-01, 3.51318731e-01, ...,\n",
       "            7.87923994e-01, 4.28170012e-01, 8.25254768e-01],\n",
       "           [5.78888623e-01, 4.23411726e-01, 4.75091694e-01, ...,\n",
       "            1.14494660e-01, 4.98954793e-02, 8.70978272e-01]],\n",
       "\n",
       "          [[4.39263519e-01, 5.99484044e-01, 4.69427747e-01, ...,\n",
       "            7.06858751e-02, 4.15196824e-01, 6.44884645e-01],\n",
       "           [2.31577374e-01, 7.28279797e-01, 4.79955345e-02, ...,\n",
       "            6.66000944e-02, 4.37746193e-01, 3.44239257e-01],\n",
       "           [4.20083050e-01, 5.32510416e-01, 7.64519479e-01, ...,\n",
       "            4.47970566e-02, 9.96606883e-01, 9.01902367e-01],\n",
       "           ...,\n",
       "           [7.34398535e-01, 3.02359077e-01, 5.24839341e-01, ...,\n",
       "            6.25357362e-02, 7.13228277e-01, 3.50224397e-01],\n",
       "           [6.92206689e-01, 6.26699622e-01, 4.84862424e-01, ...,\n",
       "            7.12673926e-01, 7.02914736e-01, 9.18822383e-01],\n",
       "           [5.32770602e-02, 4.92702193e-03, 2.39805936e-01, ...,\n",
       "            6.23244861e-03, 9.71018543e-01, 5.57363226e-01]]]],\n",
       "\n",
       "\n",
       "\n",
       "        [[[[3.33130277e-01, 3.27364006e-01, 9.06637597e-01, ...,\n",
       "            3.22731202e-01, 9.83574726e-01, 2.96653105e-01],\n",
       "           [7.35565493e-01, 5.43028938e-01, 8.50227509e-01, ...,\n",
       "            4.29148045e-01, 4.14071185e-01, 6.62089832e-01],\n",
       "           [7.48141527e-01, 3.09402202e-01, 9.92773202e-01, ...,\n",
       "            7.05879654e-01, 9.85302798e-01, 4.49042258e-01],\n",
       "           ...,\n",
       "           [8.04359122e-01, 2.21744748e-01, 9.37518443e-01, ...,\n",
       "            9.35673292e-01, 2.08346529e-01, 2.38297372e-01],\n",
       "           [3.49871130e-01, 5.49775417e-01, 7.10152504e-01, ...,\n",
       "            8.33346821e-04, 2.51879485e-01, 1.40558691e-01],\n",
       "           [4.69358040e-01, 5.12601990e-02, 2.88760639e-01, ...,\n",
       "            5.80706687e-01, 4.91640949e-01, 8.35297788e-01]],\n",
       "\n",
       "          [[2.17496842e-01, 9.49104829e-01, 5.79968116e-01, ...,\n",
       "            4.92589295e-01, 3.17714328e-01, 2.05560905e-01],\n",
       "           [2.65717735e-01, 1.10910215e-01, 7.47040409e-01, ...,\n",
       "            9.26630549e-01, 5.35652987e-01, 8.76582977e-01],\n",
       "           [4.13227500e-01, 1.22695758e-01, 1.47437573e-01, ...,\n",
       "            6.43294202e-01, 2.99345659e-01, 5.61535398e-01],\n",
       "           ...,\n",
       "           [1.25755582e-01, 4.31366522e-01, 5.07405190e-02, ...,\n",
       "            6.41797899e-01, 2.47178631e-01, 6.57534888e-01],\n",
       "           [4.52793725e-02, 9.48850522e-01, 9.23237329e-01, ...,\n",
       "            6.96221209e-01, 9.01618249e-02, 1.99308157e-01],\n",
       "           [2.92051532e-01, 7.31253264e-01, 4.13952697e-01, ...,\n",
       "            7.00044275e-01, 7.12362180e-01, 6.22874811e-01]],\n",
       "\n",
       "          [[8.26336026e-01, 2.04028317e-01, 5.07131160e-01, ...,\n",
       "            8.96295790e-01, 7.40248168e-01, 9.18275676e-01],\n",
       "           [2.08340642e-01, 1.59882427e-01, 9.66693842e-01, ...,\n",
       "            3.83323851e-01, 9.96719765e-01, 9.30823607e-01],\n",
       "           [6.85085432e-01, 8.35936897e-01, 6.67200120e-01, ...,\n",
       "            9.87646904e-01, 2.96077151e-01, 4.29527515e-01],\n",
       "           ...,\n",
       "           [7.19047770e-02, 5.14593348e-01, 8.87659736e-01, ...,\n",
       "            3.12546771e-01, 3.23057054e-01, 5.29280478e-01],\n",
       "           [3.03569202e-01, 9.51786358e-02, 4.71582845e-01, ...,\n",
       "            4.29402014e-01, 2.95583253e-01, 9.25434163e-01],\n",
       "           [8.75058874e-01, 2.68451243e-01, 7.01177987e-01, ...,\n",
       "            6.28662591e-01, 9.01688069e-01, 4.91082278e-01]],\n",
       "\n",
       "          ...,\n",
       "\n",
       "          [[5.45081250e-01, 4.08712526e-02, 9.16998167e-01, ...,\n",
       "            7.50604757e-01, 4.98862526e-01, 5.89521550e-02],\n",
       "           [4.79880879e-01, 5.17370339e-01, 4.16979163e-01, ...,\n",
       "            8.73700741e-01, 2.45382740e-01, 5.91976747e-01],\n",
       "           [8.47360217e-02, 2.44594665e-01, 6.88631397e-01, ...,\n",
       "            1.16627430e-01, 2.22567249e-01, 5.76823145e-01],\n",
       "           ...,\n",
       "           [6.92189615e-01, 3.94842859e-01, 2.15664112e-01, ...,\n",
       "            4.67407435e-01, 7.17178555e-01, 5.92043849e-01],\n",
       "           [9.73096444e-01, 7.21926855e-01, 2.09212521e-01, ...,\n",
       "            5.72811314e-01, 6.22035651e-01, 2.16266043e-01],\n",
       "           [9.97951516e-01, 9.31800928e-01, 8.22134221e-01, ...,\n",
       "            6.98890655e-01, 9.55228975e-01, 6.56812189e-01]],\n",
       "\n",
       "          [[9.78425825e-01, 4.28739682e-01, 9.18915473e-01, ...,\n",
       "            9.49556137e-01, 5.15051900e-02, 6.25611927e-01],\n",
       "           [7.40971410e-01, 3.33384928e-01, 8.91996117e-01, ...,\n",
       "            7.87797739e-01, 8.70845683e-01, 1.45480974e-01],\n",
       "           [1.20137628e-01, 7.45411278e-01, 2.96310723e-01, ...,\n",
       "            7.99795129e-01, 9.19905334e-01, 7.23506109e-01],\n",
       "           ...,\n",
       "           [6.10209632e-01, 9.88536444e-01, 1.63048941e-01, ...,\n",
       "            2.68423093e-01, 2.11656356e-01, 1.42880456e-01],\n",
       "           [8.78606359e-01, 1.64493513e-01, 1.16771988e-01, ...,\n",
       "            7.34257856e-01, 6.66246360e-01, 9.36921792e-01],\n",
       "           [7.78871910e-01, 7.92624546e-01, 4.87870305e-02, ...,\n",
       "            4.46636325e-01, 9.64426483e-01, 3.68414551e-01]],\n",
       "\n",
       "          [[8.01825892e-01, 2.93410184e-01, 4.11300060e-01, ...,\n",
       "            8.00279041e-01, 7.45985261e-01, 4.62197210e-01],\n",
       "           [6.04349222e-01, 5.09537075e-01, 4.16294563e-01, ...,\n",
       "            1.19420926e-01, 2.63847690e-01, 9.62019895e-01],\n",
       "           [4.32279370e-01, 7.21955987e-01, 5.66626465e-01, ...,\n",
       "            4.85485949e-01, 9.71201329e-01, 9.67540897e-01],\n",
       "           ...,\n",
       "           [7.72221078e-04, 8.92625574e-01, 4.76034774e-01, ...,\n",
       "            3.77001811e-01, 3.46739183e-01, 2.65223964e-01],\n",
       "           [4.89496872e-01, 7.72350934e-01, 9.61391514e-01, ...,\n",
       "            4.43996538e-01, 7.85032127e-01, 4.27758767e-01],\n",
       "           [1.06041436e-01, 5.06777404e-01, 4.89683959e-01, ...,\n",
       "            1.19565184e-01, 8.57128471e-01, 8.36760474e-01]]],\n",
       "\n",
       "\n",
       "         [[[2.08453999e-01, 7.53922047e-01, 5.60675925e-01, ...,\n",
       "            1.81023287e-01, 4.05580951e-01, 4.50875107e-01],\n",
       "           [7.83530192e-01, 8.53489887e-01, 6.98400767e-02, ...,\n",
       "            6.26218951e-02, 9.83498917e-01, 3.52030318e-01],\n",
       "           [3.71385012e-01, 2.32424029e-01, 5.44381669e-01, ...,\n",
       "            8.59168312e-01, 5.01209066e-01, 7.88443852e-01],\n",
       "           ...,\n",
       "           [7.96573393e-01, 4.24636697e-01, 5.79936631e-01, ...,\n",
       "            9.95326936e-01, 8.05471865e-01, 5.72428883e-01],\n",
       "           [7.58583172e-01, 9.44191063e-01, 8.55316599e-01, ...,\n",
       "            3.40528802e-01, 5.32360646e-01, 2.85723574e-01],\n",
       "           [8.25297545e-01, 8.41670285e-01, 6.19740337e-01, ...,\n",
       "            9.31660170e-01, 8.23290587e-01, 3.59582194e-01]],\n",
       "\n",
       "          [[2.98437171e-01, 6.97068492e-02, 2.93374196e-01, ...,\n",
       "            9.16133340e-01, 7.27077420e-01, 8.04709336e-01],\n",
       "           [6.41345102e-01, 1.86171112e-01, 6.81935921e-01, ...,\n",
       "            7.01988382e-01, 7.12859455e-01, 9.98627694e-01],\n",
       "           [4.38019367e-01, 7.04121747e-01, 9.59083827e-01, ...,\n",
       "            3.89990121e-01, 7.44868760e-01, 3.00267020e-01],\n",
       "           ...,\n",
       "           [4.35198942e-01, 7.56018178e-01, 6.83051010e-01, ...,\n",
       "            9.56351589e-01, 8.37950210e-01, 7.30632014e-01],\n",
       "           [2.24016203e-01, 8.80514832e-01, 7.40635826e-01, ...,\n",
       "            2.31115222e-01, 2.48560006e-01, 2.61948216e-01],\n",
       "           [5.15558074e-01, 7.79578062e-01, 7.93535628e-01, ...,\n",
       "            6.19439654e-01, 1.40970276e-01, 8.80828985e-01]],\n",
       "\n",
       "          [[1.47319596e-01, 8.69578774e-01, 6.66456487e-01, ...,\n",
       "            9.07400465e-01, 2.54513169e-02, 6.54120741e-01],\n",
       "           [9.27859567e-01, 2.78036900e-01, 3.24718018e-01, ...,\n",
       "            9.03898279e-01, 9.19595668e-01, 1.31601910e-01],\n",
       "           [6.82096975e-01, 2.72570343e-01, 9.25784106e-01, ...,\n",
       "            3.74413178e-01, 7.50577600e-01, 8.07810267e-01],\n",
       "           ...,\n",
       "           [4.31476698e-01, 9.99992887e-01, 3.84598627e-01, ...,\n",
       "            3.16638930e-01, 1.42403327e-01, 9.46500516e-01],\n",
       "           [5.56971585e-01, 1.74079320e-01, 7.35802773e-01, ...,\n",
       "            4.95792413e-01, 5.19364166e-01, 4.92465082e-01],\n",
       "           [4.22362268e-01, 4.10811226e-01, 3.49963236e-01, ...,\n",
       "            2.58807720e-01, 2.53756146e-01, 5.08967166e-01]],\n",
       "\n",
       "          ...,\n",
       "\n",
       "          [[5.09285071e-01, 4.77435197e-01, 2.14893378e-01, ...,\n",
       "            6.60867451e-01, 7.68523925e-01, 1.69689738e-01],\n",
       "           [3.58259998e-01, 5.80868456e-01, 8.19473162e-01, ...,\n",
       "            9.60141111e-01, 2.99409672e-01, 8.11771331e-01],\n",
       "           [6.54697573e-01, 4.86115301e-01, 9.96778464e-01, ...,\n",
       "            6.83565129e-01, 9.45052574e-01, 7.63475061e-01],\n",
       "           ...,\n",
       "           [9.46678902e-02, 8.81860073e-02, 6.20021733e-01, ...,\n",
       "            8.39458432e-01, 8.98552078e-02, 3.45127824e-01],\n",
       "           [5.94873436e-01, 1.51445587e-01, 8.78736765e-01, ...,\n",
       "            7.54258024e-01, 8.88350194e-01, 6.42915747e-04],\n",
       "           [4.21223807e-01, 1.63341303e-01, 9.04184482e-01, ...,\n",
       "            4.24487975e-01, 1.92331731e-01, 7.04349544e-01]],\n",
       "\n",
       "          [[8.38826928e-01, 8.82497242e-01, 5.76373771e-01, ...,\n",
       "            2.99659745e-01, 3.82619250e-01, 2.21333060e-01],\n",
       "           [7.10069764e-01, 2.83710342e-01, 6.87262212e-01, ...,\n",
       "            1.89939247e-01, 8.26818725e-01, 6.38782458e-01],\n",
       "           [7.49441268e-01, 5.82422544e-01, 7.11722518e-01, ...,\n",
       "            8.36507116e-01, 5.90354334e-01, 8.65942770e-02],\n",
       "           ...,\n",
       "           [4.83958072e-01, 2.62373939e-01, 3.66545076e-01, ...,\n",
       "            5.36288163e-01, 5.40770345e-01, 5.18104756e-01],\n",
       "           [1.87943848e-01, 2.27636961e-02, 8.52465181e-01, ...,\n",
       "            2.78615020e-01, 6.53147941e-01, 6.33254274e-01],\n",
       "           [2.11282670e-01, 7.84872698e-02, 1.98458764e-01, ...,\n",
       "            6.24171591e-01, 3.08708535e-01, 9.54170924e-01]],\n",
       "\n",
       "          [[9.05357485e-01, 5.68724938e-01, 5.93609762e-01, ...,\n",
       "            6.86297573e-01, 3.83845264e-01, 2.64580713e-01],\n",
       "           [3.88069342e-01, 3.49749335e-01, 6.84698381e-01, ...,\n",
       "            4.14891616e-01, 3.90413972e-01, 2.02817870e-01],\n",
       "           [1.93359070e-02, 3.83737821e-01, 7.47123630e-01, ...,\n",
       "            5.67987656e-01, 5.38282708e-01, 5.97596133e-01],\n",
       "           ...,\n",
       "           [7.44327053e-01, 9.30072546e-01, 3.26872072e-01, ...,\n",
       "            9.70682237e-01, 9.24845349e-01, 7.09632162e-01],\n",
       "           [3.31056326e-01, 1.27841478e-01, 5.28949728e-01, ...,\n",
       "            8.01738709e-01, 2.28152916e-01, 8.45323079e-01],\n",
       "           [8.73641187e-01, 6.84549226e-01, 4.69003790e-01, ...,\n",
       "            2.60944809e-01, 3.08468059e-01, 2.17031263e-01]]],\n",
       "\n",
       "\n",
       "         [[[6.63442486e-01, 8.30356309e-01, 3.06773332e-01, ...,\n",
       "            1.20586386e-01, 6.11944938e-01, 4.60930298e-01],\n",
       "           [9.04411518e-01, 7.66005883e-01, 5.14858852e-01, ...,\n",
       "            8.81865388e-01, 7.17729067e-01, 4.78112908e-02],\n",
       "           [2.03471574e-01, 9.23097342e-01, 9.19253106e-01, ...,\n",
       "            3.60357569e-01, 2.59803476e-01, 3.87033291e-01],\n",
       "           ...,\n",
       "           [7.37605966e-01, 6.70130592e-01, 1.60835891e-01, ...,\n",
       "            9.62264673e-02, 3.42842517e-01, 2.86191607e-01],\n",
       "           [5.59956267e-01, 1.72689526e-01, 7.71658129e-01, ...,\n",
       "            1.85547907e-01, 7.23544020e-01, 4.02467050e-01],\n",
       "           [7.78851966e-01, 1.06054486e-01, 7.70000850e-01, ...,\n",
       "            4.01721671e-02, 2.88480227e-01, 2.45543370e-01]],\n",
       "\n",
       "          [[7.91554001e-01, 3.03225907e-01, 7.70977808e-01, ...,\n",
       "            4.55661644e-01, 9.61563849e-01, 5.70848036e-01],\n",
       "           [7.08324756e-01, 4.33403856e-01, 5.50702881e-01, ...,\n",
       "            9.88377653e-02, 7.91014978e-01, 9.11672597e-02],\n",
       "           [3.64786960e-01, 1.17766788e-01, 4.33004368e-01, ...,\n",
       "            8.50418567e-01, 2.14964955e-03, 5.05361616e-01],\n",
       "           ...,\n",
       "           [6.64287387e-02, 6.85734605e-01, 5.23968570e-01, ...,\n",
       "            3.76802122e-01, 6.23004221e-01, 2.87735080e-01],\n",
       "           [2.72970330e-02, 5.34729525e-01, 3.06243698e-01, ...,\n",
       "            4.80991175e-01, 4.52312021e-01, 1.67188469e-01],\n",
       "           [4.95840849e-01, 6.53768396e-01, 1.93882122e-01, ...,\n",
       "            4.12822890e-01, 4.86265085e-01, 9.93863269e-01]],\n",
       "\n",
       "          [[4.09554305e-01, 8.69502917e-01, 9.39607170e-01, ...,\n",
       "            5.84290226e-01, 9.10200996e-01, 3.27136814e-01],\n",
       "           [2.82516174e-01, 5.89663513e-01, 1.35775911e-02, ...,\n",
       "            8.55529853e-01, 2.29870079e-01, 8.64475899e-01],\n",
       "           [1.26604197e-01, 7.27127961e-01, 6.26029616e-01, ...,\n",
       "            2.51689745e-01, 7.18783393e-01, 4.09730324e-01],\n",
       "           ...,\n",
       "           [5.87090757e-01, 3.51514625e-01, 4.64294410e-02, ...,\n",
       "            2.68517056e-01, 3.89442607e-01, 8.80189863e-01],\n",
       "           [2.19968076e-01, 6.21936865e-01, 3.74029406e-01, ...,\n",
       "            6.71872115e-01, 1.40656186e-01, 3.06790974e-01],\n",
       "           [9.16261103e-01, 9.19555191e-01, 2.00416815e-01, ...,\n",
       "            8.50744900e-01, 1.64369996e-01, 2.73175143e-01]],\n",
       "\n",
       "          ...,\n",
       "\n",
       "          [[8.85021170e-01, 3.51215430e-01, 6.06295766e-01, ...,\n",
       "            4.14919725e-01, 4.87282391e-01, 2.20238866e-02],\n",
       "           [8.17512268e-01, 4.99631037e-01, 2.10695412e-01, ...,\n",
       "            6.07732233e-01, 5.58644941e-01, 5.18504967e-01],\n",
       "           [3.77693824e-01, 1.28520242e-01, 8.71642352e-02, ...,\n",
       "            5.52541795e-01, 7.05913100e-01, 6.53140265e-01],\n",
       "           ...,\n",
       "           [1.30729945e-01, 8.55058826e-01, 3.81551450e-01, ...,\n",
       "            9.61253115e-01, 2.59213742e-02, 9.76544410e-01],\n",
       "           [9.36439956e-01, 1.38834486e-01, 1.11091687e-01, ...,\n",
       "            5.86503067e-01, 7.59448382e-01, 3.70785646e-01],\n",
       "           [7.20483711e-01, 3.01538262e-01, 7.22692467e-01, ...,\n",
       "            2.94841267e-01, 9.14775634e-01, 4.51954405e-01]],\n",
       "\n",
       "          [[3.83302547e-01, 4.75173050e-02, 4.60147459e-01, ...,\n",
       "            2.91203066e-01, 4.76953178e-01, 6.08066775e-01],\n",
       "           [7.66278660e-01, 8.37111943e-01, 9.47021783e-01, ...,\n",
       "            6.11530705e-01, 3.75496859e-01, 7.85091849e-01],\n",
       "           [7.82713724e-01, 6.09690093e-01, 2.72247608e-01, ...,\n",
       "            7.20866098e-02, 3.30584604e-01, 3.38954708e-02],\n",
       "           ...,\n",
       "           [6.38380112e-01, 7.33754238e-01, 4.18738247e-01, ...,\n",
       "            1.03901943e-01, 2.47349433e-01, 9.25406739e-01],\n",
       "           [7.80647478e-01, 7.60592714e-01, 9.44588519e-01, ...,\n",
       "            6.70190632e-01, 2.55122616e-02, 5.13469130e-02],\n",
       "           [8.40918212e-01, 2.38473061e-01, 7.22218112e-01, ...,\n",
       "            3.49992047e-01, 7.76137539e-02, 5.78100925e-01]],\n",
       "\n",
       "          [[5.90837275e-01, 5.70018223e-01, 3.90380108e-01, ...,\n",
       "            2.82833781e-01, 8.01890928e-01, 6.96802680e-01],\n",
       "           [7.45495083e-01, 8.16253997e-01, 3.56487020e-01, ...,\n",
       "            2.98249366e-01, 8.45090168e-01, 3.23613408e-01],\n",
       "           [3.91879587e-01, 7.31583623e-01, 5.60088448e-01, ...,\n",
       "            9.70186587e-01, 4.49902060e-02, 4.53878930e-01],\n",
       "           ...,\n",
       "           [9.87181073e-01, 7.50302405e-01, 9.37731891e-01, ...,\n",
       "            9.14380637e-01, 8.18649435e-01, 4.81595890e-01],\n",
       "           [9.47026494e-01, 4.09188346e-01, 6.43581493e-01, ...,\n",
       "            6.13030016e-02, 2.51337180e-01, 1.05934967e-01],\n",
       "           [4.73858685e-01, 3.21723113e-02, 4.10340706e-01, ...,\n",
       "            7.74102420e-01, 3.02527899e-01, 6.33212072e-01]]],\n",
       "\n",
       "\n",
       "         [[[6.16593019e-01, 8.42033577e-01, 7.57048224e-01, ...,\n",
       "            7.21455836e-01, 6.56915748e-02, 9.81809099e-01],\n",
       "           [6.04946943e-01, 6.94286403e-02, 1.63705230e-01, ...,\n",
       "            2.31771801e-01, 3.41841386e-01, 2.34208805e-01],\n",
       "           [1.62963080e-01, 9.61674134e-01, 3.72298289e-01, ...,\n",
       "            6.47696968e-01, 3.20326748e-01, 3.40815233e-01],\n",
       "           ...,\n",
       "           [5.37104836e-01, 4.79542719e-02, 4.94419913e-01, ...,\n",
       "            7.54332865e-01, 6.52430611e-01, 5.11483865e-01],\n",
       "           [5.33261806e-01, 6.10004946e-01, 2.72632216e-01, ...,\n",
       "            5.20954573e-01, 3.70450378e-02, 7.05270880e-01],\n",
       "           [2.59331661e-01, 9.02006379e-01, 5.23156733e-02, ...,\n",
       "            2.71116075e-01, 7.17374591e-01, 2.37385347e-01]],\n",
       "\n",
       "          [[5.15963691e-01, 7.11687332e-01, 9.49300505e-01, ...,\n",
       "            7.82829968e-01, 3.08953184e-01, 6.64950054e-01],\n",
       "           [3.09514025e-01, 1.48488774e-01, 9.96976734e-01, ...,\n",
       "            1.77728768e-01, 5.20477419e-01, 6.10352821e-01],\n",
       "           [7.20824063e-01, 4.96246398e-01, 6.10247784e-01, ...,\n",
       "            8.57614841e-01, 1.84117810e-01, 6.78855842e-01],\n",
       "           ...,\n",
       "           [9.41788759e-01, 8.04783949e-01, 6.08139584e-01, ...,\n",
       "            1.96313635e-01, 2.03247941e-01, 7.04979127e-01],\n",
       "           [2.62183671e-01, 8.99753153e-01, 4.50258437e-01, ...,\n",
       "            9.20067201e-01, 3.69863489e-01, 4.24599110e-01],\n",
       "           [2.59342550e-01, 3.99558606e-01, 8.92388255e-01, ...,\n",
       "            4.83235994e-01, 6.73200082e-02, 4.28419474e-01]],\n",
       "\n",
       "          [[9.30022651e-01, 1.80199001e-01, 4.34697122e-02, ...,\n",
       "            1.63088201e-01, 8.50635451e-01, 1.86748750e-01],\n",
       "           [5.12656658e-01, 8.30918139e-01, 3.13719215e-02, ...,\n",
       "            9.81833729e-01, 1.26890472e-01, 2.86705655e-01],\n",
       "           [3.03948938e-01, 5.11135473e-01, 4.36074737e-01, ...,\n",
       "            9.00762063e-01, 3.89697485e-01, 9.71742459e-01],\n",
       "           ...,\n",
       "           [7.72531891e-01, 3.12338837e-01, 1.55175085e-01, ...,\n",
       "            2.97689590e-02, 4.49387411e-01, 5.91893618e-01],\n",
       "           [2.55773649e-01, 6.32472545e-01, 7.91614327e-01, ...,\n",
       "            5.39859878e-02, 7.71547489e-02, 6.08220402e-01],\n",
       "           [4.06433195e-01, 6.13515375e-01, 1.15297671e-02, ...,\n",
       "            3.44809653e-01, 8.02723861e-01, 3.39892160e-01]],\n",
       "\n",
       "          ...,\n",
       "\n",
       "          [[1.93411222e-01, 4.01847317e-01, 1.97471919e-01, ...,\n",
       "            6.35560605e-01, 9.73617415e-01, 1.17323166e-01],\n",
       "           [1.61708414e-01, 9.74950595e-01, 3.78782835e-01, ...,\n",
       "            2.96538025e-01, 6.24142776e-01, 9.16931874e-01],\n",
       "           [5.39386354e-01, 2.03622757e-01, 8.23125075e-01, ...,\n",
       "            6.72915599e-01, 9.53739638e-01, 5.84781420e-01],\n",
       "           ...,\n",
       "           [6.35342823e-01, 8.82046352e-01, 3.00312045e-01, ...,\n",
       "            3.20029962e-01, 1.12642405e-01, 5.47925174e-01],\n",
       "           [8.83902422e-01, 1.31751082e-01, 3.95018548e-03, ...,\n",
       "            1.85603875e-01, 8.22846692e-01, 9.95307461e-01],\n",
       "           [4.76827752e-01, 3.27942260e-01, 5.02437739e-01, ...,\n",
       "            9.31397590e-01, 9.42223013e-01, 8.29928952e-01]],\n",
       "\n",
       "          [[7.47648029e-01, 9.53839211e-01, 7.03070275e-01, ...,\n",
       "            9.98142094e-01, 3.79271792e-01, 4.24627055e-01],\n",
       "           [4.43068126e-01, 5.00942400e-01, 8.32783833e-01, ...,\n",
       "            1.39622864e-01, 5.36331639e-01, 9.37952357e-02],\n",
       "           [2.72142842e-01, 5.24808956e-01, 9.71146195e-01, ...,\n",
       "            4.09113562e-01, 1.03327042e-01, 1.23127458e-01],\n",
       "           ...,\n",
       "           [4.54049752e-01, 1.03923279e-01, 3.05174299e-01, ...,\n",
       "            8.76675718e-01, 9.36462998e-01, 8.68267783e-01],\n",
       "           [6.30846915e-01, 4.42265387e-01, 5.41226295e-01, ...,\n",
       "            2.51112954e-01, 8.82242955e-01, 5.69490872e-01],\n",
       "           [4.48896196e-01, 3.34900101e-01, 2.46849077e-02, ...,\n",
       "            1.30844606e-01, 7.81656378e-01, 2.42074790e-01]],\n",
       "\n",
       "          [[2.39697666e-01, 1.71288245e-01, 7.86819647e-02, ...,\n",
       "            5.28954188e-01, 8.16097990e-02, 9.77815511e-01],\n",
       "           [9.50255989e-01, 7.14847552e-01, 5.71377378e-01, ...,\n",
       "            4.74956836e-01, 5.76970614e-01, 4.59168917e-01],\n",
       "           [7.64919468e-01, 3.25257127e-01, 6.21665754e-01, ...,\n",
       "            2.02362701e-01, 1.10889892e-01, 4.23744981e-01],\n",
       "           ...,\n",
       "           [3.00474896e-01, 1.57877583e-01, 1.63443726e-01, ...,\n",
       "            4.19448917e-01, 8.44815645e-01, 2.34209024e-01],\n",
       "           [6.70538916e-01, 3.11511638e-01, 9.91002527e-02, ...,\n",
       "            4.58750087e-01, 3.60939850e-01, 5.22025257e-01],\n",
       "           [4.90159688e-01, 2.89669853e-01, 5.95947305e-01, ...,\n",
       "            9.99650295e-01, 7.90023684e-01, 9.95433167e-01]]]]],\n",
       "\n",
       "\n",
       "\n",
       "\n",
       "       [[[[[1.01126998e-01, 6.20835132e-01, 4.60005551e-01, ...,\n",
       "            5.42810013e-01, 6.63063397e-01, 2.50681950e-01],\n",
       "           [5.94777243e-01, 8.96703935e-02, 8.29999004e-01, ...,\n",
       "            3.33080269e-01, 2.41986813e-01, 7.05418962e-01],\n",
       "           [3.57611034e-01, 7.42895374e-01, 7.31988839e-01, ...,\n",
       "            6.23822708e-01, 6.24986920e-01, 2.98290207e-02],\n",
       "           ...,\n",
       "           [2.17445887e-01, 8.89968451e-01, 4.38620843e-01, ...,\n",
       "            4.29009413e-01, 6.70302276e-01, 2.09182830e-01],\n",
       "           [7.99436430e-01, 5.04052548e-01, 1.06996967e-01, ...,\n",
       "            8.93876550e-01, 5.83556007e-01, 5.18755945e-01],\n",
       "           [9.50551921e-01, 4.48035816e-01, 5.86369618e-01, ...,\n",
       "            2.07346879e-01, 5.92878173e-01, 3.83481869e-02]],\n",
       "\n",
       "          [[7.12773265e-01, 8.87693440e-01, 3.89990092e-01, ...,\n",
       "            3.81684965e-01, 3.02579956e-01, 1.73530972e-01],\n",
       "           [9.04023380e-01, 7.26310595e-01, 7.32138527e-01, ...,\n",
       "            5.29258107e-01, 5.40806858e-01, 3.70595532e-01],\n",
       "           [1.89934821e-01, 4.08207274e-01, 6.36980946e-01, ...,\n",
       "            2.87989437e-01, 5.78908705e-01, 4.73497189e-01],\n",
       "           ...,\n",
       "           [9.64526693e-01, 7.52347557e-01, 5.19786306e-01, ...,\n",
       "            3.60969045e-01, 4.00171769e-01, 4.36334388e-01],\n",
       "           [3.12344232e-01, 9.70669402e-01, 1.24157864e-01, ...,\n",
       "            5.47449437e-01, 6.80371328e-03, 8.28671154e-01],\n",
       "           [2.52109487e-01, 4.55984215e-01, 6.26835403e-01, ...,\n",
       "            6.89483297e-01, 1.49162758e-01, 4.03520202e-01]],\n",
       "\n",
       "          [[3.05031190e-01, 6.05645253e-01, 4.80878825e-01, ...,\n",
       "            5.90567633e-01, 6.21827317e-01, 3.91527326e-01],\n",
       "           [4.98000444e-01, 5.68335260e-01, 6.68818381e-02, ...,\n",
       "            9.99355685e-01, 4.94920202e-01, 9.88905460e-03],\n",
       "           [4.52409400e-01, 5.10007947e-01, 2.45897426e-03, ...,\n",
       "            3.22633734e-01, 9.11017084e-01, 9.10935612e-01],\n",
       "           ...,\n",
       "           [6.63818115e-01, 1.95930505e-01, 3.89870431e-01, ...,\n",
       "            1.50457687e-01, 1.43947482e-01, 9.98522287e-01],\n",
       "           [5.03249884e-01, 5.17911796e-01, 9.63121800e-01, ...,\n",
       "            7.10132323e-01, 4.98577176e-01, 4.04759009e-01],\n",
       "           [6.89933058e-01, 3.96735010e-01, 6.47737333e-01, ...,\n",
       "            5.99449547e-01, 9.67643539e-03, 3.23594360e-01]],\n",
       "\n",
       "          ...,\n",
       "\n",
       "          [[4.01856146e-01, 6.29592556e-01, 5.88729500e-02, ...,\n",
       "            8.95943948e-01, 9.18887987e-01, 3.85191283e-01],\n",
       "           [7.95968055e-01, 1.99745650e-01, 3.96434804e-02, ...,\n",
       "            1.66067050e-01, 7.15873390e-01, 9.28222669e-01],\n",
       "           [7.58153271e-03, 3.33356039e-01, 8.45974561e-01, ...,\n",
       "            5.78185497e-01, 4.00312827e-01, 3.60042104e-01],\n",
       "           ...,\n",
       "           [3.42421110e-01, 5.92970260e-01, 1.54754470e-01, ...,\n",
       "            1.42310190e-01, 4.95485249e-01, 4.58127333e-01],\n",
       "           [8.60203560e-01, 7.85288288e-01, 4.45157595e-01, ...,\n",
       "            7.78843994e-02, 9.31620327e-01, 6.64841291e-01],\n",
       "           [6.03206675e-01, 1.59685107e-01, 9.60780308e-01, ...,\n",
       "            5.73452362e-01, 8.89633148e-01, 5.62613527e-01]],\n",
       "\n",
       "          [[8.87528582e-01, 7.90223044e-01, 6.55435808e-01, ...,\n",
       "            3.48263496e-01, 5.42920460e-01, 4.94745465e-01],\n",
       "           [4.03759168e-01, 7.99387365e-01, 8.20666368e-01, ...,\n",
       "            7.76305519e-01, 4.15483762e-01, 7.56210258e-01],\n",
       "           [5.44431395e-01, 1.73518946e-01, 1.44095890e-01, ...,\n",
       "            6.36869152e-01, 1.50285663e-01, 4.67994992e-02],\n",
       "           ...,\n",
       "           [7.27480230e-02, 5.73565716e-01, 8.04446432e-01, ...,\n",
       "            2.53831324e-01, 1.37727858e-01, 6.60063621e-01],\n",
       "           [7.36773259e-01, 4.81971372e-01, 4.18937438e-01, ...,\n",
       "            5.39314447e-01, 7.28138899e-01, 8.52089702e-01],\n",
       "           [2.18801451e-01, 8.75552955e-01, 6.32185122e-01, ...,\n",
       "            8.73988024e-02, 1.20776776e-01, 7.62804633e-01]],\n",
       "\n",
       "          [[4.29207344e-01, 1.22839057e-01, 9.92418939e-01, ...,\n",
       "            7.90141010e-01, 1.44530993e-01, 7.08505947e-01],\n",
       "           [6.72710895e-01, 9.26907549e-01, 9.77371167e-01, ...,\n",
       "            8.18119003e-01, 7.90086341e-01, 5.15997019e-01],\n",
       "           [2.93729886e-01, 5.98174088e-01, 8.33317779e-01, ...,\n",
       "            5.35027440e-01, 5.84220311e-01, 3.41954557e-02],\n",
       "           ...,\n",
       "           [7.11703157e-01, 4.61791533e-01, 6.86777108e-01, ...,\n",
       "            5.19453308e-01, 5.24608505e-02, 4.76898948e-01],\n",
       "           [9.33534582e-01, 8.70589181e-02, 4.89341150e-01, ...,\n",
       "            6.18238212e-01, 7.45628339e-01, 9.66357659e-01],\n",
       "           [4.66139376e-01, 6.89018193e-01, 8.00828279e-01, ...,\n",
       "            6.35041187e-01, 7.83894850e-01, 2.91336544e-01]]],\n",
       "\n",
       "\n",
       "         [[[9.34567966e-01, 1.20371900e-01, 1.39442057e-01, ...,\n",
       "            8.49152739e-01, 1.58539881e-01, 7.11266632e-01],\n",
       "           [6.59296324e-01, 5.10610493e-01, 5.49061355e-01, ...,\n",
       "            4.82900148e-01, 9.56230346e-01, 3.24111992e-01],\n",
       "           [9.09558737e-01, 3.17130952e-02, 1.92805100e-01, ...,\n",
       "            2.67791000e-01, 5.61094058e-01, 5.52653509e-01],\n",
       "           ...,\n",
       "           [4.00248649e-01, 3.64652639e-01, 5.11890825e-01, ...,\n",
       "            6.11432356e-01, 7.88385146e-02, 4.65677167e-01],\n",
       "           [2.74703717e-02, 3.19676321e-01, 9.93868982e-01, ...,\n",
       "            4.59112443e-01, 6.56599400e-01, 6.47486249e-02],\n",
       "           [5.61949658e-01, 2.82879246e-01, 3.15793981e-01, ...,\n",
       "            4.93857778e-01, 3.89076487e-01, 4.62033969e-01]],\n",
       "\n",
       "          [[8.72662108e-01, 9.64427713e-01, 3.67625203e-02, ...,\n",
       "            2.40931776e-02, 6.09390111e-01, 2.50586933e-01],\n",
       "           [1.86673453e-01, 8.74373530e-02, 1.36256837e-01, ...,\n",
       "            1.98470660e-01, 4.22339464e-01, 9.61953851e-01],\n",
       "           [5.72633374e-01, 1.54242448e-01, 9.29719100e-01, ...,\n",
       "            3.12444565e-01, 4.17223051e-01, 2.02424464e-01],\n",
       "           ...,\n",
       "           [6.18001491e-02, 6.63350099e-01, 1.78064244e-01, ...,\n",
       "            3.74539966e-01, 1.20175468e-01, 4.38620778e-01],\n",
       "           [1.17251598e-01, 5.10094031e-01, 8.22401413e-01, ...,\n",
       "            6.62336490e-01, 7.96556190e-02, 6.36163477e-02],\n",
       "           [2.64496393e-01, 4.14219879e-01, 7.41110826e-01, ...,\n",
       "            9.35086116e-01, 5.01797626e-01, 7.09692504e-01]],\n",
       "\n",
       "          [[3.98221067e-01, 5.92085023e-01, 8.66609603e-01, ...,\n",
       "            7.16160375e-01, 4.75318236e-01, 7.93522039e-02],\n",
       "           [9.17164015e-02, 6.04944009e-02, 6.95011649e-01, ...,\n",
       "            6.20735205e-01, 4.06653611e-01, 6.60493041e-01],\n",
       "           [8.24947186e-01, 8.93336441e-02, 8.62423552e-01, ...,\n",
       "            7.48142261e-01, 4.57394182e-01, 9.52198211e-02],\n",
       "           ...,\n",
       "           [4.59668706e-01, 9.89921533e-01, 5.68507898e-01, ...,\n",
       "            5.99391315e-01, 2.96449725e-01, 6.08145918e-01],\n",
       "           [3.74990925e-01, 7.56468204e-01, 3.65200326e-01, ...,\n",
       "            7.15054345e-01, 3.03436792e-01, 2.79967989e-01],\n",
       "           [5.22254397e-01, 3.96698654e-01, 4.40953558e-01, ...,\n",
       "            5.32232116e-02, 5.79285342e-01, 2.14265991e-01]],\n",
       "\n",
       "          ...,\n",
       "\n",
       "          [[8.24642655e-01, 3.33793388e-01, 5.83378642e-01, ...,\n",
       "            8.06696388e-01, 7.81470547e-01, 9.96497632e-01],\n",
       "           [3.27971916e-01, 9.73863201e-01, 3.32755071e-01, ...,\n",
       "            7.32244677e-01, 2.83088689e-01, 2.29435117e-01],\n",
       "           [8.01368853e-01, 5.02977158e-01, 5.12078202e-01, ...,\n",
       "            8.57614830e-01, 5.99856195e-01, 5.33565829e-01],\n",
       "           ...,\n",
       "           [3.81974357e-01, 1.36307961e-01, 3.67550543e-02, ...,\n",
       "            8.79367874e-01, 7.58339441e-01, 4.67393090e-01],\n",
       "           [8.78378016e-01, 5.57092089e-01, 3.95924117e-02, ...,\n",
       "            5.94018512e-02, 2.62845756e-02, 9.21383261e-01],\n",
       "           [6.24393407e-01, 3.45939406e-01, 3.12298093e-03, ...,\n",
       "            5.66679766e-01, 4.75684979e-01, 3.16145355e-01]],\n",
       "\n",
       "          [[4.54117370e-01, 4.76906132e-01, 4.78357667e-01, ...,\n",
       "            6.99433786e-01, 4.51439307e-01, 3.27422871e-01],\n",
       "           [4.06599447e-01, 5.76009948e-01, 1.93047422e-01, ...,\n",
       "            1.39111321e-01, 9.48637931e-01, 1.79155138e-01],\n",
       "           [3.51021586e-01, 1.02237933e-01, 6.04927434e-01, ...,\n",
       "            1.66700420e-01, 5.71915890e-01, 8.30967399e-01],\n",
       "           ...,\n",
       "           [3.30442764e-01, 5.44403406e-01, 9.23697492e-01, ...,\n",
       "            5.69238605e-01, 1.35511550e-01, 5.14116953e-01],\n",
       "           [9.71113968e-01, 1.13072771e-01, 2.57104221e-01, ...,\n",
       "            4.40282055e-01, 5.28656156e-01, 6.44801485e-01],\n",
       "           [8.69336154e-01, 9.10743483e-01, 2.92442724e-01, ...,\n",
       "            9.82643744e-01, 6.63943173e-01, 2.61836446e-01]],\n",
       "\n",
       "          [[3.44941367e-01, 9.06968623e-01, 4.22266927e-01, ...,\n",
       "            4.24771861e-02, 4.60095558e-01, 1.57982403e-01],\n",
       "           [6.65267248e-01, 7.80647461e-01, 2.83010419e-01, ...,\n",
       "            7.34514366e-01, 9.36976854e-01, 5.94868759e-01],\n",
       "           [9.57294269e-02, 2.30955607e-01, 3.09498095e-01, ...,\n",
       "            9.22444029e-01, 8.36252254e-02, 7.98341360e-01],\n",
       "           ...,\n",
       "           [9.13805735e-01, 2.04388729e-01, 7.78149897e-01, ...,\n",
       "            5.52355937e-01, 4.95878171e-01, 5.51834319e-01],\n",
       "           [1.24289293e-01, 4.00029467e-01, 1.51635569e-02, ...,\n",
       "            2.17794550e-01, 2.39542601e-01, 7.27548677e-01],\n",
       "           [2.19248212e-01, 2.22066868e-01, 9.00328655e-01, ...,\n",
       "            3.22448968e-02, 7.05732653e-01, 8.68509316e-01]]],\n",
       "\n",
       "\n",
       "         [[[1.56390725e-01, 4.59344631e-01, 3.61295490e-01, ...,\n",
       "            2.57737824e-02, 6.54617615e-01, 7.42108628e-01],\n",
       "           [7.85436057e-01, 4.19342636e-01, 4.28012750e-01, ...,\n",
       "            8.99531326e-01, 9.13971183e-01, 1.87575917e-01],\n",
       "           [4.42256015e-01, 6.95392142e-01, 2.75215058e-01, ...,\n",
       "            9.64809982e-01, 1.88268912e-01, 9.42764849e-01],\n",
       "           ...,\n",
       "           [2.72183076e-01, 5.17216920e-01, 7.86508967e-01, ...,\n",
       "            9.77178458e-01, 9.84983762e-01, 3.68646868e-01],\n",
       "           [3.63654032e-02, 9.41980505e-01, 4.31845309e-01, ...,\n",
       "            4.50847892e-01, 7.63693264e-01, 2.61308169e-01],\n",
       "           [2.44335435e-02, 5.11202526e-01, 6.49103258e-01, ...,\n",
       "            3.88708710e-02, 4.30965406e-01, 9.70711472e-01]],\n",
       "\n",
       "          [[6.34984575e-02, 2.58824197e-01, 7.83009140e-01, ...,\n",
       "            1.57374856e-01, 5.24456702e-01, 1.57091521e-01],\n",
       "           [1.02090290e-03, 9.65950187e-01, 1.73976655e-01, ...,\n",
       "            1.78735658e-01, 9.78019801e-01, 2.38423109e-01],\n",
       "           [6.11735760e-01, 2.94622589e-01, 4.39551799e-01, ...,\n",
       "            1.97611925e-01, 2.21725581e-02, 6.44590124e-01],\n",
       "           ...,\n",
       "           [1.74132386e-01, 7.21184465e-01, 3.70264588e-01, ...,\n",
       "            9.93652606e-01, 8.59723042e-01, 9.72416240e-01],\n",
       "           [5.44856392e-01, 2.97405416e-01, 3.51824373e-01, ...,\n",
       "            8.56321958e-03, 2.76500195e-02, 8.75204844e-02],\n",
       "           [5.46161281e-02, 2.87123733e-01, 6.93376133e-01, ...,\n",
       "            9.26134803e-01, 1.02354453e-01, 6.25671921e-01]],\n",
       "\n",
       "          [[8.51135697e-02, 1.41062950e-01, 3.32545862e-01, ...,\n",
       "            8.82070944e-01, 2.85588682e-01, 3.92938152e-01],\n",
       "           [5.81794702e-01, 4.40666359e-01, 3.00223093e-01, ...,\n",
       "            7.43629788e-01, 8.28993694e-01, 4.34062026e-01],\n",
       "           [5.31013512e-01, 3.16855758e-01, 1.10200190e-01, ...,\n",
       "            7.07051563e-01, 8.83222990e-01, 7.94257291e-03],\n",
       "           ...,\n",
       "           [6.67932783e-01, 9.52360032e-01, 4.61095233e-01, ...,\n",
       "            6.40162385e-01, 6.37639467e-01, 8.05142651e-01],\n",
       "           [5.09697158e-01, 9.01826867e-01, 1.18255258e-01, ...,\n",
       "            2.13354959e-01, 7.92569145e-01, 5.61869385e-01],\n",
       "           [3.39284173e-01, 6.47400038e-01, 1.67355621e-02, ...,\n",
       "            6.48942705e-01, 4.37287123e-01, 5.13903914e-01]],\n",
       "\n",
       "          ...,\n",
       "\n",
       "          [[2.89810227e-01, 8.51427435e-01, 9.27464284e-01, ...,\n",
       "            7.02504422e-01, 9.34239208e-01, 4.82749532e-01],\n",
       "           [3.08134419e-01, 7.75478527e-01, 5.18916095e-01, ...,\n",
       "            2.01247117e-01, 6.86043168e-01, 1.79789097e-01],\n",
       "           [4.86252562e-01, 9.21163636e-01, 2.70708758e-01, ...,\n",
       "            2.01405515e-01, 2.04250669e-01, 8.44913946e-01],\n",
       "           ...,\n",
       "           [9.73201282e-01, 7.68890077e-01, 4.22518070e-01, ...,\n",
       "            7.89972357e-01, 8.71015225e-01, 8.96113957e-01],\n",
       "           [1.73849308e-02, 2.82209340e-01, 2.04284771e-01, ...,\n",
       "            3.80436319e-01, 6.40504484e-01, 1.23717506e-02],\n",
       "           [8.42946119e-01, 8.77191586e-01, 8.91665381e-02, ...,\n",
       "            9.60026221e-01, 8.85022903e-01, 4.23146378e-01]],\n",
       "\n",
       "          [[8.19987271e-01, 4.91476226e-01, 2.55986306e-01, ...,\n",
       "            2.93724277e-02, 7.04908074e-01, 7.73429877e-01],\n",
       "           [7.03206943e-01, 3.13981972e-01, 1.76835295e-01, ...,\n",
       "            9.25166711e-01, 1.07906024e-01, 8.15516071e-01],\n",
       "           [8.92807241e-01, 6.54802012e-01, 4.00594000e-01, ...,\n",
       "            9.58610756e-01, 7.81291044e-01, 9.93646870e-01],\n",
       "           ...,\n",
       "           [2.60708775e-02, 6.28339290e-01, 8.91738418e-01, ...,\n",
       "            7.58880526e-02, 7.07179154e-01, 3.33112294e-01],\n",
       "           [7.74291881e-01, 8.78386498e-01, 8.32937938e-02, ...,\n",
       "            2.55050129e-01, 6.13633627e-02, 6.63328422e-01],\n",
       "           [8.66854336e-01, 1.50079125e-02, 8.16103293e-01, ...,\n",
       "            3.35549069e-01, 1.01640152e-01, 5.93944201e-01]],\n",
       "\n",
       "          [[6.44005489e-01, 2.55205754e-01, 2.66771718e-01, ...,\n",
       "            4.48322820e-01, 7.82451432e-01, 8.35115311e-01],\n",
       "           [9.39943613e-01, 5.95302689e-01, 8.05647131e-01, ...,\n",
       "            2.75100719e-01, 1.14481442e-01, 2.84475904e-02],\n",
       "           [6.75135086e-01, 7.79351095e-01, 4.89194491e-01, ...,\n",
       "            5.07625929e-01, 4.73247721e-01, 2.84589588e-01],\n",
       "           ...,\n",
       "           [1.03997332e-01, 4.16322530e-01, 8.54181524e-01, ...,\n",
       "            7.21863613e-01, 3.13975712e-01, 4.08084161e-01],\n",
       "           [1.98384673e-01, 4.44791234e-02, 5.67236559e-01, ...,\n",
       "            3.22810856e-01, 7.99991380e-01, 6.69245686e-01],\n",
       "           [7.82115209e-01, 6.84828527e-01, 4.17034489e-02, ...,\n",
       "            8.97149461e-01, 7.90757117e-01, 9.21265300e-01]]],\n",
       "\n",
       "\n",
       "         [[[4.06138489e-02, 6.05102767e-01, 4.03787021e-01, ...,\n",
       "            2.42796634e-01, 8.25509889e-01, 2.72700200e-01],\n",
       "           [9.69184229e-01, 1.80391140e-01, 7.81858155e-01, ...,\n",
       "            6.99255871e-01, 6.36403790e-01, 4.94718381e-01],\n",
       "           [9.19912543e-01, 2.49915500e-01, 9.30529998e-01, ...,\n",
       "            3.74327110e-01, 6.88849156e-01, 7.69703969e-01],\n",
       "           ...,\n",
       "           [1.16978401e-01, 6.95464624e-01, 9.94313198e-01, ...,\n",
       "            4.33021775e-02, 4.94339488e-01, 4.53007454e-01],\n",
       "           [4.03639527e-01, 5.52191948e-01, 8.82375481e-01, ...,\n",
       "            9.30148428e-01, 1.24661731e-01, 7.89962179e-01],\n",
       "           [7.21995984e-01, 7.60902001e-01, 2.18404017e-01, ...,\n",
       "            7.40690895e-01, 7.56445682e-01, 6.57446726e-01]],\n",
       "\n",
       "          [[3.24491022e-01, 9.79363129e-02, 6.22202563e-02, ...,\n",
       "            5.08285404e-01, 5.34741958e-01, 3.42085969e-01],\n",
       "           [8.54736861e-01, 1.43857087e-01, 8.10577685e-01, ...,\n",
       "            2.87018790e-01, 9.34431934e-01, 9.56587133e-01],\n",
       "           [1.68229725e-01, 6.81733030e-01, 7.35748439e-01, ...,\n",
       "            1.64340130e-01, 3.16640160e-01, 1.20627385e-01],\n",
       "           ...,\n",
       "           [9.11700113e-01, 3.42312232e-01, 6.78879830e-01, ...,\n",
       "            3.83496282e-01, 1.43715978e-01, 7.46909210e-01],\n",
       "           [4.04920680e-01, 5.88518598e-01, 5.04358922e-01, ...,\n",
       "            1.82864308e-01, 8.23937043e-01, 8.14181218e-01],\n",
       "           [4.49706529e-01, 2.53373068e-01, 7.07909721e-01, ...,\n",
       "            2.18033445e-02, 6.71502784e-01, 6.41934537e-01]],\n",
       "\n",
       "          [[4.17961166e-01, 1.37077197e-01, 1.32902948e-01, ...,\n",
       "            9.72053421e-02, 1.44991308e-01, 1.15099633e-01],\n",
       "           [6.01308389e-01, 1.73680673e-01, 2.29236828e-03, ...,\n",
       "            1.22649917e-01, 1.87250529e-01, 6.54946168e-01],\n",
       "           [2.34084706e-01, 4.83786523e-02, 7.26946146e-01, ...,\n",
       "            8.07074528e-01, 6.19292943e-01, 3.24062221e-01],\n",
       "           ...,\n",
       "           [3.61959184e-02, 1.98926688e-01, 2.53549242e-01, ...,\n",
       "            9.72295031e-01, 3.82335524e-01, 6.74761969e-01],\n",
       "           [6.52110583e-01, 9.13182146e-01, 1.82982762e-01, ...,\n",
       "            1.17922259e-02, 2.28119565e-01, 7.41442415e-01],\n",
       "           [9.22070898e-01, 8.12651662e-01, 8.71976729e-02, ...,\n",
       "            7.23542432e-01, 6.32988455e-01, 2.84835043e-01]],\n",
       "\n",
       "          ...,\n",
       "\n",
       "          [[5.47988827e-01, 6.74915750e-01, 2.03102138e-01, ...,\n",
       "            6.48242449e-01, 1.58068139e-02, 3.84550325e-01],\n",
       "           [9.14983210e-02, 3.70415388e-01, 4.26545309e-01, ...,\n",
       "            6.70245421e-01, 3.61668298e-01, 8.52275073e-01],\n",
       "           [4.82723097e-01, 6.43331109e-01, 2.32000014e-01, ...,\n",
       "            4.90642988e-01, 8.19180622e-01, 9.95199649e-01],\n",
       "           ...,\n",
       "           [2.29941578e-01, 9.41262522e-02, 5.33358270e-01, ...,\n",
       "            4.59233256e-01, 5.75563096e-01, 4.03919017e-01],\n",
       "           [4.60642391e-03, 7.33258490e-01, 2.15632831e-01, ...,\n",
       "            5.69486397e-01, 1.52401809e-01, 3.24281132e-01],\n",
       "           [2.32481145e-01, 6.65563389e-01, 6.58611671e-01, ...,\n",
       "            4.00421092e-01, 2.95363011e-01, 1.81446486e-01]],\n",
       "\n",
       "          [[5.23912176e-01, 1.32159213e-01, 5.35430510e-01, ...,\n",
       "            3.94416389e-01, 6.17015665e-01, 1.55403560e-02],\n",
       "           [5.83667684e-02, 5.09433464e-01, 1.62204493e-01, ...,\n",
       "            9.48486715e-01, 1.87421300e-01, 8.67220146e-01],\n",
       "           [4.90212424e-01, 8.64658841e-01, 8.49403677e-01, ...,\n",
       "            2.99379954e-02, 6.71515422e-01, 9.59165191e-02],\n",
       "           ...,\n",
       "           [9.74228150e-01, 3.66287742e-01, 6.49089976e-01, ...,\n",
       "            4.66184600e-01, 1.26536254e-01, 6.89221047e-01],\n",
       "           [9.38746698e-01, 1.37729023e-01, 4.75682966e-01, ...,\n",
       "            1.47396377e-01, 6.01952299e-01, 8.88074418e-01],\n",
       "           [5.86202846e-01, 1.96202235e-01, 8.39187183e-01, ...,\n",
       "            1.24695020e-01, 3.85480458e-01, 7.33718592e-01]],\n",
       "\n",
       "          [[3.84675279e-01, 1.32948534e-01, 9.00605456e-01, ...,\n",
       "            1.26526517e-01, 6.49484794e-01, 8.43904404e-01],\n",
       "           [8.85461165e-01, 8.97781794e-01, 8.89832989e-01, ...,\n",
       "            5.80468076e-01, 7.33449578e-02, 6.06031687e-01],\n",
       "           [8.90296407e-01, 2.00080597e-01, 1.39850431e-01, ...,\n",
       "            2.20756778e-01, 1.90575295e-01, 7.89675387e-01],\n",
       "           ...,\n",
       "           [7.67993582e-01, 3.28463532e-02, 4.30526438e-01, ...,\n",
       "            9.36048738e-01, 6.21875895e-01, 4.69788862e-01],\n",
       "           [4.26798592e-01, 6.78198356e-01, 3.71008331e-01, ...,\n",
       "            4.12406244e-01, 9.52879835e-01, 3.24828944e-01],\n",
       "           [4.22030063e-02, 7.01572577e-01, 7.69760179e-01, ...,\n",
       "            4.04558211e-01, 9.88835328e-01, 3.03628622e-01]]]],\n",
       "\n",
       "\n",
       "\n",
       "        [[[[5.98817119e-01, 8.98310745e-01, 4.23295486e-03, ...,\n",
       "            8.14418299e-01, 5.14859203e-01, 9.80847037e-01],\n",
       "           [9.94734965e-01, 4.83164147e-01, 6.13810735e-01, ...,\n",
       "            3.35125284e-01, 1.12073421e-01, 6.96678535e-01],\n",
       "           [6.64155685e-01, 4.31594771e-01, 2.47417063e-01, ...,\n",
       "            2.61300246e-01, 9.54496505e-01, 2.74802774e-01],\n",
       "           ...,\n",
       "           [4.75150251e-01, 9.52129425e-01, 8.71659227e-01, ...,\n",
       "            1.06446677e-01, 7.81640034e-01, 3.78787894e-01],\n",
       "           [9.04086722e-01, 4.18766343e-01, 5.00213687e-02, ...,\n",
       "            1.21868823e-01, 5.20255383e-01, 4.94668404e-01],\n",
       "           [4.72066488e-01, 5.73252691e-01, 2.91044943e-02, ...,\n",
       "            5.40550891e-01, 8.98137006e-01, 4.10012147e-01]],\n",
       "\n",
       "          [[3.55968740e-01, 2.43233595e-01, 1.17432967e-01, ...,\n",
       "            8.94473907e-01, 9.26503392e-01, 4.44430935e-02],\n",
       "           [9.06934047e-01, 9.30226109e-01, 1.94210588e-01, ...,\n",
       "            3.56211036e-01, 5.25736997e-01, 2.75103463e-01],\n",
       "           [9.05879692e-02, 2.84068437e-01, 7.94515499e-01, ...,\n",
       "            7.01242772e-01, 1.99220371e-01, 4.23786209e-01],\n",
       "           ...,\n",
       "           [5.12369106e-01, 5.87507600e-02, 3.71814714e-01, ...,\n",
       "            8.48927980e-01, 5.34906767e-01, 2.72474534e-01],\n",
       "           [9.10261387e-01, 6.74627835e-01, 9.11845629e-01, ...,\n",
       "            5.02423175e-01, 5.09600972e-01, 1.82436404e-01],\n",
       "           [9.25669131e-01, 2.09125331e-01, 5.06843584e-01, ...,\n",
       "            2.54305269e-01, 1.43544845e-02, 4.45987296e-01]],\n",
       "\n",
       "          [[4.68617963e-02, 6.25563002e-01, 9.86250415e-01, ...,\n",
       "            9.06102804e-01, 8.91138928e-01, 5.14172362e-01],\n",
       "           [4.64020878e-02, 4.45452262e-01, 3.74266804e-01, ...,\n",
       "            9.63325402e-01, 1.10128238e-01, 3.66294751e-01],\n",
       "           [4.23858286e-01, 7.35492621e-01, 1.52244650e-01, ...,\n",
       "            5.54730407e-02, 6.91566037e-01, 5.57328160e-01],\n",
       "           ...,\n",
       "           [6.09513727e-01, 5.72926277e-01, 1.03182579e-01, ...,\n",
       "            5.81594580e-01, 2.43790829e-01, 1.89662690e-01],\n",
       "           [1.38145151e-01, 4.90595830e-02, 5.57338742e-01, ...,\n",
       "            5.91336477e-01, 1.80343689e-01, 2.63040080e-01],\n",
       "           [6.52895368e-01, 7.82872182e-01, 2.16819920e-01, ...,\n",
       "            2.22349789e-01, 7.44435592e-01, 2.71445253e-02]],\n",
       "\n",
       "          ...,\n",
       "\n",
       "          [[8.54443193e-01, 8.81222165e-01, 9.26912610e-01, ...,\n",
       "            9.80415491e-02, 8.73202483e-01, 4.10443846e-01],\n",
       "           [8.68368254e-01, 6.77326920e-01, 9.32905123e-01, ...,\n",
       "            2.94735768e-01, 3.65941185e-01, 6.17237182e-01],\n",
       "           [3.01997069e-01, 3.68396168e-02, 5.93173073e-01, ...,\n",
       "            5.62993837e-01, 2.53424389e-02, 1.45963683e-01],\n",
       "           ...,\n",
       "           [9.61015388e-01, 4.04124889e-02, 9.22656028e-01, ...,\n",
       "            8.23509843e-01, 7.05836155e-01, 8.83833197e-01],\n",
       "           [8.78973809e-01, 9.50510845e-02, 1.73803351e-01, ...,\n",
       "            8.87927391e-01, 6.52518579e-01, 1.37710783e-01],\n",
       "           [9.35614491e-01, 3.97267838e-01, 3.23921776e-01, ...,\n",
       "            8.41112750e-01, 9.68449373e-01, 6.43458878e-01]],\n",
       "\n",
       "          [[1.43778323e-01, 3.34249520e-01, 8.55182444e-01, ...,\n",
       "            6.34185939e-01, 6.38854690e-01, 1.78502180e-01],\n",
       "           [6.98222500e-01, 2.60450804e-01, 7.21558974e-01, ...,\n",
       "            4.77776208e-01, 2.63504225e-01, 7.38219081e-01],\n",
       "           [8.17901524e-01, 4.52427057e-01, 9.91661419e-01, ...,\n",
       "            9.08026082e-01, 8.87080522e-01, 4.26960562e-01],\n",
       "           ...,\n",
       "           [8.72154441e-01, 4.70006354e-01, 4.98869279e-01, ...,\n",
       "            9.24998181e-01, 6.45073353e-01, 5.90495158e-01],\n",
       "           [9.05029555e-01, 3.89983415e-01, 3.71931396e-01, ...,\n",
       "            4.00195290e-01, 7.22851349e-01, 7.86335407e-01],\n",
       "           [9.70577056e-01, 9.11557152e-01, 8.57007583e-01, ...,\n",
       "            5.53024367e-01, 6.11219002e-01, 6.35826291e-01]],\n",
       "\n",
       "          [[1.02268288e-02, 9.37948131e-01, 3.87699785e-01, ...,\n",
       "            9.48667223e-01, 5.60706838e-04, 3.44936909e-01],\n",
       "           [3.62786494e-01, 1.21113313e-01, 4.24978504e-02, ...,\n",
       "            6.84298285e-01, 7.45494675e-02, 3.08058204e-01],\n",
       "           [1.28305864e-01, 6.64059280e-01, 3.23174114e-01, ...,\n",
       "            7.87444085e-01, 9.64916507e-01, 5.67724276e-01],\n",
       "           ...,\n",
       "           [7.37557793e-01, 4.03024984e-01, 3.13131234e-01, ...,\n",
       "            3.97112558e-01, 5.56087125e-01, 1.56069807e-01],\n",
       "           [4.39848812e-01, 5.78284365e-01, 8.83989157e-01, ...,\n",
       "            7.31313147e-01, 1.81251420e-01, 9.51856949e-02],\n",
       "           [5.59222463e-01, 7.66747465e-01, 2.28910755e-01, ...,\n",
       "            9.53394644e-01, 5.05038009e-01, 5.68156881e-01]]],\n",
       "\n",
       "\n",
       "         [[[3.63396772e-01, 2.13574101e-01, 4.44396980e-02, ...,\n",
       "            6.75178299e-01, 8.68472901e-01, 7.76429942e-01],\n",
       "           [6.87770257e-01, 3.30124902e-01, 7.77590076e-01, ...,\n",
       "            5.61889373e-02, 3.90273003e-01, 6.60548805e-01],\n",
       "           [6.69530323e-01, 3.27288964e-01, 4.14507953e-02, ...,\n",
       "            1.11965759e-01, 3.52159323e-01, 2.64579808e-01],\n",
       "           ...,\n",
       "           [1.63571011e-02, 3.48565812e-01, 5.81418136e-01, ...,\n",
       "            7.41958264e-01, 1.67158483e-01, 3.85021953e-01],\n",
       "           [7.43311815e-02, 5.62422906e-01, 2.43866569e-01, ...,\n",
       "            9.79393447e-01, 3.65411547e-01, 9.70261629e-01],\n",
       "           [9.51051331e-01, 2.02677057e-01, 3.79153141e-02, ...,\n",
       "            9.00953258e-01, 1.31551666e-01, 1.39034475e-01]],\n",
       "\n",
       "          [[7.69823270e-03, 9.71486802e-01, 5.82297851e-01, ...,\n",
       "            9.33756140e-01, 4.94718783e-01, 6.06528721e-01],\n",
       "           [3.47321578e-01, 1.14792757e-01, 6.25327656e-01, ...,\n",
       "            6.55214416e-01, 1.76723663e-01, 6.90342451e-01],\n",
       "           [1.55975984e-01, 5.96529581e-01, 8.22034235e-01, ...,\n",
       "            7.43591628e-01, 1.47131108e-01, 1.06443442e-01],\n",
       "           ...,\n",
       "           [6.92582631e-01, 3.34149921e-01, 7.26150469e-02, ...,\n",
       "            5.52163746e-01, 6.67243645e-01, 2.45180993e-01],\n",
       "           [8.50177160e-01, 3.40918781e-01, 8.34915441e-01, ...,\n",
       "            2.84098816e-02, 8.37112125e-01, 4.56591661e-01],\n",
       "           [2.18210321e-01, 4.78919017e-02, 6.92459327e-01, ...,\n",
       "            1.65055101e-01, 5.00985416e-01, 8.98350510e-01]],\n",
       "\n",
       "          [[3.12198288e-01, 9.12343057e-01, 9.66367304e-01, ...,\n",
       "            6.74622700e-01, 3.07030445e-01, 2.36887745e-01],\n",
       "           [2.18174870e-01, 3.27159443e-01, 9.39322165e-01, ...,\n",
       "            8.42261292e-01, 2.88653348e-01, 1.21906475e-01],\n",
       "           [1.56195595e-01, 4.52311772e-01, 2.69109847e-01, ...,\n",
       "            2.17526867e-01, 7.66073959e-01, 8.48868680e-01],\n",
       "           ...,\n",
       "           [6.40970842e-01, 7.79828037e-01, 2.22048600e-01, ...,\n",
       "            1.34181358e-01, 9.97762304e-01, 4.70899690e-01],\n",
       "           [2.84895548e-01, 2.04698765e-02, 5.12330249e-01, ...,\n",
       "            6.35544035e-01, 4.08202283e-01, 4.78755533e-01],\n",
       "           [4.81419303e-01, 5.90078955e-01, 8.99681634e-02, ...,\n",
       "            5.70500692e-01, 5.58017453e-01, 8.99285312e-02]],\n",
       "\n",
       "          ...,\n",
       "\n",
       "          [[7.58938442e-01, 3.16651189e-01, 8.46612868e-01, ...,\n",
       "            4.31357629e-01, 3.96099051e-01, 5.96625174e-01],\n",
       "           [3.65498762e-01, 4.71169497e-01, 8.27675391e-01, ...,\n",
       "            4.75229815e-01, 7.96166377e-02, 1.44093124e-01],\n",
       "           [3.55900257e-01, 5.05103417e-01, 2.88048193e-01, ...,\n",
       "            2.33374319e-01, 3.80931313e-01, 9.39996482e-01],\n",
       "           ...,\n",
       "           [9.14065024e-01, 4.93949730e-01, 8.92935654e-01, ...,\n",
       "            3.07931856e-01, 9.14059612e-01, 5.92793288e-01],\n",
       "           [4.82960335e-01, 6.33119891e-01, 5.75335253e-01, ...,\n",
       "            2.05932996e-01, 9.84511256e-01, 5.73240960e-02],\n",
       "           [3.30081073e-01, 5.20647658e-01, 7.94517272e-01, ...,\n",
       "            6.09691879e-01, 1.85830617e-01, 5.30389456e-01]],\n",
       "\n",
       "          [[7.64496940e-01, 4.45851667e-01, 2.67479983e-01, ...,\n",
       "            1.30563243e-02, 2.40778332e-01, 8.11050028e-01],\n",
       "           [2.54101603e-01, 8.81502129e-01, 3.70382021e-01, ...,\n",
       "            3.64568102e-01, 7.94993334e-01, 8.34418189e-01],\n",
       "           [9.01436630e-01, 2.67706625e-01, 4.13907804e-01, ...,\n",
       "            2.01245939e-01, 5.22793961e-02, 3.02231439e-01],\n",
       "           ...,\n",
       "           [5.60110755e-01, 2.41045036e-01, 4.81072535e-01, ...,\n",
       "            8.07799643e-01, 6.27455294e-02, 5.53694245e-02],\n",
       "           [2.55068904e-01, 9.24239932e-01, 3.83618622e-01, ...,\n",
       "            6.44255791e-01, 5.71410191e-01, 5.59270617e-01],\n",
       "           [3.43098011e-01, 8.47530259e-01, 4.71957537e-01, ...,\n",
       "            5.75968592e-01, 3.67257557e-01, 2.91779004e-01]],\n",
       "\n",
       "          [[8.81261405e-01, 7.50746373e-01, 6.68163588e-01, ...,\n",
       "            4.34867803e-01, 6.72745488e-01, 2.62994104e-01],\n",
       "           [6.30909022e-01, 8.90726120e-01, 3.03237514e-01, ...,\n",
       "            2.34552540e-01, 1.27658242e-01, 2.65667593e-01],\n",
       "           [2.88966038e-01, 6.14257290e-01, 9.76369185e-01, ...,\n",
       "            2.32557668e-01, 2.48252739e-01, 6.44079973e-01],\n",
       "           ...,\n",
       "           [3.27590819e-02, 1.79904671e-01, 1.26708375e-01, ...,\n",
       "            7.05053339e-01, 4.68830351e-01, 8.80648516e-01],\n",
       "           [1.95938455e-01, 3.55303558e-01, 3.58560233e-01, ...,\n",
       "            4.73358310e-02, 4.43492428e-01, 4.43086665e-01],\n",
       "           [2.71489749e-01, 8.83353468e-01, 3.33028779e-01, ...,\n",
       "            6.35605324e-01, 8.83160374e-01, 6.65475077e-02]]],\n",
       "\n",
       "\n",
       "         [[[3.77141703e-01, 1.85019209e-01, 8.06674584e-01, ...,\n",
       "            3.39043039e-01, 4.35662730e-01, 1.83684962e-01],\n",
       "           [4.19854057e-01, 5.96204319e-01, 1.58211134e-01, ...,\n",
       "            9.09942765e-01, 5.58451327e-01, 4.72578229e-01],\n",
       "           [1.35736108e-01, 3.68679028e-01, 4.96211608e-01, ...,\n",
       "            3.01042155e-01, 3.12334519e-01, 3.63301045e-01],\n",
       "           ...,\n",
       "           [8.93212373e-01, 9.30787590e-01, 1.69731603e-01, ...,\n",
       "            3.68980204e-01, 3.56432393e-01, 1.05984952e-01],\n",
       "           [5.65542428e-01, 5.07433988e-01, 4.83005055e-01, ...,\n",
       "            2.19617221e-01, 1.09591307e-01, 9.95701748e-01],\n",
       "           [7.03941173e-01, 1.61478140e-01, 4.29652162e-04, ...,\n",
       "            1.86337647e-01, 5.72226389e-01, 1.05029156e-01]],\n",
       "\n",
       "          [[1.63760847e-01, 2.54539497e-01, 3.85829176e-01, ...,\n",
       "            1.84178726e-01, 7.28085085e-01, 7.43320109e-01],\n",
       "           [2.32019220e-01, 4.19018210e-01, 7.37196661e-01, ...,\n",
       "            7.74991902e-01, 4.90961387e-01, 7.87335618e-01],\n",
       "           [5.62448286e-01, 9.50106573e-01, 4.15771407e-01, ...,\n",
       "            2.39762617e-01, 4.03638715e-02, 3.25784925e-01],\n",
       "           ...,\n",
       "           [9.49117423e-03, 8.42596690e-01, 2.56970898e-01, ...,\n",
       "            9.93090060e-02, 4.53983367e-01, 9.90371267e-01],\n",
       "           [3.48964887e-01, 2.62415730e-01, 5.55297399e-01, ...,\n",
       "            4.43744180e-01, 6.94556192e-02, 9.39883802e-01],\n",
       "           [8.25946529e-01, 7.06673270e-01, 4.03400338e-01, ...,\n",
       "            3.44710214e-01, 6.54561530e-01, 3.29133033e-01]],\n",
       "\n",
       "          [[3.42087424e-02, 3.59234701e-01, 9.63867678e-01, ...,\n",
       "            5.91664161e-01, 6.93408475e-01, 3.35828701e-01],\n",
       "           [4.91433512e-01, 4.08678494e-01, 3.63848368e-01, ...,\n",
       "            5.17503048e-02, 2.38472725e-02, 4.15256324e-01],\n",
       "           [4.33357012e-01, 7.75059307e-01, 5.89411976e-01, ...,\n",
       "            3.54536394e-01, 3.63045717e-01, 3.63657373e-01],\n",
       "           ...,\n",
       "           [5.63036831e-01, 2.97385390e-01, 9.11033235e-02, ...,\n",
       "            8.89510976e-01, 3.54313624e-02, 9.56994765e-01],\n",
       "           [2.57074861e-01, 9.08018965e-01, 6.55841218e-01, ...,\n",
       "            7.55643747e-01, 6.63240557e-01, 8.79282794e-01],\n",
       "           [8.74178136e-01, 1.37078127e-01, 3.63897145e-01, ...,\n",
       "            6.02076955e-01, 7.39075519e-01, 3.43916419e-01]],\n",
       "\n",
       "          ...,\n",
       "\n",
       "          [[2.35152763e-01, 3.41973730e-01, 6.67795516e-01, ...,\n",
       "            7.33243656e-01, 3.47565191e-02, 1.08471212e-01],\n",
       "           [4.85697741e-02, 3.84131840e-01, 7.94139122e-01, ...,\n",
       "            4.09256139e-01, 4.16556933e-02, 4.50270121e-01],\n",
       "           [6.92398573e-01, 9.08528378e-01, 8.47991795e-01, ...,\n",
       "            2.03559005e-01, 8.60266961e-01, 3.77086602e-01],\n",
       "           ...,\n",
       "           [3.60896776e-01, 5.70194715e-01, 2.27961922e-01, ...,\n",
       "            5.87316398e-01, 6.43373990e-01, 8.22702277e-01],\n",
       "           [7.20364622e-01, 6.64539223e-01, 6.12319191e-01, ...,\n",
       "            3.64305988e-01, 6.92425473e-01, 1.60360974e-01],\n",
       "           [6.21524102e-01, 2.29071614e-01, 6.53906346e-01, ...,\n",
       "            5.43347962e-01, 5.32607663e-01, 4.98318235e-01]],\n",
       "\n",
       "          [[6.14095175e-01, 4.23796777e-01, 6.78665442e-01, ...,\n",
       "            1.65038355e-01, 9.97034790e-01, 1.88777010e-01],\n",
       "           [8.35013269e-01, 4.99276226e-01, 2.59704112e-01, ...,\n",
       "            1.68496723e-01, 6.84745464e-01, 4.95081560e-01],\n",
       "           [1.14259507e-01, 4.62713881e-01, 7.41096386e-01, ...,\n",
       "            8.19502284e-01, 2.82224032e-01, 2.72138357e-01],\n",
       "           ...,\n",
       "           [7.59666662e-01, 4.09984103e-01, 1.60289225e-01, ...,\n",
       "            7.82515575e-01, 5.85883013e-02, 9.96564793e-02],\n",
       "           [6.71389647e-02, 9.89891559e-01, 1.10952045e-01, ...,\n",
       "            8.78875559e-01, 2.99522513e-01, 3.39308498e-01],\n",
       "           [8.61052603e-01, 9.59366813e-01, 3.58650425e-01, ...,\n",
       "            7.44225077e-01, 3.92583735e-01, 3.71762901e-01]],\n",
       "\n",
       "          [[8.72790030e-01, 8.15406038e-01, 9.02965894e-01, ...,\n",
       "            9.03271613e-01, 8.40158814e-01, 5.02675000e-01],\n",
       "           [5.42338720e-01, 1.04532739e-02, 6.17154695e-01, ...,\n",
       "            5.65620092e-01, 6.10479318e-02, 7.83038750e-01],\n",
       "           [1.32075414e-01, 5.87740364e-01, 2.15796761e-01, ...,\n",
       "            2.30956571e-01, 5.57602435e-01, 2.42902396e-01],\n",
       "           ...,\n",
       "           [2.66811519e-01, 4.82797786e-02, 9.07058063e-01, ...,\n",
       "            9.91507244e-01, 3.14541449e-01, 5.14224858e-02],\n",
       "           [8.83810845e-01, 4.69813722e-01, 6.83831391e-01, ...,\n",
       "            4.57672551e-01, 6.87435780e-01, 3.49137577e-01],\n",
       "           [4.97838828e-01, 3.38748165e-02, 9.70961296e-01, ...,\n",
       "            4.34045460e-01, 7.11327397e-01, 8.83051823e-01]]],\n",
       "\n",
       "\n",
       "         [[[1.93023913e-01, 5.17351361e-02, 6.65554613e-01, ...,\n",
       "            2.46848529e-01, 9.59230072e-01, 4.86394505e-01],\n",
       "           [5.29564292e-01, 4.05997417e-01, 1.42816308e-01, ...,\n",
       "            6.20110353e-01, 8.58551219e-01, 7.05371559e-01],\n",
       "           [4.74786484e-01, 1.86346199e-01, 1.95479910e-01, ...,\n",
       "            2.19469637e-01, 4.06208032e-01, 7.96553304e-01],\n",
       "           ...,\n",
       "           [7.92431315e-01, 3.77406429e-01, 4.65479482e-01, ...,\n",
       "            2.31189442e-01, 3.07381857e-01, 1.46617773e-01],\n",
       "           [8.27151932e-01, 9.25303781e-01, 8.76512460e-01, ...,\n",
       "            5.67535245e-02, 9.37461410e-01, 1.91715629e-01],\n",
       "           [7.40786669e-01, 3.31869917e-01, 4.93163953e-01, ...,\n",
       "            3.39482348e-01, 8.18212819e-03, 4.94961347e-02]],\n",
       "\n",
       "          [[8.78741674e-01, 5.48344520e-02, 6.13122197e-01, ...,\n",
       "            6.03219176e-01, 8.27105429e-01, 3.62952398e-01],\n",
       "           [2.68006096e-02, 1.90724856e-01, 8.98176857e-01, ...,\n",
       "            3.19029785e-01, 8.43543657e-01, 6.62744420e-01],\n",
       "           [5.56931711e-01, 5.58309110e-02, 4.34681846e-01, ...,\n",
       "            9.51538005e-01, 9.79770643e-01, 8.14071675e-01],\n",
       "           ...,\n",
       "           [8.23622491e-01, 5.43942825e-01, 1.33500797e-01, ...,\n",
       "            2.46236888e-01, 3.65236518e-01, 6.76442147e-01],\n",
       "           [5.74921075e-01, 5.61470704e-01, 9.39151538e-02, ...,\n",
       "            1.33916353e-01, 8.89064856e-01, 6.25943139e-01],\n",
       "           [7.28679707e-01, 5.95313626e-01, 2.18459042e-01, ...,\n",
       "            7.85105816e-01, 8.40398399e-01, 5.47867552e-01]],\n",
       "\n",
       "          [[5.78098310e-01, 5.95973462e-01, 5.53050816e-01, ...,\n",
       "            5.91872896e-02, 5.03192251e-01, 9.67914687e-01],\n",
       "           [9.39011021e-01, 5.83004342e-01, 7.22811812e-01, ...,\n",
       "            2.57290172e-01, 6.67171622e-01, 2.38943517e-01],\n",
       "           [3.44432176e-01, 1.30377545e-01, 8.10385731e-01, ...,\n",
       "            6.03510611e-01, 6.67392320e-01, 5.21068811e-01],\n",
       "           ...,\n",
       "           [7.64806335e-01, 6.72235526e-01, 4.82950570e-01, ...,\n",
       "            4.46717650e-01, 6.03506519e-01, 8.31879030e-01],\n",
       "           [9.45308166e-01, 3.90126806e-02, 1.82849181e-01, ...,\n",
       "            8.32857240e-01, 9.82700315e-01, 8.60250446e-01],\n",
       "           [2.42488576e-02, 7.13597928e-01, 7.55744923e-01, ...,\n",
       "            3.02808558e-01, 3.62266142e-01, 9.10222926e-01]],\n",
       "\n",
       "          ...,\n",
       "\n",
       "          [[9.24779916e-01, 7.89168795e-01, 6.15884945e-02, ...,\n",
       "            5.28203230e-02, 3.06496932e-01, 1.73840708e-01],\n",
       "           [5.32658010e-01, 6.65632636e-02, 7.24663043e-01, ...,\n",
       "            6.39142022e-01, 8.75538845e-01, 1.18840367e-01],\n",
       "           [7.77780363e-02, 1.75439653e-01, 1.89658574e-01, ...,\n",
       "            7.42782112e-01, 1.46045125e-01, 1.55534474e-02],\n",
       "           ...,\n",
       "           [1.80886263e-01, 7.71446137e-02, 9.62437002e-01, ...,\n",
       "            4.71640509e-01, 6.46458216e-01, 6.38932608e-01],\n",
       "           [9.59364085e-01, 9.66783167e-01, 2.68206882e-01, ...,\n",
       "            4.15606035e-01, 6.18302636e-01, 2.87187632e-01],\n",
       "           [4.54145019e-01, 9.68519316e-01, 6.58009589e-01, ...,\n",
       "            4.76354925e-01, 6.32945542e-01, 6.68719544e-01]],\n",
       "\n",
       "          [[1.12683335e-01, 4.03756264e-01, 4.50625028e-01, ...,\n",
       "            9.62341241e-01, 1.37187457e-01, 1.76693064e-01],\n",
       "           [5.03397129e-01, 6.94859482e-01, 2.30368171e-01, ...,\n",
       "            4.67399208e-01, 7.87535292e-01, 3.08686684e-01],\n",
       "           [8.48044302e-01, 4.75279550e-01, 8.10742956e-02, ...,\n",
       "            1.37328551e-01, 4.26007296e-02, 2.30567136e-01],\n",
       "           ...,\n",
       "           [3.65784917e-01, 2.85601301e-01, 9.44300777e-01, ...,\n",
       "            5.62478191e-01, 7.10508005e-01, 1.23234009e-01],\n",
       "           [3.80754804e-01, 6.78525219e-01, 6.25292914e-01, ...,\n",
       "            5.73395409e-02, 2.23286810e-01, 7.95912508e-01],\n",
       "           [9.48329089e-01, 4.95053303e-02, 1.05356617e-01, ...,\n",
       "            5.83543096e-01, 3.88178481e-01, 6.93271493e-01]],\n",
       "\n",
       "          [[5.35186059e-01, 2.04233303e-01, 5.91369208e-01, ...,\n",
       "            9.30763774e-01, 5.94090552e-01, 8.65665388e-02],\n",
       "           [6.14864694e-01, 5.28296168e-01, 9.30562220e-01, ...,\n",
       "            3.23750876e-01, 3.08378551e-01, 7.88469199e-01],\n",
       "           [9.87170003e-01, 7.40863988e-02, 5.30209823e-01, ...,\n",
       "            6.19293805e-01, 5.13193072e-01, 8.09751963e-01],\n",
       "           ...,\n",
       "           [5.63952721e-01, 1.61636737e-01, 8.96878241e-01, ...,\n",
       "            4.99665357e-01, 3.61183829e-01, 5.31164446e-01],\n",
       "           [1.36891532e-01, 9.62127841e-01, 7.16227266e-02, ...,\n",
       "            4.78399285e-01, 8.37689446e-01, 8.20635094e-01],\n",
       "           [1.19396931e-01, 1.45104159e-01, 6.89673443e-01, ...,\n",
       "            2.29336270e-01, 7.90815170e-01, 4.23359897e-01]]]],\n",
       "\n",
       "\n",
       "\n",
       "        [[[[1.18397969e-01, 2.02574893e-01, 8.36388813e-01, ...,\n",
       "            5.79189170e-01, 6.74417530e-01, 3.39043240e-01],\n",
       "           [7.88304759e-01, 5.55131897e-02, 2.15729426e-01, ...,\n",
       "            2.24087418e-01, 7.41612144e-01, 7.48162825e-01],\n",
       "           [8.82529168e-01, 5.41880256e-02, 7.98589723e-01, ...,\n",
       "            3.31031979e-01, 6.07679798e-01, 6.51804044e-01],\n",
       "           ...,\n",
       "           [7.16858587e-01, 9.15950501e-01, 1.94620981e-01, ...,\n",
       "            6.15247666e-01, 3.90692338e-01, 4.50789406e-01],\n",
       "           [4.38582111e-01, 1.36739575e-01, 8.10536356e-01, ...,\n",
       "            4.94066710e-01, 7.54698273e-01, 3.84982429e-01],\n",
       "           [5.42426418e-01, 3.71488571e-01, 6.73948428e-01, ...,\n",
       "            5.43324662e-01, 7.77791509e-01, 3.52141001e-02]],\n",
       "\n",
       "          [[4.78898980e-01, 4.55535464e-01, 4.37511211e-01, ...,\n",
       "            8.65915773e-01, 3.02001847e-01, 3.29922156e-02],\n",
       "           [5.44841098e-01, 7.56746461e-01, 5.27731382e-01, ...,\n",
       "            8.58666974e-01, 8.18655980e-01, 5.01957872e-01],\n",
       "           [5.21733148e-01, 3.02067222e-01, 9.58765304e-01, ...,\n",
       "            4.62794996e-01, 1.59881647e-02, 1.56678104e-01],\n",
       "           ...,\n",
       "           [6.33180007e-02, 7.07304435e-02, 5.14410992e-01, ...,\n",
       "            9.78557019e-01, 9.66246064e-01, 9.94576593e-01],\n",
       "           [6.98563432e-01, 4.97472522e-01, 3.73293490e-01, ...,\n",
       "            2.39947333e-01, 6.74621346e-01, 7.79998309e-01],\n",
       "           [8.80890200e-01, 9.25038754e-01, 6.56836660e-01, ...,\n",
       "            2.55188528e-01, 2.70954918e-02, 8.97432464e-03]],\n",
       "\n",
       "          [[9.55391621e-01, 1.97773170e-01, 6.45026596e-01, ...,\n",
       "            2.95447017e-01, 8.52829435e-01, 6.78940083e-01],\n",
       "           [1.16046880e-01, 8.65378665e-01, 8.60114535e-01, ...,\n",
       "            2.91820737e-01, 8.60732882e-01, 1.80377026e-01],\n",
       "           [2.94254702e-01, 4.41270102e-01, 4.74935622e-01, ...,\n",
       "            9.24621692e-01, 5.77404943e-01, 6.46425817e-01],\n",
       "           ...,\n",
       "           [6.79720607e-02, 4.83676005e-01, 2.80121009e-01, ...,\n",
       "            1.06601323e-01, 1.41346387e-01, 3.22036884e-01],\n",
       "           [7.14282720e-01, 8.39190106e-01, 7.11238541e-01, ...,\n",
       "            4.23559807e-01, 8.11018979e-01, 6.40107157e-01],\n",
       "           [3.47024385e-02, 8.79911903e-01, 4.74386015e-01, ...,\n",
       "            3.45767707e-01, 5.12879054e-01, 6.70944426e-01]],\n",
       "\n",
       "          ...,\n",
       "\n",
       "          [[5.72035314e-01, 9.38331962e-03, 4.48217769e-01, ...,\n",
       "            2.26760628e-01, 5.37092095e-01, 3.31703341e-01],\n",
       "           [4.76612331e-03, 3.50407831e-01, 9.94857330e-02, ...,\n",
       "            9.71794632e-01, 2.22827214e-02, 7.11379924e-01],\n",
       "           [7.29159833e-01, 9.24721396e-01, 5.34043766e-01, ...,\n",
       "            1.13887509e-01, 7.69294992e-01, 1.99768013e-01],\n",
       "           ...,\n",
       "           [2.58653535e-01, 1.57113479e-01, 3.86070814e-01, ...,\n",
       "            7.62615150e-01, 2.56291698e-01, 1.49460427e-01],\n",
       "           [4.93122028e-01, 5.59258486e-01, 3.86256380e-01, ...,\n",
       "            1.04998889e-01, 4.99874513e-02, 6.17018492e-01],\n",
       "           [2.74970777e-01, 5.51185843e-01, 9.83077980e-01, ...,\n",
       "            6.88256099e-01, 8.11897990e-01, 7.21642618e-01]],\n",
       "\n",
       "          [[6.50732295e-01, 5.90852788e-01, 4.66151811e-01, ...,\n",
       "            6.96222927e-01, 2.81863789e-01, 6.92519857e-01],\n",
       "           [5.80992032e-01, 1.10427781e-01, 9.00579887e-01, ...,\n",
       "            2.97797663e-01, 2.79498088e-01, 4.69085612e-01],\n",
       "           [3.62361548e-01, 3.13061560e-01, 8.79035166e-01, ...,\n",
       "            3.03128788e-01, 7.05462242e-01, 5.09151048e-01],\n",
       "           ...,\n",
       "           [3.29464650e-02, 6.77249942e-01, 1.95309532e-02, ...,\n",
       "            4.66076704e-01, 5.19396991e-01, 3.23487765e-02],\n",
       "           [7.47840909e-02, 2.33416294e-01, 7.08361385e-01, ...,\n",
       "            5.01472975e-01, 8.39098551e-01, 3.73404155e-01],\n",
       "           [7.07762620e-01, 7.66303896e-01, 1.47891866e-01, ...,\n",
       "            1.61278745e-01, 1.63480921e-01, 7.88855153e-01]],\n",
       "\n",
       "          [[9.34625287e-03, 5.06774869e-01, 5.14079224e-02, ...,\n",
       "            8.54190670e-01, 1.69411021e-01, 9.75206238e-01],\n",
       "           [4.57878697e-03, 2.50383705e-01, 2.96627612e-01, ...,\n",
       "            1.23694137e-01, 7.59690303e-01, 9.27457276e-02],\n",
       "           [6.31275302e-01, 7.93706215e-01, 9.09530974e-02, ...,\n",
       "            8.86724140e-01, 2.41375418e-01, 2.19413353e-01],\n",
       "           ...,\n",
       "           [1.29277428e-01, 2.57365662e-01, 1.69885948e-01, ...,\n",
       "            6.87771311e-01, 5.48201834e-01, 1.27703265e-01],\n",
       "           [9.65643960e-01, 6.05663295e-01, 4.20298878e-01, ...,\n",
       "            4.20862300e-01, 2.35537117e-01, 5.55495882e-01],\n",
       "           [2.45086313e-01, 3.00830839e-02, 6.12683756e-02, ...,\n",
       "            6.30496028e-01, 1.76340366e-01, 3.60557501e-02]]],\n",
       "\n",
       "\n",
       "         [[[9.91828257e-01, 7.85457205e-01, 6.83690517e-01, ...,\n",
       "            1.80212665e-01, 8.13468198e-01, 9.37516859e-01],\n",
       "           [3.22472787e-01, 4.79075202e-01, 3.82312811e-01, ...,\n",
       "            4.43825153e-02, 2.12396424e-01, 9.31089023e-01],\n",
       "           [6.37624907e-02, 3.97993596e-01, 2.66553210e-01, ...,\n",
       "            3.35820458e-01, 6.20662312e-01, 1.09071640e-01],\n",
       "           ...,\n",
       "           [3.14775584e-01, 8.77760382e-01, 6.22863251e-01, ...,\n",
       "            1.59377430e-01, 2.71552299e-01, 2.21199340e-01],\n",
       "           [4.83028563e-01, 9.85685887e-02, 4.27360044e-01, ...,\n",
       "            2.62822340e-01, 3.83283399e-01, 8.32310644e-01],\n",
       "           [5.25004713e-01, 8.78527022e-01, 9.31128955e-01, ...,\n",
       "            4.23368010e-01, 2.75956334e-01, 2.89520338e-01]],\n",
       "\n",
       "          [[8.65703207e-01, 9.93319790e-01, 5.06437235e-02, ...,\n",
       "            5.60320217e-01, 5.84260414e-01, 6.84420351e-01],\n",
       "           [6.00174437e-01, 5.73975556e-01, 4.52321589e-02, ...,\n",
       "            3.09057334e-01, 4.85628696e-01, 5.16951416e-01],\n",
       "           [2.35877212e-02, 1.05486157e-01, 4.90099600e-02, ...,\n",
       "            7.68596322e-01, 1.43649716e-01, 8.23306666e-02],\n",
       "           ...,\n",
       "           [6.67860400e-01, 4.47326747e-01, 7.65745448e-01, ...,\n",
       "            5.23673184e-01, 3.44110452e-01, 7.50791478e-01],\n",
       "           [5.44838326e-01, 5.51345337e-01, 7.95816527e-02, ...,\n",
       "            4.76538616e-01, 7.43743814e-01, 6.50822754e-01],\n",
       "           [3.56878809e-02, 4.75368895e-01, 2.55491345e-01, ...,\n",
       "            7.28584370e-01, 3.34997707e-01, 9.94646224e-01]],\n",
       "\n",
       "          [[4.35725926e-01, 3.20834422e-01, 1.48028464e-01, ...,\n",
       "            1.44737161e-01, 7.40738846e-01, 3.32841996e-01],\n",
       "           [2.80546897e-02, 5.20447476e-01, 1.32636044e-01, ...,\n",
       "            3.68679234e-01, 9.06566424e-01, 4.05797386e-01],\n",
       "           [1.60129431e-01, 1.72220186e-01, 9.90595031e-02, ...,\n",
       "            3.37550689e-01, 8.85278909e-01, 5.02849739e-01],\n",
       "           ...,\n",
       "           [4.51156822e-01, 2.63733309e-01, 6.14212886e-01, ...,\n",
       "            4.38497656e-01, 8.92317793e-01, 5.09850452e-01],\n",
       "           [4.01601296e-01, 4.97629058e-01, 7.02608320e-01, ...,\n",
       "            4.17400922e-02, 3.12870603e-01, 1.30678799e-01],\n",
       "           [5.39144727e-01, 7.71962000e-01, 6.48444885e-02, ...,\n",
       "            5.24856831e-01, 9.04842293e-01, 1.83915384e-01]],\n",
       "\n",
       "          ...,\n",
       "\n",
       "          [[9.55207727e-02, 2.42548257e-01, 8.29239247e-01, ...,\n",
       "            9.96503625e-01, 7.81526063e-01, 2.09120704e-01],\n",
       "           [7.88333002e-01, 4.23509171e-02, 7.60497845e-01, ...,\n",
       "            7.65411980e-01, 2.41521451e-01, 6.05689299e-01],\n",
       "           [6.90756298e-01, 7.93904083e-01, 3.04755306e-01, ...,\n",
       "            2.43059529e-02, 3.44289930e-01, 4.03547560e-01],\n",
       "           ...,\n",
       "           [6.65235326e-01, 8.71505087e-01, 5.35575936e-02, ...,\n",
       "            4.26637091e-01, 7.16874977e-01, 3.14324875e-01],\n",
       "           [3.23863654e-02, 8.65210119e-01, 8.97248762e-01, ...,\n",
       "            1.90172510e-01, 4.88044965e-01, 3.39997944e-01],\n",
       "           [9.74884205e-01, 3.38922425e-01, 9.53226400e-01, ...,\n",
       "            4.93617322e-01, 9.00908062e-01, 3.88236854e-01]],\n",
       "\n",
       "          [[6.94582394e-01, 3.91500052e-01, 3.19605362e-01, ...,\n",
       "            3.05053230e-01, 2.77751518e-01, 4.29825263e-01],\n",
       "           [7.42512069e-01, 8.80999016e-01, 9.72426551e-02, ...,\n",
       "            8.87186856e-01, 2.75207797e-01, 5.80789697e-01],\n",
       "           [7.34390516e-01, 2.03632524e-01, 7.03990607e-01, ...,\n",
       "            9.40658491e-02, 5.83948347e-01, 1.33896403e-01],\n",
       "           ...,\n",
       "           [9.09310946e-01, 5.67094780e-01, 4.50579174e-01, ...,\n",
       "            6.73048775e-01, 2.58664173e-01, 1.01438194e-01],\n",
       "           [5.75555980e-01, 6.77006695e-01, 1.60005608e-01, ...,\n",
       "            1.47902657e-01, 1.82298575e-01, 5.44548668e-01],\n",
       "           [7.79131101e-01, 9.77982084e-01, 6.56207064e-01, ...,\n",
       "            8.69326928e-01, 9.41013343e-01, 7.55831992e-01]],\n",
       "\n",
       "          [[3.54796209e-01, 2.77015071e-02, 9.57574922e-01, ...,\n",
       "            9.56921708e-01, 4.42741714e-01, 3.37463364e-01],\n",
       "           [5.44441812e-01, 8.76963194e-01, 4.50519631e-01, ...,\n",
       "            1.95456828e-01, 1.92833010e-01, 6.59501865e-01],\n",
       "           [4.18014830e-01, 9.11204702e-01, 8.95182591e-01, ...,\n",
       "            2.29132395e-01, 5.00082892e-01, 6.68153356e-02],\n",
       "           ...,\n",
       "           [2.02957207e-01, 9.32696509e-01, 1.70604673e-01, ...,\n",
       "            9.75081749e-01, 1.26099921e-01, 8.61802007e-01],\n",
       "           [6.20152747e-01, 9.81691338e-01, 1.05309948e-01, ...,\n",
       "            5.22112436e-01, 3.75012782e-01, 5.81990110e-01],\n",
       "           [1.36744557e-01, 3.31998750e-01, 3.28536144e-01, ...,\n",
       "            2.67684972e-01, 2.30397481e-01, 8.67351590e-01]]],\n",
       "\n",
       "\n",
       "         [[[3.16204214e-01, 8.11426093e-01, 3.44876283e-01, ...,\n",
       "            8.12609062e-01, 5.52249677e-01, 9.15925731e-01],\n",
       "           [9.55156780e-01, 8.64399644e-01, 4.19130699e-01, ...,\n",
       "            4.29362607e-01, 6.96522144e-01, 1.69522669e-01],\n",
       "           [6.46074514e-01, 4.72390295e-01, 6.06026756e-01, ...,\n",
       "            9.63194393e-01, 3.48861651e-01, 4.34557074e-01],\n",
       "           ...,\n",
       "           [5.70617241e-01, 4.51842396e-01, 8.60125358e-01, ...,\n",
       "            9.58963582e-01, 9.69831747e-03, 5.06966401e-01],\n",
       "           [4.16516025e-01, 9.19750503e-01, 1.01853788e-01, ...,\n",
       "            3.52671313e-01, 6.78046281e-02, 2.24264410e-01],\n",
       "           [2.11551536e-01, 3.42086798e-01, 2.58498627e-01, ...,\n",
       "            1.41959541e-01, 1.95126198e-01, 1.87760752e-01]],\n",
       "\n",
       "          [[3.21542928e-01, 5.41745624e-01, 1.32662292e-01, ...,\n",
       "            3.53184186e-01, 1.84795726e-02, 9.26385216e-01],\n",
       "           [6.96018204e-01, 8.34849436e-01, 7.81760959e-01, ...,\n",
       "            5.34780847e-01, 6.95740813e-01, 8.33591789e-02],\n",
       "           [9.90777135e-01, 6.50595376e-01, 8.24405847e-02, ...,\n",
       "            9.46113586e-01, 6.96589002e-01, 4.10129059e-01],\n",
       "           ...,\n",
       "           [1.98645844e-01, 7.39708836e-01, 4.87173421e-01, ...,\n",
       "            4.53582344e-01, 5.71704891e-01, 2.52527412e-01],\n",
       "           [8.57907440e-01, 6.93914323e-02, 6.73563964e-01, ...,\n",
       "            7.96888150e-01, 6.63401676e-02, 3.85581176e-01],\n",
       "           [7.96025490e-01, 8.27888694e-01, 1.16658711e-01, ...,\n",
       "            3.77729187e-01, 8.66104640e-01, 9.77439260e-01]],\n",
       "\n",
       "          [[9.56331943e-01, 7.25251875e-01, 7.74020234e-01, ...,\n",
       "            6.83960964e-01, 6.86623595e-01, 8.75342532e-01],\n",
       "           [3.20737547e-01, 2.21041328e-01, 3.49803574e-01, ...,\n",
       "            5.16227935e-03, 3.70156123e-01, 1.17158769e-01],\n",
       "           [3.10330831e-01, 3.66740289e-01, 7.20027600e-01, ...,\n",
       "            7.58860052e-01, 1.83237262e-01, 2.20009274e-01],\n",
       "           ...,\n",
       "           [3.36877638e-01, 1.38229948e-01, 5.30111667e-01, ...,\n",
       "            8.69041760e-01, 1.41171865e-01, 3.65257878e-02],\n",
       "           [2.52792279e-01, 7.69973593e-01, 5.55092206e-01, ...,\n",
       "            5.98504817e-02, 4.94591373e-01, 5.49578236e-01],\n",
       "           [1.98990818e-01, 3.29815093e-01, 4.61914267e-01, ...,\n",
       "            4.47858843e-02, 4.17926798e-01, 3.37765176e-01]],\n",
       "\n",
       "          ...,\n",
       "\n",
       "          [[1.08353006e-01, 3.90888449e-02, 4.80302489e-01, ...,\n",
       "            5.17679634e-01, 1.28687164e-01, 1.82712098e-01],\n",
       "           [1.57694682e-01, 4.47579183e-01, 2.88679773e-01, ...,\n",
       "            8.30263093e-01, 7.78691803e-01, 1.05010317e-01],\n",
       "           [4.04677800e-01, 3.16746875e-01, 2.60189356e-01, ...,\n",
       "            3.38129003e-01, 1.38014581e-01, 1.25426207e-01],\n",
       "           ...,\n",
       "           [2.86572980e-01, 2.89645888e-01, 6.12181549e-01, ...,\n",
       "            9.95181911e-01, 9.79786257e-01, 3.23639265e-01],\n",
       "           [2.88737483e-01, 6.43502505e-01, 8.53968235e-01, ...,\n",
       "            4.34623774e-01, 5.91589881e-01, 3.28292257e-01],\n",
       "           [2.40711240e-01, 4.73309521e-01, 5.85620384e-01, ...,\n",
       "            2.46918500e-01, 6.34935307e-01, 6.31591105e-02]],\n",
       "\n",
       "          [[7.29672390e-01, 3.22606134e-01, 8.20894013e-01, ...,\n",
       "            9.90194523e-01, 7.73980542e-01, 8.04503315e-01],\n",
       "           [9.27020624e-01, 7.01729045e-02, 2.42881617e-01, ...,\n",
       "            5.58814936e-01, 7.97637138e-01, 6.83394177e-01],\n",
       "           [7.75426771e-01, 9.22950746e-01, 7.84637268e-01, ...,\n",
       "            6.50904634e-02, 6.65327140e-02, 2.75197440e-01],\n",
       "           ...,\n",
       "           [7.45171826e-01, 9.52984055e-01, 6.05426295e-01, ...,\n",
       "            6.50595026e-01, 7.88613407e-01, 8.26195691e-01],\n",
       "           [4.30472003e-01, 2.69511305e-01, 9.82104954e-01, ...,\n",
       "            2.62243143e-01, 1.85169040e-01, 7.36866948e-01],\n",
       "           [4.42802227e-01, 1.79783909e-01, 1.52171319e-01, ...,\n",
       "            5.48943042e-01, 5.06916229e-01, 1.85160148e-01]],\n",
       "\n",
       "          [[8.76918676e-01, 7.69184412e-01, 9.42811438e-01, ...,\n",
       "            3.47063396e-01, 9.02403436e-01, 6.19827856e-01],\n",
       "           [5.60219819e-01, 8.98345084e-01, 4.05006675e-01, ...,\n",
       "            4.42448946e-01, 8.22189027e-01, 7.98268401e-01],\n",
       "           [9.64778087e-01, 5.14785991e-02, 9.72834559e-01, ...,\n",
       "            4.41483778e-02, 1.92535743e-01, 1.48194157e-01],\n",
       "           ...,\n",
       "           [5.53439163e-01, 9.46418725e-01, 9.03352672e-01, ...,\n",
       "            8.04139002e-01, 1.13613462e-01, 4.56097448e-01],\n",
       "           [2.41111470e-01, 3.02014906e-01, 9.34530194e-01, ...,\n",
       "            1.98421224e-01, 7.61034932e-01, 8.62066736e-01],\n",
       "           [5.15447135e-01, 6.71936012e-01, 8.06463439e-01, ...,\n",
       "            4.68353572e-01, 3.06576947e-01, 2.73799745e-01]]],\n",
       "\n",
       "\n",
       "         [[[7.87155770e-01, 9.72344679e-01, 6.95833521e-01, ...,\n",
       "            7.58341853e-01, 8.03669818e-02, 4.62562871e-01],\n",
       "           [1.63034312e-01, 2.61662882e-01, 7.03988798e-01, ...,\n",
       "            8.64230385e-01, 2.03516074e-01, 4.16560841e-01],\n",
       "           [5.64447943e-01, 8.77853623e-01, 5.12793697e-01, ...,\n",
       "            6.00392754e-01, 8.37923463e-02, 8.37244330e-01],\n",
       "           ...,\n",
       "           [9.39060699e-01, 4.04022212e-01, 1.08063566e-01, ...,\n",
       "            6.75572869e-01, 3.80079470e-01, 3.38846349e-01],\n",
       "           [3.50833598e-01, 2.08526702e-01, 9.12392622e-01, ...,\n",
       "            3.73532642e-01, 7.02853704e-01, 7.64128666e-01],\n",
       "           [3.29647373e-01, 7.63171837e-01, 4.80936369e-01, ...,\n",
       "            3.22851315e-01, 6.55353036e-01, 2.07623431e-01]],\n",
       "\n",
       "          [[2.49124910e-01, 6.43234786e-01, 2.69290875e-01, ...,\n",
       "            7.98450886e-01, 6.15330231e-01, 6.52286748e-01],\n",
       "           [4.72437620e-01, 1.14150612e-01, 2.87931049e-01, ...,\n",
       "            9.89545567e-01, 7.17518120e-01, 5.66568365e-01],\n",
       "           [7.91912387e-01, 4.82663750e-01, 8.76996509e-01, ...,\n",
       "            5.02533203e-01, 2.96024394e-01, 1.88451518e-01],\n",
       "           ...,\n",
       "           [9.28552592e-01, 8.84925647e-01, 3.29853160e-01, ...,\n",
       "            6.75483486e-02, 8.29618010e-01, 9.36827305e-01],\n",
       "           [8.78857533e-02, 1.01279567e-01, 1.83215302e-03, ...,\n",
       "            1.22844640e-02, 5.37518514e-01, 6.17445311e-01],\n",
       "           [8.06990261e-01, 5.93708670e-01, 7.26224006e-01, ...,\n",
       "            3.13407322e-01, 2.26456995e-01, 6.91819986e-01]],\n",
       "\n",
       "          [[2.10001330e-01, 3.45446158e-01, 1.41547630e-01, ...,\n",
       "            6.54421062e-01, 1.06930718e-01, 2.28751049e-01],\n",
       "           [1.06002769e-01, 2.51593024e-01, 6.78311886e-01, ...,\n",
       "            8.81522444e-01, 5.36999301e-01, 7.85728160e-01],\n",
       "           [3.81048156e-01, 7.79484156e-01, 1.73099432e-01, ...,\n",
       "            1.00611867e-01, 5.31811907e-01, 4.06245176e-01],\n",
       "           ...,\n",
       "           [9.12907739e-01, 6.00822550e-01, 7.94189482e-01, ...,\n",
       "            4.07653141e-01, 1.85073326e-01, 9.33275638e-01],\n",
       "           [1.66522004e-01, 7.47085882e-01, 5.06277280e-01, ...,\n",
       "            3.10055218e-01, 2.13491700e-01, 4.58597400e-01],\n",
       "           [4.07427479e-01, 8.00168155e-01, 3.78038808e-01, ...,\n",
       "            6.59540692e-01, 6.38821247e-02, 6.97487686e-01]],\n",
       "\n",
       "          ...,\n",
       "\n",
       "          [[2.08741943e-01, 2.76102925e-01, 1.70830181e-01, ...,\n",
       "            8.23131448e-02, 8.46527406e-01, 6.99908073e-01],\n",
       "           [5.86041033e-01, 9.88795209e-02, 6.55553175e-01, ...,\n",
       "            3.44146034e-01, 8.10908773e-01, 3.43303977e-01],\n",
       "           [2.28301017e-01, 4.61270016e-01, 7.19602932e-01, ...,\n",
       "            3.60227904e-01, 4.91195639e-01, 3.88373509e-01],\n",
       "           ...,\n",
       "           [6.76067480e-01, 9.16683298e-01, 2.44886914e-01, ...,\n",
       "            2.33258909e-01, 2.85801490e-02, 9.65386088e-01],\n",
       "           [2.03869767e-01, 3.77021560e-01, 6.73249408e-01, ...,\n",
       "            9.06553091e-01, 3.85211182e-01, 7.20354770e-01],\n",
       "           [1.64218245e-01, 6.23588433e-01, 6.35610896e-01, ...,\n",
       "            1.87406188e-01, 3.97909885e-01, 3.11481825e-01]],\n",
       "\n",
       "          [[4.50034101e-01, 9.33951104e-01, 5.11217286e-01, ...,\n",
       "            2.86313326e-01, 3.78041684e-01, 5.97504080e-01],\n",
       "           [5.84464941e-01, 4.38580384e-01, 6.42974237e-01, ...,\n",
       "            9.00094693e-01, 1.31095605e-01, 2.64803761e-01],\n",
       "           [4.97855557e-01, 8.96326062e-01, 8.55919331e-01, ...,\n",
       "            3.41842666e-01, 9.74518475e-01, 8.00008897e-01],\n",
       "           ...,\n",
       "           [2.87923930e-01, 3.22029070e-01, 5.26135959e-01, ...,\n",
       "            7.19558133e-01, 1.28475689e-01, 2.63664094e-01],\n",
       "           [2.56214005e-01, 8.93022533e-01, 1.37928395e-01, ...,\n",
       "            5.22912507e-02, 8.77381474e-01, 9.34101738e-02],\n",
       "           [6.43761543e-01, 3.24400740e-01, 6.92809544e-02, ...,\n",
       "            1.92116120e-02, 6.07266567e-01, 8.78984217e-01]],\n",
       "\n",
       "          [[5.98018889e-01, 8.03556361e-01, 2.19038068e-01, ...,\n",
       "            6.64239555e-01, 3.04586505e-01, 1.16489187e-01],\n",
       "           [3.31263593e-01, 8.99706016e-01, 1.82562837e-01, ...,\n",
       "            2.68347484e-01, 2.57606418e-01, 5.35226686e-01],\n",
       "           [4.66422217e-01, 7.83239610e-01, 1.23138325e-01, ...,\n",
       "            3.94510782e-01, 6.62810532e-01, 4.06633696e-01],\n",
       "           ...,\n",
       "           [5.83069481e-01, 2.50973069e-01, 6.87176534e-01, ...,\n",
       "            2.87045212e-01, 4.38129529e-03, 7.47477748e-01],\n",
       "           [7.96406294e-01, 5.80342202e-01, 8.28090967e-01, ...,\n",
       "            2.25248789e-02, 9.75164722e-01, 1.39997476e-01],\n",
       "           [8.45008494e-01, 8.27687764e-01, 8.58695481e-02, ...,\n",
       "            8.34959293e-01, 9.61797584e-01, 5.92260340e-01]]]]]])"
      ]
     },
     "execution_count": 18,
     "metadata": {},
     "output_type": "execute_result"
    }
   ],
   "source": [
    "np.random.rand(2, 3, 4, 10, 12, 23)"
   ]
  },
  {
   "cell_type": "code",
   "execution_count": 19,
   "metadata": {},
   "outputs": [
    {
     "ename": "TypeError",
     "evalue": "'tuple' object cannot be interpreted as an integer",
     "output_type": "error",
     "traceback": [
      "\u001b[1;31m---------------------------------------------------------------------------\u001b[0m",
      "\u001b[1;31mTypeError\u001b[0m                                 Traceback (most recent call last)",
      "Cell \u001b[1;32mIn[19], line 2\u001b[0m\n\u001b[0;32m      1\u001b[0m shape \u001b[39m=\u001b[39m (\u001b[39m3\u001b[39m, \u001b[39m4\u001b[39m)\n\u001b[1;32m----> 2\u001b[0m np\u001b[39m.\u001b[39;49mrandom\u001b[39m.\u001b[39;49mrand(shape)\n",
      "File \u001b[1;32mmtrand.pyx:1202\u001b[0m, in \u001b[0;36mnumpy.random.mtrand.RandomState.rand\u001b[1;34m()\u001b[0m\n",
      "File \u001b[1;32mmtrand.pyx:436\u001b[0m, in \u001b[0;36mnumpy.random.mtrand.RandomState.random_sample\u001b[1;34m()\u001b[0m\n",
      "File \u001b[1;32m_common.pyx:307\u001b[0m, in \u001b[0;36mnumpy.random._common.double_fill\u001b[1;34m()\u001b[0m\n",
      "\u001b[1;31mTypeError\u001b[0m: 'tuple' object cannot be interpreted as an integer"
     ]
    }
   ],
   "source": [
    "shape = (3, 4)\n",
    "np.random.rand(shape)"
   ]
  },
  {
   "cell_type": "code",
   "execution_count": 20,
   "metadata": {},
   "outputs": [
    {
     "data": {
      "text/plain": [
       "array([[0.05095889, 0.87765257, 0.27340417, 0.01929571],\n",
       "       [0.64768421, 0.70576439, 0.73369095, 0.00132478],\n",
       "       [0.74995508, 0.76105483, 0.23742563, 0.67046775]])"
      ]
     },
     "execution_count": 20,
     "metadata": {},
     "output_type": "execute_result"
    }
   ],
   "source": [
    "shape = (3, 4)\n",
    "np.random.rand(*shape)"
   ]
  },
  {
   "cell_type": "code",
   "execution_count": 21,
   "metadata": {},
   "outputs": [
    {
     "data": {
      "text/plain": [
       "array([[0.41918326, 0.59521265, 0.18598555, 0.21334302],\n",
       "       [0.28086743, 0.92124881, 0.58694398, 0.07916703],\n",
       "       [0.93019307, 0.8648038 , 0.0464819 , 0.06804725]])"
      ]
     },
     "execution_count": 21,
     "metadata": {},
     "output_type": "execute_result"
    }
   ],
   "source": [
    "shape = (3, 4)\n",
    "np.random.sample(shape)"
   ]
  },
  {
   "cell_type": "code",
   "execution_count": 22,
   "metadata": {},
   "outputs": [
    {
     "data": {
      "text/plain": [
       "0.47938236788347743"
      ]
     },
     "execution_count": 22,
     "metadata": {},
     "output_type": "execute_result"
    }
   ],
   "source": [
    "np.random.uniform()"
   ]
  },
  {
   "cell_type": "code",
   "execution_count": 23,
   "metadata": {},
   "outputs": [
    {
     "data": {
      "text/plain": [
       "45.28769595496753"
      ]
     },
     "execution_count": 23,
     "metadata": {},
     "output_type": "execute_result"
    }
   ],
   "source": [
    "np.random.uniform(-30, 50)"
   ]
  },
  {
   "cell_type": "code",
   "execution_count": 25,
   "metadata": {},
   "outputs": [
    {
     "data": {
      "text/plain": [
       "array([0.67182594, 0.52541936, 0.58723777, 0.59068454, 0.50975373])"
      ]
     },
     "execution_count": 25,
     "metadata": {},
     "output_type": "execute_result"
    }
   ],
   "source": [
    "np.random.uniform(0.5, 0.750, size=(5))"
   ]
  },
  {
   "cell_type": "code",
   "execution_count": 26,
   "metadata": {},
   "outputs": [
    {
     "data": {
      "text/plain": [
       "array([[  -9.2058375 ,  172.62950806,  -64.26186187],\n",
       "       [-540.95763325, -452.9891428 , -344.26166766]])"
      ]
     },
     "execution_count": 26,
     "metadata": {},
     "output_type": "execute_result"
    }
   ],
   "source": [
    "np.random.uniform(-1000, 500, size=(2, 3))"
   ]
  },
  {
   "attachments": {},
   "cell_type": "markdown",
   "metadata": {},
   "source": [
    "#### ГЕНЕРАЦИЯ INT"
   ]
  },
  {
   "cell_type": "code",
   "execution_count": 28,
   "metadata": {},
   "outputs": [
    {
     "data": {
      "text/plain": [
       "array([[1, 2, 0],\n",
       "       [1, 3, 3]])"
      ]
     },
     "execution_count": 28,
     "metadata": {},
     "output_type": "execute_result"
    }
   ],
   "source": [
    "np.random.randint(4, size=(2, 3))"
   ]
  },
  {
   "cell_type": "code",
   "execution_count": 29,
   "metadata": {},
   "outputs": [
    {
     "data": {
      "text/plain": [
       "array([[10, 10,  9],\n",
       "       [ 7,  8,  8],\n",
       "       [ 6, 10,  8]])"
      ]
     },
     "execution_count": 29,
     "metadata": {},
     "output_type": "execute_result"
    }
   ],
   "source": [
    "np.random.randint(6, 12, size=(3,3))"
   ]
  },
  {
   "attachments": {},
   "cell_type": "markdown",
   "metadata": {},
   "source": [
    "#### ГЕНЕРАЦИЯ ВЫБОРОК"
   ]
  },
  {
   "cell_type": "code",
   "execution_count": 45,
   "metadata": {},
   "outputs": [
    {
     "name": "stdout",
     "output_type": "stream",
     "text": [
      "[0 1 2 3 4 5]\n",
      "None\n"
     ]
    },
    {
     "data": {
      "text/plain": [
       "array([5, 3, 2, 0, 4, 1])"
      ]
     },
     "execution_count": 45,
     "metadata": {},
     "output_type": "execute_result"
    }
   ],
   "source": [
    "arr = np.arange(6)\n",
    "print(arr)\n",
    "print(np.random.shuffle(arr))\n",
    "arr"
   ]
  },
  {
   "cell_type": "code",
   "execution_count": 55,
   "metadata": {},
   "outputs": [
    {
     "name": "stdout",
     "output_type": "stream",
     "text": [
      "['The Beatles', 'Pink Floyd', 'ACDC', 'Deep Purple']\n",
      "['Deep Purple' 'ACDC' 'The Beatles' 'Pink Floyd']\n"
     ]
    }
   ],
   "source": [
    "playlist = [\"The Beatles\", \"Pink Floyd\", \"ACDC\", \"Deep Purple\"]\n",
    "shuffled = np.random.permutation(playlist)\n",
    "print(playlist)\n",
    "print(shuffled)"
   ]
  },
  {
   "cell_type": "code",
   "execution_count": 56,
   "metadata": {},
   "outputs": [
    {
     "data": {
      "text/plain": [
       "array([5, 3, 7, 1, 4, 9, 8, 0, 2, 6])"
      ]
     },
     "execution_count": 56,
     "metadata": {},
     "output_type": "execute_result"
    }
   ],
   "source": [
    "np.random.permutation(10)"
   ]
  },
  {
   "cell_type": "code",
   "execution_count": 69,
   "metadata": {},
   "outputs": [
    {
     "name": "stdout",
     "output_type": "stream",
     "text": [
      "['Ivan' 'Maria']\n"
     ]
    }
   ],
   "source": [
    "workers = ['Ivan', 'Nikita', 'Maria', 'John', 'Kate']\n",
    "choice = np.random.choice(workers, size=2, replace=False)\n",
    "print(choice)"
   ]
  },
  {
   "cell_type": "code",
   "execution_count": 62,
   "metadata": {},
   "outputs": [
    {
     "ename": "ValueError",
     "evalue": "Cannot take a larger sample than population when 'replace=False'",
     "output_type": "error",
     "traceback": [
      "\u001b[1;31m---------------------------------------------------------------------------\u001b[0m",
      "\u001b[1;31mValueError\u001b[0m                                Traceback (most recent call last)",
      "Cell \u001b[1;32mIn[62], line 2\u001b[0m\n\u001b[0;32m      1\u001b[0m workers \u001b[39m=\u001b[39m [\u001b[39m'\u001b[39m\u001b[39mIvan\u001b[39m\u001b[39m'\u001b[39m, \u001b[39m'\u001b[39m\u001b[39mNikita\u001b[39m\u001b[39m'\u001b[39m, \u001b[39m'\u001b[39m\u001b[39mMaria\u001b[39m\u001b[39m'\u001b[39m, \u001b[39m'\u001b[39m\u001b[39mJohn\u001b[39m\u001b[39m'\u001b[39m, \u001b[39m'\u001b[39m\u001b[39mKate\u001b[39m\u001b[39m'\u001b[39m]\n\u001b[1;32m----> 2\u001b[0m choice \u001b[39m=\u001b[39m np\u001b[39m.\u001b[39;49mrandom\u001b[39m.\u001b[39;49mchoice(workers, size\u001b[39m=\u001b[39;49m\u001b[39m10\u001b[39;49m, replace\u001b[39m=\u001b[39;49m\u001b[39mFalse\u001b[39;49;00m)\n\u001b[0;32m      3\u001b[0m \u001b[39mprint\u001b[39m(choice)\n",
      "File \u001b[1;32mmtrand.pyx:984\u001b[0m, in \u001b[0;36mnumpy.random.mtrand.RandomState.choice\u001b[1;34m()\u001b[0m\n",
      "\u001b[1;31mValueError\u001b[0m: Cannot take a larger sample than population when 'replace=False'"
     ]
    }
   ],
   "source": [
    "workers = ['Ivan', 'Nikita', 'Maria', 'John', 'Kate']\n",
    "choice = np.random.choice(workers, size=10, replace=False)\n",
    "print(choice)"
   ]
  },
  {
   "cell_type": "code",
   "execution_count": 74,
   "metadata": {},
   "outputs": [
    {
     "name": "stdout",
     "output_type": "stream",
     "text": [
      "[2 2 6 1 4 3 4 4 6 5]\n"
     ]
    }
   ],
   "source": [
    "choice = np.random.choice([1, 2, 3, 4, 5, 6], size=10)\n",
    "print(choice)"
   ]
  },
  {
   "attachments": {},
   "cell_type": "markdown",
   "metadata": {},
   "source": [
    "#### SEED ГЕНЕРАТОРА ПСЕВДОСЛУЧАЙНЫХ ЧИСЕЛ"
   ]
  },
  {
   "cell_type": "code",
   "execution_count": 80,
   "metadata": {},
   "outputs": [
    {
     "data": {
      "text/plain": [
       "array([[3, 6, 8, 9],\n",
       "       [6, 8, 7, 9],\n",
       "       [3, 6, 1, 2]])"
      ]
     },
     "execution_count": 80,
     "metadata": {},
     "output_type": "execute_result"
    }
   ],
   "source": [
    "np.random.seed(23)\n",
    "np.random.randint(10, size=(3,4))"
   ]
  },
  {
   "cell_type": "code",
   "execution_count": 84,
   "metadata": {},
   "outputs": [
    {
     "name": "stdout",
     "output_type": "stream",
     "text": [
      "[8 8 3]\n",
      "[7 7 0]\n",
      "[4 2 5]\n"
     ]
    }
   ],
   "source": [
    "np.random.seed(100)\n",
    "print(np.random.randint(10, size=3))\n",
    "print(np.random.randint(10, size=3))\n",
    "print(np.random.randint(10, size=3))"
   ]
  },
  {
   "cell_type": "code",
   "execution_count": 94,
   "metadata": {},
   "outputs": [
    {
     "data": {
      "text/plain": [
       "array([[0., 0.],\n",
       "       [0., 0.]])"
      ]
     },
     "execution_count": 94,
     "metadata": {},
     "output_type": "execute_result"
    }
   ],
   "source": [
    "chess = np.zeros((2,2))\n",
    "chess\n"
   ]
  },
  {
   "cell_type": "code",
   "execution_count": 141,
   "metadata": {},
   "outputs": [
    {
     "data": {
      "text/plain": [
       "array([[0., 1., 0., 1.],\n",
       "       [1., 0., 1., 0.],\n",
       "       [0., 1., 0., 1.],\n",
       "       [1., 0., 1., 0.]])"
      ]
     },
     "execution_count": 141,
     "metadata": {},
     "output_type": "execute_result"
    }
   ],
   "source": [
    "\n",
    "def get_chess(a):\n",
    "    chess = np.zeros((a, a))\n",
    "    if a == 1:\n",
    "        return chess\n",
    "    else:\n",
    "        chess[::2,1::2] = 1\n",
    "        chess[1::2,::2] = 1\n",
    "        return chess\n",
    "\n",
    "get_chess(1)\n",
    "# array([[0.]])\n",
    "\n",
    "get_chess(4)\n",
    "# array([[0., 1., 0., 1.],\n",
    "#        [1., 0., 1., 0.],\n",
    "#        [0., 1., 0., 1.],\n",
    "#        [1., 0., 1., 0.]])"
   ]
  },
  {
   "cell_type": "code",
   "execution_count": 155,
   "metadata": {},
   "outputs": [
    {
     "data": {
      "text/plain": [
       "(array([3, 1, 2, 4, 5]), 3133032578)"
      ]
     },
     "execution_count": 155,
     "metadata": {},
     "output_type": "execute_result"
    }
   ],
   "source": [
    "array = [1, 2, 3, 4, 5]\n",
    "\n",
    "def shuffle_seed(array):\n",
    "    seed = np.random.randint(0, (2**32), dtype=np.uint32)\n",
    "    np.random.seed(seed)\n",
    "    shuffled = np.random.permutation(array)\n",
    "    return (shuffled, seed)\n",
    "\n",
    "\n",
    "\n",
    "shuffle_seed(array)\n",
    "# (array([1, 3, 2, 4, 5]), 2332342819)\n",
    "shuffle_seed(array)\n",
    "# (array([4, 5, 2, 3, 1]), 4155165971)"
   ]
  },
  {
   "cell_type": "code",
   "execution_count": 162,
   "metadata": {},
   "outputs": [
    {
     "name": "stdout",
     "output_type": "stream",
     "text": [
      "3\n",
      "0 1 2\n"
     ]
    },
    {
     "data": {
      "text/plain": [
       "(5.196152422706632, 10.392304845413264)"
      ]
     },
     "execution_count": 162,
     "metadata": {},
     "output_type": "execute_result"
    }
   ],
   "source": [
    "def min_max_dist(*vectors):\n",
    "    dists = list()\n",
    "    print(len(vectors))\n",
    "    print(*range(len(vectors)))\n",
    "    for i in range(len(vectors)):\n",
    "        for j in range(i + 1, len(vectors)):\n",
    "            dists.append(np.linalg.norm(vectors[i] - vectors[j]))\n",
    "    return (min(dists), max(dists))\n",
    "\n",
    "\n",
    "vec1 = np.array([1,2,3])\n",
    "vec2 = np.array([4,5,6])\n",
    "vec3 = np.array([7, 8, 9])\n",
    " \n",
    "min_max_dist(vec1, vec2, vec3)\n",
    "# (5.196152422706632, 10.392304845413264)"
   ]
  },
  {
   "attachments": {},
   "cell_type": "markdown",
   "metadata": {},
   "source": [
    "#### 10.9"
   ]
  },
  {
   "attachments": {},
   "cell_type": "markdown",
   "metadata": {},
   "source": [
    "Напишите функцию any_normal, которая принимает на вход неограниченное число векторов через запятую. Гарантируется, что все векторы, которые передаются, одинаковой длины.\n",
    "\n",
    "Функция возвращает True, если есть хотя бы одна пара перпендикулярных векторов. Иначе возвращает False."
   ]
  },
  {
   "cell_type": "code",
   "execution_count": 168,
   "metadata": {},
   "outputs": [
    {
     "name": "stdout",
     "output_type": "stream",
     "text": [
      "True\n"
     ]
    }
   ],
   "source": [
    "def any_normal(*vectors):\n",
    "    for i in range(len(vectors)):\n",
    "        for j in range(i + 1, len(vectors)):\n",
    "            if np.dot(vectors[i] , vectors[j]) == 0:\n",
    "                return True\n",
    "    return False\n",
    "\n",
    "\n",
    "vec1 = np.array([2, 1])\n",
    "vec2 = np.array([-1, 2])\n",
    "vec3 = np.array([3,4])\n",
    "print(any_normal(vec1, vec2, vec3))"
   ]
  },
  {
   "cell_type": "code",
   "execution_count": 174,
   "metadata": {},
   "outputs": [
    {
     "data": {
      "text/plain": [
       "array([[[ 59,  63,  77,  61,  61],\n",
       "        [ 66,  27,  39,   7,  89],\n",
       "        [ 91,  30,  19,  39,  61],\n",
       "        [ 15,  25,  43,  46,  27],\n",
       "        [ 19,  18,  45,  41,  86]],\n",
       "\n",
       "       [[ 78,  59,  79,  85,  37],\n",
       "        [ 23,  77,  36,   6,   5],\n",
       "        [ 13,  72,  98,  13,   1],\n",
       "        [ 19,  75,  92,  63,  98],\n",
       "        [ 25,  41,  82, 100,  51]],\n",
       "\n",
       "       [[ 63,   4,  81,  22,  68],\n",
       "        [  1,  49,   8,  77,  78],\n",
       "        [ 23,  21,  43,  65,  15],\n",
       "        [ 36,  70,  16,  17,  66],\n",
       "        [ 82,  64,  85,  69,  32]]])"
      ]
     },
     "execution_count": 174,
     "metadata": {},
     "output_type": "execute_result"
    }
   ],
   "source": [
    "def get_loto(num):\n",
    "    arr = np.random.randint(1, 101, size=(num,5,5))\n",
    "    return arr\n",
    "\n",
    "get_loto(3)"
   ]
  },
  {
   "cell_type": "code",
   "execution_count": 185,
   "metadata": {},
   "outputs": [
    {
     "data": {
      "text/plain": [
       "array([[[ 81,  60,  96,  53,  87],\n",
       "        [ 24,  82,  21,  46,  20],\n",
       "        [ 49,  73,  52,  80,  61],\n",
       "        [  4,  33,   9,  29,  47],\n",
       "        [ 11,  37,  48,  51, 100]],\n",
       "\n",
       "       [[ 18,  17,  19,  52,  11],\n",
       "        [ 86,   4,  91,  47,  88],\n",
       "        [  5,  67,  68,  90,  25],\n",
       "        [ 85,  54,  38,  87,  16],\n",
       "        [ 39,  26,  53,  28,  42]],\n",
       "\n",
       "       [[ 75,   6,  32,  23,  49],\n",
       "        [ 15,  99,  47,  85,  57],\n",
       "        [ 67,  53,  51,  38,  73],\n",
       "        [ 31,  72,  91,  20,   7],\n",
       "        [ 83,  44,  89,  79,  55]]])"
      ]
     },
     "execution_count": 185,
     "metadata": {},
     "output_type": "execute_result"
    }
   ],
   "source": [
    "def get_unique_loto(num):\n",
    "    sample = np.arange(1, 101)\n",
    "    res = list()\n",
    "    for i in range(num):\n",
    "        res.append(np.random.choice(sample, replace=False, size=(5, 5)))\n",
    "    res = np.array(res)\n",
    "    return res\n",
    "\n",
    "get_unique_loto(3)"
   ]
  }
 ],
 "metadata": {
  "kernelspec": {
   "display_name": "Python 3",
   "language": "python",
   "name": "python3"
  },
  "language_info": {
   "codemirror_mode": {
    "name": "ipython",
    "version": 3
   },
   "file_extension": ".py",
   "mimetype": "text/x-python",
   "name": "python",
   "nbconvert_exporter": "python",
   "pygments_lexer": "ipython3",
   "version": "3.11.0 (main, Oct 24 2022, 18:26:48) [MSC v.1933 64 bit (AMD64)]"
  },
  "orig_nbformat": 4,
  "vscode": {
   "interpreter": {
    "hash": "e3299a7030a8b02d12a33ef7101833709f82c70f660050a67debf86c0af4d4b1"
   }
  }
 },
 "nbformat": 4,
 "nbformat_minor": 2
}
