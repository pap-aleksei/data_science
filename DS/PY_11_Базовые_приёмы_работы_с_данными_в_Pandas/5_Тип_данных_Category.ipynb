{
 "cells": [
  {
   "cell_type": "code",
   "execution_count": 1,
   "metadata": {},
   "outputs": [],
   "source": [
    "import pandas as pd\n",
    "melb_df = pd.read_csv('data/melb_data_ps_4.csv', sep=',')"
   ]
  },
  {
   "cell_type": "code",
   "execution_count": 2,
   "metadata": {},
   "outputs": [],
   "source": [
    "unique_list = []"
   ]
  },
  {
   "cell_type": "code",
   "execution_count": 3,
   "metadata": {},
   "outputs": [],
   "source": [
    "for col in melb_df.columns:\n",
    "    item = (col, melb_df[col].nunique(),melb_df[col].dtype)\n",
    "    unique_list.append(item)"
   ]
  },
  {
   "cell_type": "code",
   "execution_count": 4,
   "metadata": {},
   "outputs": [],
   "source": [
    "unique_counts = pd.DataFrame(\n",
    "    unique_list,\n",
    "    columns=['Column_Name', 'Num_Unique', 'Type']\n",
    ").sort_values(by='Num_Unique', ignore_index=True, ascending=True)"
   ]
  },
  {
   "cell_type": "code",
   "execution_count": 5,
   "metadata": {},
   "outputs": [
    {
     "data": {
      "text/html": [
       "<div>\n",
       "<style scoped>\n",
       "    .dataframe tbody tr th:only-of-type {\n",
       "        vertical-align: middle;\n",
       "    }\n",
       "\n",
       "    .dataframe tbody tr th {\n",
       "        vertical-align: top;\n",
       "    }\n",
       "\n",
       "    .dataframe thead th {\n",
       "        text-align: right;\n",
       "    }\n",
       "</style>\n",
       "<table border=\"1\" class=\"dataframe\">\n",
       "  <thead>\n",
       "    <tr style=\"text-align: right;\">\n",
       "      <th></th>\n",
       "      <th>Column_Name</th>\n",
       "      <th>Num_Unique</th>\n",
       "      <th>Type</th>\n",
       "    </tr>\n",
       "  </thead>\n",
       "  <tbody>\n",
       "    <tr>\n",
       "      <th>0</th>\n",
       "      <td>Weekend</td>\n",
       "      <td>2</td>\n",
       "      <td>int64</td>\n",
       "    </tr>\n",
       "    <tr>\n",
       "      <th>1</th>\n",
       "      <td>Type</td>\n",
       "      <td>3</td>\n",
       "      <td>object</td>\n",
       "    </tr>\n",
       "    <tr>\n",
       "      <th>2</th>\n",
       "      <td>WeekdaySale</td>\n",
       "      <td>5</td>\n",
       "      <td>int64</td>\n",
       "    </tr>\n",
       "    <tr>\n",
       "      <th>3</th>\n",
       "      <td>Method</td>\n",
       "      <td>5</td>\n",
       "      <td>object</td>\n",
       "    </tr>\n",
       "    <tr>\n",
       "      <th>4</th>\n",
       "      <td>Regionname</td>\n",
       "      <td>8</td>\n",
       "      <td>object</td>\n",
       "    </tr>\n",
       "    <tr>\n",
       "      <th>5</th>\n",
       "      <td>Rooms</td>\n",
       "      <td>9</td>\n",
       "      <td>int64</td>\n",
       "    </tr>\n",
       "    <tr>\n",
       "      <th>6</th>\n",
       "      <td>Bathroom</td>\n",
       "      <td>9</td>\n",
       "      <td>int64</td>\n",
       "    </tr>\n",
       "    <tr>\n",
       "      <th>7</th>\n",
       "      <td>StreetType</td>\n",
       "      <td>11</td>\n",
       "      <td>object</td>\n",
       "    </tr>\n",
       "    <tr>\n",
       "      <th>8</th>\n",
       "      <td>Car</td>\n",
       "      <td>11</td>\n",
       "      <td>int64</td>\n",
       "    </tr>\n",
       "    <tr>\n",
       "      <th>9</th>\n",
       "      <td>Bedroom</td>\n",
       "      <td>12</td>\n",
       "      <td>int64</td>\n",
       "    </tr>\n",
       "    <tr>\n",
       "      <th>10</th>\n",
       "      <td>MonthSale</td>\n",
       "      <td>12</td>\n",
       "      <td>int64</td>\n",
       "    </tr>\n",
       "    <tr>\n",
       "      <th>11</th>\n",
       "      <td>CouncilArea</td>\n",
       "      <td>33</td>\n",
       "      <td>object</td>\n",
       "    </tr>\n",
       "    <tr>\n",
       "      <th>12</th>\n",
       "      <td>SellerG</td>\n",
       "      <td>50</td>\n",
       "      <td>object</td>\n",
       "    </tr>\n",
       "    <tr>\n",
       "      <th>13</th>\n",
       "      <td>Date</td>\n",
       "      <td>58</td>\n",
       "      <td>object</td>\n",
       "    </tr>\n",
       "    <tr>\n",
       "      <th>14</th>\n",
       "      <td>AgeBuilding</td>\n",
       "      <td>152</td>\n",
       "      <td>int64</td>\n",
       "    </tr>\n",
       "    <tr>\n",
       "      <th>15</th>\n",
       "      <td>Postcode</td>\n",
       "      <td>198</td>\n",
       "      <td>int64</td>\n",
       "    </tr>\n",
       "    <tr>\n",
       "      <th>16</th>\n",
       "      <td>Distance</td>\n",
       "      <td>202</td>\n",
       "      <td>float64</td>\n",
       "    </tr>\n",
       "    <tr>\n",
       "      <th>17</th>\n",
       "      <td>Propertycount</td>\n",
       "      <td>311</td>\n",
       "      <td>int64</td>\n",
       "    </tr>\n",
       "    <tr>\n",
       "      <th>18</th>\n",
       "      <td>Suburb</td>\n",
       "      <td>314</td>\n",
       "      <td>object</td>\n",
       "    </tr>\n",
       "    <tr>\n",
       "      <th>19</th>\n",
       "      <td>BuildingArea</td>\n",
       "      <td>602</td>\n",
       "      <td>float64</td>\n",
       "    </tr>\n",
       "    <tr>\n",
       "      <th>20</th>\n",
       "      <td>MeanRoomsSquare</td>\n",
       "      <td>1275</td>\n",
       "      <td>float64</td>\n",
       "    </tr>\n",
       "    <tr>\n",
       "      <th>21</th>\n",
       "      <td>Landsize</td>\n",
       "      <td>1448</td>\n",
       "      <td>float64</td>\n",
       "    </tr>\n",
       "    <tr>\n",
       "      <th>22</th>\n",
       "      <td>Price</td>\n",
       "      <td>2204</td>\n",
       "      <td>float64</td>\n",
       "    </tr>\n",
       "    <tr>\n",
       "      <th>23</th>\n",
       "      <td>Lattitude</td>\n",
       "      <td>6503</td>\n",
       "      <td>float64</td>\n",
       "    </tr>\n",
       "    <tr>\n",
       "      <th>24</th>\n",
       "      <td>AreaRatio</td>\n",
       "      <td>6521</td>\n",
       "      <td>float64</td>\n",
       "    </tr>\n",
       "    <tr>\n",
       "      <th>25</th>\n",
       "      <td>Longtitude</td>\n",
       "      <td>7063</td>\n",
       "      <td>float64</td>\n",
       "    </tr>\n",
       "    <tr>\n",
       "      <th>26</th>\n",
       "      <td>Unnamed: 0</td>\n",
       "      <td>13580</td>\n",
       "      <td>int64</td>\n",
       "    </tr>\n",
       "    <tr>\n",
       "      <th>27</th>\n",
       "      <td>Unnamed: 0.1</td>\n",
       "      <td>13580</td>\n",
       "      <td>int64</td>\n",
       "    </tr>\n",
       "    <tr>\n",
       "      <th>28</th>\n",
       "      <td>Unnamed: 0.2</td>\n",
       "      <td>13580</td>\n",
       "      <td>int64</td>\n",
       "    </tr>\n",
       "  </tbody>\n",
       "</table>\n",
       "</div>"
      ],
      "text/plain": [
       "        Column_Name  Num_Unique     Type\n",
       "0           Weekend           2    int64\n",
       "1              Type           3   object\n",
       "2       WeekdaySale           5    int64\n",
       "3            Method           5   object\n",
       "4        Regionname           8   object\n",
       "5             Rooms           9    int64\n",
       "6          Bathroom           9    int64\n",
       "7        StreetType          11   object\n",
       "8               Car          11    int64\n",
       "9           Bedroom          12    int64\n",
       "10        MonthSale          12    int64\n",
       "11      CouncilArea          33   object\n",
       "12          SellerG          50   object\n",
       "13             Date          58   object\n",
       "14      AgeBuilding         152    int64\n",
       "15         Postcode         198    int64\n",
       "16         Distance         202  float64\n",
       "17    Propertycount         311    int64\n",
       "18           Suburb         314   object\n",
       "19     BuildingArea         602  float64\n",
       "20  MeanRoomsSquare        1275  float64\n",
       "21         Landsize        1448  float64\n",
       "22            Price        2204  float64\n",
       "23        Lattitude        6503  float64\n",
       "24        AreaRatio        6521  float64\n",
       "25       Longtitude        7063  float64\n",
       "26       Unnamed: 0       13580    int64\n",
       "27     Unnamed: 0.1       13580    int64\n",
       "28     Unnamed: 0.2       13580    int64"
      ]
     },
     "metadata": {},
     "output_type": "display_data"
    }
   ],
   "source": [
    "display(unique_counts)"
   ]
  },
  {
   "cell_type": "markdown",
   "metadata": {},
   "source": [
    "#### ТИП ДАННЫХ CATEGORY"
   ]
  },
  {
   "cell_type": "code",
   "execution_count": 6,
   "metadata": {},
   "outputs": [
    {
     "name": "stdout",
     "output_type": "stream",
     "text": [
      "<class 'pandas.core.frame.DataFrame'>\n",
      "RangeIndex: 13580 entries, 0 to 13579\n",
      "Data columns (total 29 columns):\n",
      " #   Column           Non-Null Count  Dtype  \n",
      "---  ------           --------------  -----  \n",
      " 0   Unnamed: 0.2     13580 non-null  int64  \n",
      " 1   Unnamed: 0.1     13580 non-null  int64  \n",
      " 2   Unnamed: 0       13580 non-null  int64  \n",
      " 3   Suburb           13580 non-null  object \n",
      " 4   Rooms            13580 non-null  int64  \n",
      " 5   Type             13580 non-null  object \n",
      " 6   Price            13580 non-null  float64\n",
      " 7   Method           13580 non-null  object \n",
      " 8   SellerG          13580 non-null  object \n",
      " 9   Date             13580 non-null  object \n",
      " 10  Distance         13580 non-null  float64\n",
      " 11  Postcode         13580 non-null  int64  \n",
      " 12  Bedroom          13580 non-null  int64  \n",
      " 13  Bathroom         13580 non-null  int64  \n",
      " 14  Car              13580 non-null  int64  \n",
      " 15  Landsize         13580 non-null  float64\n",
      " 16  BuildingArea     13580 non-null  float64\n",
      " 17  CouncilArea      12211 non-null  object \n",
      " 18  Lattitude        13580 non-null  float64\n",
      " 19  Longtitude       13580 non-null  float64\n",
      " 20  Regionname       13580 non-null  object \n",
      " 21  Propertycount    13580 non-null  int64  \n",
      " 22  MeanRoomsSquare  13580 non-null  float64\n",
      " 23  AreaRatio        13580 non-null  float64\n",
      " 24  MonthSale        13580 non-null  int64  \n",
      " 25  AgeBuilding      13580 non-null  int64  \n",
      " 26  WeekdaySale      13580 non-null  int64  \n",
      " 27  StreetType       13580 non-null  object \n",
      " 28  Weekend          13580 non-null  int64  \n",
      "dtypes: float64(8), int64(13), object(8)\n",
      "memory usage: 3.0+ MB\n"
     ]
    },
    {
     "data": {
      "text/plain": [
       "None"
      ]
     },
     "metadata": {},
     "output_type": "display_data"
    }
   ],
   "source": [
    "display(melb_df.info())"
   ]
  },
  {
   "cell_type": "code",
   "execution_count": 7,
   "metadata": {},
   "outputs": [
    {
     "name": "stdout",
     "output_type": "stream",
     "text": [
      "<class 'pandas.core.frame.DataFrame'>\n",
      "RangeIndex: 13580 entries, 0 to 13579\n",
      "Data columns (total 29 columns):\n",
      " #   Column           Non-Null Count  Dtype   \n",
      "---  ------           --------------  -----   \n",
      " 0   Unnamed: 0.2     13580 non-null  int64   \n",
      " 1   Unnamed: 0.1     13580 non-null  int64   \n",
      " 2   Unnamed: 0       13580 non-null  int64   \n",
      " 3   Suburb           13580 non-null  object  \n",
      " 4   Rooms            13580 non-null  int64   \n",
      " 5   Type             13580 non-null  category\n",
      " 6   Price            13580 non-null  float64 \n",
      " 7   Method           13580 non-null  category\n",
      " 8   SellerG          13580 non-null  category\n",
      " 9   Date             13580 non-null  object  \n",
      " 10  Distance         13580 non-null  float64 \n",
      " 11  Postcode         13580 non-null  int64   \n",
      " 12  Bedroom          13580 non-null  int64   \n",
      " 13  Bathroom         13580 non-null  int64   \n",
      " 14  Car              13580 non-null  int64   \n",
      " 15  Landsize         13580 non-null  float64 \n",
      " 16  BuildingArea     13580 non-null  float64 \n",
      " 17  CouncilArea      12211 non-null  category\n",
      " 18  Lattitude        13580 non-null  float64 \n",
      " 19  Longtitude       13580 non-null  float64 \n",
      " 20  Regionname       13580 non-null  category\n",
      " 21  Propertycount    13580 non-null  int64   \n",
      " 22  MeanRoomsSquare  13580 non-null  float64 \n",
      " 23  AreaRatio        13580 non-null  float64 \n",
      " 24  MonthSale        13580 non-null  category\n",
      " 25  AgeBuilding      13580 non-null  int64   \n",
      " 26  WeekdaySale      13580 non-null  category\n",
      " 27  StreetType       13580 non-null  category\n",
      " 28  Weekend          13580 non-null  category\n",
      "dtypes: category(9), float64(8), int64(10), object(2)\n",
      "memory usage: 2.2+ MB\n"
     ]
    },
    {
     "data": {
      "text/plain": [
       "None"
      ]
     },
     "metadata": {},
     "output_type": "display_data"
    }
   ],
   "source": [
    "cols_to_exclude = ['Date', 'Rooms', 'Bedroom', 'Bathroom', 'Car']\n",
    "max_uniq_count = 150\n",
    "for col in melb_df.columns:\n",
    "    if melb_df[col].nunique() < max_uniq_count and col not in cols_to_exclude:\n",
    "        melb_df[col] = melb_df[col].astype('category')\n",
    "display(melb_df.info())"
   ]
  },
  {
   "cell_type": "markdown",
   "metadata": {},
   "source": [
    "##### ПОЛУЧЕНИЕ АТРИБУТОВ CATEGORY"
   ]
  },
  {
   "cell_type": "code",
   "execution_count": 8,
   "metadata": {},
   "outputs": [
    {
     "name": "stdout",
     "output_type": "stream",
     "text": [
      "Index(['Eastern Metropolitan', 'Eastern Victoria', 'Northern Metropolitan',\n",
      "       'Northern Victoria', 'South-Eastern Metropolitan',\n",
      "       'Southern Metropolitan', 'Western Metropolitan', 'Western Victoria'],\n",
      "      dtype='object')\n"
     ]
    }
   ],
   "source": [
    "print(melb_df['Regionname'].cat.categories)"
   ]
  },
  {
   "cell_type": "code",
   "execution_count": 9,
   "metadata": {},
   "outputs": [
    {
     "name": "stdout",
     "output_type": "stream",
     "text": [
      "0        2\n",
      "1        2\n",
      "2        2\n",
      "3        2\n",
      "4        2\n",
      "        ..\n",
      "13575    4\n",
      "13576    6\n",
      "13577    6\n",
      "13578    6\n",
      "13579    6\n",
      "Length: 13580, dtype: int8\n"
     ]
    }
   ],
   "source": [
    "print(melb_df['Regionname'].cat.codes)"
   ]
  },
  {
   "cell_type": "code",
   "execution_count": 10,
   "metadata": {},
   "outputs": [],
   "source": [
    "melb_df['Type'] = melb_df['Type'].cat.rename_categories({\n",
    "    'u': 'unit',\n",
    "    't': 'townhouse',\n",
    "    'h': 'house'\n",
    "})"
   ]
  },
  {
   "cell_type": "code",
   "execution_count": 11,
   "metadata": {},
   "outputs": [
    {
     "data": {
      "text/plain": [
       "0        house\n",
       "1        house\n",
       "2        house\n",
       "3        house\n",
       "4        house\n",
       "         ...  \n",
       "13575    house\n",
       "13576    house\n",
       "13577    house\n",
       "13578    house\n",
       "13579    house\n",
       "Name: Type, Length: 13580, dtype: category\n",
       "Categories (3, object): ['house', 'townhouse', 'unit']"
      ]
     },
     "metadata": {},
     "output_type": "display_data"
    }
   ],
   "source": [
    "display(melb_df['Type'])"
   ]
  },
  {
   "cell_type": "code",
   "execution_count": 12,
   "metadata": {},
   "outputs": [
    {
     "data": {
      "text/plain": [
       "0     unit\n",
       "1    house\n",
       "2      NaN\n",
       "3      NaN\n",
       "4    house\n",
       "dtype: category\n",
       "Categories (3, object): ['house', 'townhouse', 'unit']"
      ]
     },
     "metadata": {},
     "output_type": "display_data"
    }
   ],
   "source": [
    "new_houses_types = pd.Series(['unit', 'house', 'flat', 'flat', 'house'])\n",
    "new_houses_types = new_houses_types.astype(melb_df['Type'].dtype)\n",
    "display(new_houses_types)"
   ]
  },
  {
   "cell_type": "code",
   "execution_count": 13,
   "metadata": {},
   "outputs": [
    {
     "data": {
      "text/plain": [
       "0     unit\n",
       "1    house\n",
       "2     flat\n",
       "3     flat\n",
       "4    house\n",
       "dtype: category\n",
       "Categories (4, object): ['house', 'townhouse', 'unit', 'flat']"
      ]
     },
     "metadata": {},
     "output_type": "display_data"
    }
   ],
   "source": [
    "melb_df['Type'] = melb_df['Type'].cat.add_categories('flat')\n",
    "new_houses_types = pd.Series(['unit', 'house', 'flat', 'flat', 'house'])\n",
    "new_houses_types = new_houses_types.astype(melb_df['Type'].dtype)\n",
    "display(new_houses_types)"
   ]
  },
  {
   "cell_type": "code",
   "execution_count": 14,
   "metadata": {},
   "outputs": [
    {
     "name": "stdout",
     "output_type": "stream",
     "text": [
      "<class 'pandas.core.frame.DataFrame'>\n",
      "RangeIndex: 13580 entries, 0 to 13579\n",
      "Data columns (total 29 columns):\n",
      " #   Column           Non-Null Count  Dtype   \n",
      "---  ------           --------------  -----   \n",
      " 0   Unnamed: 0.2     13580 non-null  int64   \n",
      " 1   Unnamed: 0.1     13580 non-null  int64   \n",
      " 2   Unnamed: 0       13580 non-null  int64   \n",
      " 3   Suburb           13580 non-null  object  \n",
      " 4   Rooms            13580 non-null  int64   \n",
      " 5   Type             13580 non-null  category\n",
      " 6   Price            13580 non-null  float64 \n",
      " 7   Method           13580 non-null  category\n",
      " 8   SellerG          13580 non-null  category\n",
      " 9   Date             13580 non-null  object  \n",
      " 10  Distance         13580 non-null  float64 \n",
      " 11  Postcode         13580 non-null  int64   \n",
      " 12  Bedroom          13580 non-null  int64   \n",
      " 13  Bathroom         13580 non-null  int64   \n",
      " 14  Car              13580 non-null  int64   \n",
      " 15  Landsize         13580 non-null  float64 \n",
      " 16  BuildingArea     13580 non-null  float64 \n",
      " 17  CouncilArea      12211 non-null  category\n",
      " 18  Lattitude        13580 non-null  float64 \n",
      " 19  Longtitude       13580 non-null  float64 \n",
      " 20  Regionname       13580 non-null  category\n",
      " 21  Propertycount    13580 non-null  int64   \n",
      " 22  MeanRoomsSquare  13580 non-null  float64 \n",
      " 23  AreaRatio        13580 non-null  float64 \n",
      " 24  MonthSale        13580 non-null  category\n",
      " 25  AgeBuilding      13580 non-null  int64   \n",
      " 26  WeekdaySale      13580 non-null  category\n",
      " 27  StreetType       13580 non-null  category\n",
      " 28  Weekend          13580 non-null  category\n",
      "dtypes: category(9), float64(8), int64(10), object(2)\n",
      "memory usage: 2.2+ MB\n"
     ]
    }
   ],
   "source": [
    "melb_df.info()"
   ]
  },
  {
   "cell_type": "code",
   "execution_count": 15,
   "metadata": {},
   "outputs": [
    {
     "name": "stdout",
     "output_type": "stream",
     "text": [
      "Index(['Reservoir', 'Richmond', 'Bentleigh East', 'Preston', 'Brunswick',\n",
      "       'Essendon', 'South Yarra', 'Glen Iris', 'Hawthorn', 'Coburg',\n",
      "       ...\n",
      "       'Albion', 'Hoppers Crossing', 'Sunbury', 'Greensborough', 'Bundoora',\n",
      "       'Hughesdale', 'Chadstone', 'Caulfield North', 'Mont Albert',\n",
      "       'Alphington'],\n",
      "      dtype='object', length=119)\n"
     ]
    }
   ],
   "source": [
    "suburb_n = melb_df['Suburb'].value_counts().nlargest(119).index\n",
    "print(suburb_n)"
   ]
  },
  {
   "cell_type": "code",
   "execution_count": 16,
   "metadata": {},
   "outputs": [],
   "source": [
    "melb_df['Suburb'] = melb_df['Suburb'].apply(lambda x: x if x in suburb_n else 'other')"
   ]
  },
  {
   "cell_type": "code",
   "execution_count": 18,
   "metadata": {},
   "outputs": [
    {
     "data": {
      "text/plain": [
       "120"
      ]
     },
     "metadata": {},
     "output_type": "display_data"
    }
   ],
   "source": [
    "display(melb_df['Suburb'].nunique())"
   ]
  },
  {
   "cell_type": "code",
   "execution_count": 22,
   "metadata": {},
   "outputs": [
    {
     "name": "stdout",
     "output_type": "stream",
     "text": [
      "<class 'pandas.core.frame.DataFrame'>\n",
      "RangeIndex: 13580 entries, 0 to 13579\n",
      "Data columns (total 29 columns):\n",
      " #   Column           Non-Null Count  Dtype   \n",
      "---  ------           --------------  -----   \n",
      " 0   Unnamed: 0.2     13580 non-null  int64   \n",
      " 1   Unnamed: 0.1     13580 non-null  int64   \n",
      " 2   Unnamed: 0       13580 non-null  int64   \n",
      " 3   Suburb           13580 non-null  category\n",
      " 4   Rooms            13580 non-null  int64   \n",
      " 5   Type             13580 non-null  category\n",
      " 6   Price            13580 non-null  float64 \n",
      " 7   Method           13580 non-null  category\n",
      " 8   SellerG          13580 non-null  category\n",
      " 9   Date             13580 non-null  object  \n",
      " 10  Distance         13580 non-null  float64 \n",
      " 11  Postcode         13580 non-null  int64   \n",
      " 12  Bedroom          13580 non-null  int64   \n",
      " 13  Bathroom         13580 non-null  int64   \n",
      " 14  Car              13580 non-null  int64   \n",
      " 15  Landsize         13580 non-null  float64 \n",
      " 16  BuildingArea     13580 non-null  float64 \n",
      " 17  CouncilArea      12211 non-null  category\n",
      " 18  Lattitude        13580 non-null  float64 \n",
      " 19  Longtitude       13580 non-null  float64 \n",
      " 20  Regionname       13580 non-null  category\n",
      " 21  Propertycount    13580 non-null  int64   \n",
      " 22  MeanRoomsSquare  13580 non-null  float64 \n",
      " 23  AreaRatio        13580 non-null  float64 \n",
      " 24  MonthSale        13580 non-null  category\n",
      " 25  AgeBuilding      13580 non-null  int64   \n",
      " 26  WeekdaySale      13580 non-null  category\n",
      " 27  StreetType       13580 non-null  category\n",
      " 28  Weekend          13580 non-null  category\n",
      "dtypes: category(10), float64(8), int64(10), object(1)\n",
      "memory usage: 2.1+ MB\n"
     ]
    }
   ],
   "source": [
    "melb_df['Suburb'] = melb_df['Suburb'].astype('category')\n",
    "melb_df.info()"
   ]
  },
  {
   "cell_type": "code",
   "execution_count": 23,
   "metadata": {},
   "outputs": [
    {
     "data": {
      "text/plain": [
       "0          Abbotsford\n",
       "1          Abbotsford\n",
       "2          Abbotsford\n",
       "3          Abbotsford\n",
       "4          Abbotsford\n",
       "             ...     \n",
       "13575           other\n",
       "13576    Williamstown\n",
       "13577    Williamstown\n",
       "13578    Williamstown\n",
       "13579      Yarraville\n",
       "Name: Suburb, Length: 13580, dtype: category\n",
       "Categories (120, object): ['Abbotsford', 'Aberfeldie', 'Airport West', 'Albert Park', ..., 'Williamstown', 'Windsor', 'Yarraville', 'other']"
      ]
     },
     "execution_count": 23,
     "metadata": {},
     "output_type": "execute_result"
    }
   ],
   "source": [
    "melb_df['Suburb']"
   ]
  },
  {
   "cell_type": "code",
   "execution_count": 24,
   "metadata": {},
   "outputs": [],
   "source": [
    "melb_df.to_csv('data/melb_data_ps_5.csv')"
   ]
  }
 ],
 "metadata": {
  "kernelspec": {
   "display_name": "Python 3.10.6 64-bit",
   "language": "python",
   "name": "python3"
  },
  "language_info": {
   "codemirror_mode": {
    "name": "ipython",
    "version": 3
   },
   "file_extension": ".py",
   "mimetype": "text/x-python",
   "name": "python",
   "nbconvert_exporter": "python",
   "pygments_lexer": "ipython3",
   "version": "3.10.6"
  },
  "orig_nbformat": 4,
  "vscode": {
   "interpreter": {
    "hash": "4f5b71cae98db677d4f54e4dda4b2ccf7413a5b519c978cf587b988d675adcb1"
   }
  }
 },
 "nbformat": 4,
 "nbformat_minor": 2
}
